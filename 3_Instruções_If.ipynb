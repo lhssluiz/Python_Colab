{
  "nbformat": 4,
  "nbformat_minor": 0,
  "metadata": {
    "colab": {
      "name": "3_Instruções If.ipynb",
      "provenance": [],
      "authorship_tag": "ABX9TyOPZmVy2QgneNFPJ22YQ7xu",
      "include_colab_link": true
    },
    "kernelspec": {
      "name": "python3",
      "display_name": "Python 3"
    }
  },
  "cells": [
    {
      "cell_type": "markdown",
      "metadata": {
        "id": "view-in-github",
        "colab_type": "text"
      },
      "source": [
        "<a href=\"https://colab.research.google.com/github/lhssluiz/Python_Colab/blob/main/3_Instru%C3%A7%C3%B5es_If.ipynb\" target=\"_parent\"><img src=\"https://colab.research.google.com/assets/colab-badge.svg\" alt=\"Open In Colab\"/></a>"
      ]
    },
    {
      "cell_type": "code",
      "metadata": {
        "colab": {
          "base_uri": "https://localhost:8080/"
        },
        "id": "mfknr1RTIBwY",
        "outputId": "536158d0-2ac9-44e9-973d-391135753b69"
      },
      "source": [
        "carros = ['audi', 'bmw', 'subaru','toyota']\n",
        "for cars in carros:\n",
        "  if cars =='bmw':\n",
        "    print(cars.upper())\n",
        "  else:\n",
        "    print(cars.title())\n"
      ],
      "execution_count": null,
      "outputs": [
        {
          "output_type": "stream",
          "text": [
            "Audi\n",
            "BMW\n",
            "Subaru\n",
            "Toyota\n"
          ],
          "name": "stdout"
        }
      ]
    },
    {
      "cell_type": "markdown",
      "metadata": {
        "id": "PHLvT4eJMNo0"
      },
      "source": [
        "#### Python é Case Sensitive\n",
        "Para fazer testes onde a diferenciação de minúsculas para maiúsculas não são importantes, é melhor colocar todas minúsculas"
      ]
    },
    {
      "cell_type": "code",
      "metadata": {
        "colab": {
          "base_uri": "https://localhost:8080/"
        },
        "id": "Zh6pvbIOMztE",
        "outputId": "f183a0b8-06ba-4987-c04a-85457ff58bae"
      },
      "source": [
        "# Requisição de pedido de ingrediente e teste\n",
        "ingrediente_pedido = 'cogumelos'\n",
        "if ingrediente_pedido != 'anchovas':\n",
        "  print(\"\\nSegura as anchovas\")  "
      ],
      "execution_count": null,
      "outputs": [
        {
          "output_type": "stream",
          "text": [
            "\n",
            "Segura as anchovas\n"
          ],
          "name": "stdout"
        }
      ]
    },
    {
      "cell_type": "code",
      "metadata": {
        "colab": {
          "base_uri": "https://localhost:8080/"
        },
        "id": "Yiwa4_nPQkLc",
        "outputId": "c0287827-3dd4-4d05-ac83-fcebf6bbcb6d"
      },
      "source": [
        "idade = 18\n",
        "idade == 18   # Esse é um modo de fazer testes sem o \"if\" e se colocar != ele testa se \"não é igual a constante neste caso\"\n",
        "idade != 18"
      ],
      "execution_count": null,
      "outputs": [
        {
          "output_type": "execute_result",
          "data": {
            "text/plain": [
              "False"
            ]
          },
          "metadata": {
            "tags": []
          },
          "execution_count": 4
        }
      ]
    },
    {
      "cell_type": "markdown",
      "metadata": {
        "id": "GVvF1zLjfWDQ"
      },
      "source": [
        "#### Verificar se um valor está numa lista ou não"
      ]
    },
    {
      "cell_type": "code",
      "metadata": {
        "colab": {
          "base_uri": "https://localhost:8080/"
        },
        "id": "FtVC59q0fb2W",
        "outputId": "1ff9d9b7-97c5-4849-9da0-18290c644337"
      },
      "source": [
        "ingredientes_pedidos = ['Queijo', 'Presunto', 'Molho']\n",
        "'palmito' in ingredientes_pedidos"
      ],
      "execution_count": null,
      "outputs": [
        {
          "output_type": "execute_result",
          "data": {
            "text/plain": [
              "False"
            ]
          },
          "metadata": {
            "tags": []
          },
          "execution_count": 5
        }
      ]
    },
    {
      "cell_type": "code",
      "metadata": {
        "colab": {
          "base_uri": "https://localhost:8080/"
        },
        "id": "pKn0xAZegUNj",
        "outputId": "674f52c5-7634-4d06-eacc-ecca2f4dd33d"
      },
      "source": [
        "### Verificar para o caso de nao estar na lista\n",
        "usuarios_banidos = ['Alex', 'João','Carla']\n",
        "user = 'Andressa'\n",
        "if user not in usuarios_banidos:\n",
        "  print(user.title() + \",you can post a response\")"
      ],
      "execution_count": null,
      "outputs": [
        {
          "output_type": "stream",
          "text": [
            "Andressa,you can post a response\n"
          ],
          "name": "stdout"
        }
      ]
    },
    {
      "cell_type": "markdown",
      "metadata": {
        "id": "LiQ2x8y7i2vZ"
      },
      "source": [
        "#### If-elif-else\n",
        "Comprar ingresso para idades diferentes"
      ]
    },
    {
      "cell_type": "code",
      "metadata": {
        "colab": {
          "base_uri": "https://localhost:8080/"
        },
        "id": "FJ5mbKCxi88Z",
        "outputId": "a074d375-ae51-463e-b4f9-eb751052b806"
      },
      "source": [
        "idade = 25\n",
        "if idade < 4:\n",
        "  print(\"Sua entrada é gratuita\")\n",
        "elif idade >= 4 and idade <= 18:\n",
        "  print(\"Sua entrada custa 5 USD\")\n",
        "else:\n",
        "  print(\"Sua entrada custa 10USD\")\n",
        "\n",
        "### Um modo mais sofisticado desse código seria\n",
        "if idade < 4:\n",
        "  print(\"[V2] Sua entrada é gratuita\")\n",
        "elif idade <18:\n",
        "  print(\"[V2] Sua entrada custa 5 USD\")\n",
        "else:\n",
        "  print(\"[V2] Sua entrada custa 10USD\")"
      ],
      "execution_count": null,
      "outputs": [
        {
          "output_type": "stream",
          "text": [
            "Sua entrada custa 10USD\n",
            "[V2] Sua entrada custa 10USD\n"
          ],
          "name": "stdout"
        }
      ]
    },
    {
      "cell_type": "code",
      "metadata": {
        "colab": {
          "base_uri": "https://localhost:8080/"
        },
        "id": "_Dj9LvFBlXDd",
        "outputId": "11eb1804-bf12-4d87-dc29-8a3f6691c648"
      },
      "source": [
        "### Tornando o código mais sofisticado ainda\n",
        "idade = 12\n",
        "if idade < 4:\n",
        "  preço = 0\n",
        "elif idade < 18:\n",
        "  preço = 5\n",
        "else:\n",
        "  preço = 10\n",
        "print(\"[V3] Sua entrada custará \" + str(preço) + \",00 R$\")"
      ],
      "execution_count": null,
      "outputs": [
        {
          "output_type": "stream",
          "text": [
            "[V3] Sua entrada custará 5,00 R$\n"
          ],
          "name": "stdout"
        }
      ]
    },
    {
      "cell_type": "code",
      "metadata": {
        "colab": {
          "base_uri": "https://localhost:8080/"
        },
        "id": "T4gD2QQgm3uO",
        "outputId": "a70da386-5435-41ea-9c8d-db7217fa0bc5"
      },
      "source": [
        "#### usando mais de um \"elif\"\n",
        "idade = 70\n",
        "if idade < 4:\n",
        "  preço = 0\n",
        "elif idade < 18:\n",
        "  preço = 5\n",
        "elif idade > 65:\n",
        "  preço = 3\n",
        "else:\n",
        "  preço = 10\n",
        "\n",
        "print(\"[V3] Sua entrada custará \" + str(preço) + \",00 R$\")"
      ],
      "execution_count": null,
      "outputs": [
        {
          "output_type": "stream",
          "text": [
            "[V3] Sua entrada custará 3,00 R$\n"
          ],
          "name": "stdout"
        }
      ]
    },
    {
      "cell_type": "code",
      "metadata": {
        "colab": {
          "base_uri": "https://localhost:8080/"
        },
        "id": "PJ32A79MnXRT",
        "outputId": "97c5cd2d-d3ef-4b15-aa74-85619767e7d3"
      },
      "source": [
        "#### O bloco \"else\" não é obrigatório, às vezes é melhor usar o \"elif\"\n",
        "#### para fechar o bloco, dado que podemos apontar uma condição para ele\n",
        "#### Além disto o \"elif\" garante que só as condições sejam testadas e \n",
        "#### obtenham resposta, já que o else aceita qualquer coisa fora daquelas condições\n",
        "idade = 70\n",
        "if idade < 4:\n",
        "  preço = 0\n",
        "elif idade < 18:\n",
        "  preço = 5\n",
        "elif idade < 65:\n",
        "  preço = 10\n",
        "elif idade >= 65:\n",
        "  preço = 3\n",
        "\n",
        "print(\"[V4] Sua entrada custará \" + str(preço) + \",00 R$\")"
      ],
      "execution_count": null,
      "outputs": [
        {
          "output_type": "stream",
          "text": [
            "[V4] Sua entrada custará 3,00 R$\n"
          ],
          "name": "stdout"
        }
      ]
    },
    {
      "cell_type": "code",
      "metadata": {
        "colab": {
          "base_uri": "https://localhost:8080/"
        },
        "id": "Pi8VPjEpocGx",
        "outputId": "b96f5bdd-176b-42d2-cf45-a67c89170c8c"
      },
      "source": [
        "#### Quando você quiser testar todas as condições independente de qualquer coisa\n",
        "#### E não quiser parar no meio como é previsto em \"elif\" então é mais adequado\n",
        "#### Usar somente \"ifs\" sem \"else\" e sem \"elif\"\n",
        "\n",
        "ingredientes_pedidos = ['Cogumelos', 'Queijo Extra']\n",
        "if 'Cogumelos' in ingredientes_pedidos:\n",
        "  print(\"Cogumelos foram adicionados\")\n",
        "if 'Arroz' in ingredientes_pedidos:\n",
        "  print(\"Adicionando Arroz\")\n",
        "if 'Queijo Extra' in ingredientes_pedidos:\n",
        "  print(\"Adicionando queijo extra\")\n",
        "print(\"Finalizamos a sua pizza\")"
      ],
      "execution_count": null,
      "outputs": [
        {
          "output_type": "stream",
          "text": [
            "Cogumelos foram adicionados\n",
            "Adicionando queijo extra\n",
            "Finalizamos a sua pizza\n"
          ],
          "name": "stdout"
        }
      ]
    },
    {
      "cell_type": "code",
      "metadata": {
        "colab": {
          "base_uri": "https://localhost:8080/"
        },
        "id": "Fhj-Dm0XqY5N",
        "outputId": "47b59c4f-06bf-43fb-f579-f61af74b6b9d"
      },
      "source": [
        "ingredientes_pedidos = ['Cogumelos', 'Queijo Extra', 'Pimenta','Molho']\n",
        "\n",
        "for ingredientes in ingredientes_pedidos:\n",
        "  print(\"Adicionando \" + ingredientes + \"!\")"
      ],
      "execution_count": null,
      "outputs": [
        {
          "output_type": "stream",
          "text": [
            "Adicionando Cogumelos!\n",
            "Adicionando Queijo Extra!\n",
            "Adicionando Pimenta!\n",
            "Adicionando Molho!\n"
          ],
          "name": "stdout"
        }
      ]
    },
    {
      "cell_type": "code",
      "metadata": {
        "colab": {
          "base_uri": "https://localhost:8080/"
        },
        "id": "B9X4F-MBrFnD",
        "outputId": "80ceb812-3e7b-4afc-e623-d4dba2d71f9f"
      },
      "source": [
        "### Se ficásse sem pimentões verdes\n",
        "ingredientes_pedidos = ['Cogumelos', 'Queijo Extra', 'Pimenta','Molho']\n",
        "\n",
        "for pedido in ingredientes_pedidos:\n",
        "  if pedido == 'Pimenta':\n",
        "    print(\"Infelizmente a pimenta acabou\")\n",
        "  else:\n",
        "    print(\"Adicionando \" + pedido + \"!\")\n"
      ],
      "execution_count": null,
      "outputs": [
        {
          "output_type": "stream",
          "text": [
            "Adicionando Cogumelos!\n",
            "Adicionando Queijo Extra!\n",
            "Infelizmente a pimenta acabou\n",
            "Adicionando Molho!\n"
          ],
          "name": "stdout"
        }
      ]
    },
    {
      "cell_type": "code",
      "metadata": {
        "colab": {
          "base_uri": "https://localhost:8080/"
        },
        "id": "lvGD4Z4msrdu",
        "outputId": "2b804e65-4e89-4754-c65e-9c0f8de4541a"
      },
      "source": [
        "### Verificando se a lista está vazia. Caso não tenha itens, Python já retorna\n",
        "### Ela como \"False\" e se tiver algo retorna como \"True\"\n",
        "ingredientes_pedidos = []\n",
        "if ingredientes_pedidos:\n",
        "  for ingredientes in ingredientes_pedidos:\n",
        "    print(\"Adicionando \" + ingredientes + \"!\")\n",
        "else:\n",
        "  print(\"Você quer mesmo uma pizza vazia?\")\n"
      ],
      "execution_count": null,
      "outputs": [
        {
          "output_type": "stream",
          "text": [
            "Você quer mesmo uma pizza vazia?\n"
          ],
          "name": "stdout"
        }
      ]
    },
    {
      "cell_type": "markdown",
      "metadata": {
        "id": "WbdrN8HnGn66"
      },
      "source": [
        "#### Duas listas com condição em if"
      ]
    },
    {
      "cell_type": "code",
      "metadata": {
        "colab": {
          "base_uri": "https://localhost:8080/"
        },
        "id": "g7v1uC31GrPL",
        "outputId": "79c03377-b614-4daa-c0d2-9dad38ebf5db"
      },
      "source": [
        "ingredientes_disponiveis = ['cogumelo', 'batata','maionese','azeitona','salame']\n",
        "ingredientes_pedidos = ['Cogumelo', 'Queijo Extra', 'Pimenta','Molho', 'salame']\n",
        "\n",
        "for pedido in ingredientes_pedidos:\n",
        "  if pedido.lower() in ingredientes_disponiveis:\n",
        "    print(\"Adicionando item pedido \" + pedido + \"!\")\n",
        "  else:\n",
        "    print(\"Desculpa, não temos \" + pedido + \" no nosso cardápio\")\n",
        "print(\"Pedido finalizado\")"
      ],
      "execution_count": null,
      "outputs": [
        {
          "output_type": "stream",
          "text": [
            "Adicionando item pedido Cogumelo!\n",
            "Desculpa, não temos Queijo Extra no nosso cardápio\n",
            "Desculpa, não temos Pimenta no nosso cardápio\n",
            "Desculpa, não temos Molho no nosso cardápio\n",
            "Adicionando item pedido salame!\n",
            "Pedido finalizado\n"
          ],
          "name": "stdout"
        }
      ]
    },
    {
      "cell_type": "markdown",
      "metadata": {
        "id": "_3ZkiIoOJSD1"
      },
      "source": [
        "### Faça você mesmo"
      ]
    },
    {
      "cell_type": "code",
      "metadata": {
        "colab": {
          "base_uri": "https://localhost:8080/"
        },
        "id": "TZnEISr7JUC7",
        "outputId": "2eea1d9b-7041-46b0-fd15-f51f25b6dfaf"
      },
      "source": [
        "lista_nomes = ['admin', 'luiz', 'armando', 'julia', 'beatriz']\n",
        "  \n",
        "if lista_nomes:\n",
        "  for users in lista_nomes:\n",
        "      if 'admin' in users:\n",
        "        print(\"Olá mandachuva da parada toda\")\n",
        "      else:\n",
        "        print(\"Olá \" + users.title() + \" prazer em ter você aqui\")\n",
        "else:\n",
        "  print(\"Não tem ninguém aqui\")"
      ],
      "execution_count": null,
      "outputs": [
        {
          "output_type": "stream",
          "text": [
            "Não tem ninguém aqui\n"
          ],
          "name": "stdout"
        }
      ]
    },
    {
      "cell_type": "code",
      "metadata": {
        "colab": {
          "base_uri": "https://localhost:8080/"
        },
        "id": "EMHqq3vDNE_S",
        "outputId": "565c56c4-9682-45df-aa7b-a5c776cc446b"
      },
      "source": [
        "### Numeros ordinais\n",
        "lista_numeros = range(1,10)\n",
        "for numeros in lista_numeros:\n",
        "  if numeros == 1 in lista_numeros:   \n",
        "    print(str(numeros) + \"st\")\n",
        "  elif numeros == 2 in lista_numeros:\n",
        "    print(str(numeros) + \"nd\")\n",
        "  elif numeros == 3 in lista_numeros:\n",
        "    print(str(numeros) + \"rd\")\n",
        "  else:\n",
        "    print(str(numeros) + \"th\")\n",
        "\n",
        "## Eu cometi um erro aqui, colocando \n",
        "## os numeros em formato de String\n",
        "## Depois foi só apagar as aspas para tirar a string. E no caso da impressão\n",
        "## também errei e não estavam em String de primeira"
      ],
      "execution_count": null,
      "outputs": [
        {
          "output_type": "stream",
          "text": [
            "1st\n",
            "2nd\n",
            "3rd\n",
            "4th\n",
            "5th\n",
            "6th\n",
            "7th\n",
            "8th\n",
            "9th\n"
          ],
          "name": "stdout"
        }
      ]
    }
  ]
}