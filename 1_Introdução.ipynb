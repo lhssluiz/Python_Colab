{
  "nbformat": 4,
  "nbformat_minor": 0,
  "metadata": {
    "colab": {
      "name": "1_Introdução.ipynb",
      "provenance": [],
      "authorship_tag": "ABX9TyOMEfjcvN0y1Lv8ebGrCM6y",
      "include_colab_link": true
    },
    "kernelspec": {
      "name": "python3",
      "display_name": "Python 3"
    }
  },
  "cells": [
    {
      "cell_type": "markdown",
      "metadata": {
        "id": "view-in-github",
        "colab_type": "text"
      },
      "source": [
        "<a href=\"https://colab.research.google.com/github/lhssluiz/Python_Colab/blob/main/1_Introdu%C3%A7%C3%A3o.ipynb\" target=\"_parent\"><img src=\"https://colab.research.google.com/assets/colab-badge.svg\" alt=\"Open In Colab\"/></a>"
      ]
    },
    {
      "cell_type": "code",
      "metadata": {
        "colab": {
          "base_uri": "https://localhost:8080/"
        },
        "id": "Uma9yKJ9CjhL",
        "outputId": "014c8d10-1e95-4c44-8a22-a5b31b015887"
      },
      "source": [
        "print(\"Hello world!\")"
      ],
      "execution_count": null,
      "outputs": [
        {
          "output_type": "stream",
          "text": [
            "Hello world!\n",
            "Hello World Var\n"
          ],
          "name": "stdout"
        }
      ]
    },
    {
      "cell_type": "markdown",
      "metadata": {
        "id": "FfUiRM0LGj65"
      },
      "source": [
        "**Regras e boas práticas com variáveis em python**\n",
        "1. Nome de variáveis, preferencialmente contém apenas letras, números e underscores (evitar que se inicie com números)\n",
        "2. Não utilizar espaços, usar underscore no lugar\n",
        "3. Não usar palavras reservadas para nomes"
      ]
    },
    {
      "cell_type": "code",
      "metadata": {
        "colab": {
          "base_uri": "https://localhost:8080/"
        },
        "id": "fzB5wg-gFxA_",
        "outputId": "9a2c1d58-5d38-4cd5-abdf-1b1e313bead4"
      },
      "source": [
        "mensagem = \"Atruibuindo valor\"\n",
        "print(mensagem)"
      ],
      "execution_count": null,
      "outputs": [
        {
          "output_type": "stream",
          "text": [
            "Hello World Var\n"
          ],
          "name": "stdout"
        }
      ]
    },
    {
      "cell_type": "code",
      "metadata": {
        "colab": {
          "base_uri": "https://localhost:8080/"
        },
        "id": "eOb0JxhXJZHv",
        "outputId": "509899fa-4322-409d-b7e6-a3ac1dd3dea2"
      },
      "source": [
        "var1 = \"mensagem inicial\"\n",
        "print(var1)\n",
        "var1 = \"mensagem de troca\"\n",
        "print(var1)"
      ],
      "execution_count": null,
      "outputs": [
        {
          "output_type": "stream",
          "text": [
            "mensagem inicial\n",
            "mensagem de troca\n"
          ],
          "name": "stdout"
        }
      ]
    },
    {
      "cell_type": "code",
      "metadata": {
        "colab": {
          "base_uri": "https://localhost:8080/"
        },
        "id": "uabSYBm4KXPj",
        "outputId": "ed3e1217-721a-40ec-8f42-d4b86c106c5c"
      },
      "source": [
        "name = \"luiZ henrique\"\n",
        "print(name.title())\n",
        "print(name.upper())\n",
        "print(name.lower())"
      ],
      "execution_count": null,
      "outputs": [
        {
          "output_type": "stream",
          "text": [
            "Luiz Henrique\n",
            "LUIZ HENRIQUE\n",
            "luiz henrique\n"
          ],
          "name": "stdout"
        }
      ]
    },
    {
      "cell_type": "code",
      "metadata": {
        "colab": {
          "base_uri": "https://localhost:8080/"
        },
        "id": "1dbv664cLVQH",
        "outputId": "469fc330-c553-4e69-d755-795ac309abef"
      },
      "source": [
        "first_name = \"Luiz\"\n",
        "second_name = \"Henrique\"\n",
        "full_name = first_name + \" \" + second_name\n",
        "print(full_name)\n",
        "\n",
        "mensagem1 = \"Hello, \" + full_name.title() + \"\\nWelcome to my program\"\n",
        "print(mensagem1)\n",
        "\n",
        "mensagem2 = \"Comecei na linha 1 \\n\\t Essa é a primeira opção \\n\\t Essa é a segunda opção \\nTodas elas estão organizadas acima \\n\\n Mc'Donald só para testar a apóstrofe\"\n",
        "print(mensagem2)"
      ],
      "execution_count": null,
      "outputs": [
        {
          "output_type": "stream",
          "text": [
            "Luiz Henrique\n",
            "Hello, Luiz Henrique\n",
            "Welcome to my program\n",
            "Comecei na linha 1 \n",
            "\t Essa é a primeira opção \n",
            "\t Essa é a segunda opção \n",
            "Todas elas estão organizadas acima \n",
            "\n",
            " Mc'Donald só para testar a apóstrofe\n"
          ],
          "name": "stdout"
        }
      ]
    },
    {
      "cell_type": "code",
      "metadata": {
        "colab": {
          "base_uri": "https://localhost:8080/"
        },
        "id": "4MJLgf3p8LO3",
        "outputId": "b0c75e4c-18ee-4d4b-94fb-ae316d73cb11"
      },
      "source": [
        "einstein = \" python teste\"\n",
        "\n",
        "print(einstein)\n",
        "print(einstein.strip())\n"
      ],
      "execution_count": null,
      "outputs": [
        {
          "output_type": "stream",
          "text": [
            " python teste\n",
            "python teste\n"
          ],
          "name": "stdout"
        }
      ]
    },
    {
      "cell_type": "markdown",
      "metadata": {
        "id": "J1sAVUOyLxS5"
      },
      "source": [
        "**Strings**\n",
        "\n",
        "Python usa a adição para combinar sprints"
      ]
    },
    {
      "cell_type": "markdown",
      "metadata": {
        "id": "LieJ4aJNKp72"
      },
      "source": [
        "`title() ` neste caso é um método. Para chamar métodos dentro de funções, basta colocar o \".\" e o nome do método e os parênteses da chamada depois."
      ]
    },
    {
      "cell_type": "code",
      "metadata": {
        "colab": {
          "base_uri": "https://localhost:8080/"
        },
        "id": "YkSkxAMc-VAv",
        "outputId": "870fb2eb-9aa3-42ed-e5ab-a2bae7b9b6a1"
      },
      "source": [
        "2+3**2\n",
        "\n",
        "age = 20\n",
        "message3 = \"Happy \" + str(age) + \"th birthday\"\n",
        "print(message3)\n",
        "\n",
        "3/2\n"
      ],
      "execution_count": null,
      "outputs": [
        {
          "output_type": "stream",
          "text": [
            "Happy 20th birthday\n"
          ],
          "name": "stdout"
        },
        {
          "output_type": "execute_result",
          "data": {
            "text/plain": [
              "1.5"
            ]
          },
          "metadata": {
            "tags": []
          },
          "execution_count": 22
        }
      ]
    },
    {
      "cell_type": "markdown",
      "metadata": {
        "id": "NoB0Ig0B-i2N"
      },
      "source": [
        "**Números**\n",
        "Para elevar a alguma potência se coloca '**' dois asteriscos (multiplicação)"
      ]
    }
  ]
}