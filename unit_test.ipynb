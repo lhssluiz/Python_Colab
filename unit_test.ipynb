{
  "nbformat": 4,
  "nbformat_minor": 0,
  "metadata": {
    "colab": {
      "name": "unit_test.ipynb",
      "provenance": [],
      "authorship_tag": "ABX9TyNBYgGxzb23xs8mkRpmgouR",
      "include_colab_link": true
    },
    "kernelspec": {
      "name": "python3",
      "display_name": "Python 3"
    },
    "language_info": {
      "name": "python"
    }
  },
  "cells": [
    {
      "cell_type": "markdown",
      "metadata": {
        "id": "view-in-github",
        "colab_type": "text"
      },
      "source": [
        "<a href=\"https://colab.research.google.com/github/lhssluiz/Python_Colab/blob/main/unit_test.ipynb\" target=\"_parent\"><img src=\"https://colab.research.google.com/assets/colab-badge.svg\" alt=\"Open In Colab\"/></a>"
      ]
    },
    {
      "cell_type": "markdown",
      "metadata": {
        "id": "o3HEQEFG4mRR"
      },
      "source": [
        "Making tests with\n",
        "`unittest`"
      ]
    },
    {
      "cell_type": "code",
      "metadata": {
        "id": "oHpupNAi3z1o"
      },
      "source": [
        "# A simple function to be tested\n",
        "def get_formatted_name(first, last):\n",
        "  '''present a formatted full name'''\n",
        "  full_name = first + ' ' + last\n",
        "  return full_name"
      ],
      "execution_count": 4,
      "outputs": []
    },
    {
      "cell_type": "code",
      "metadata": {
        "colab": {
          "base_uri": "https://localhost:8080/"
        },
        "id": "1rDdBkBS5Grh",
        "outputId": "90189513-ce78-477b-e01b-4eeea5e6f72c"
      },
      "source": [
        "print(\"Enter 'q' to leave\")\n",
        "while True:\n",
        "  first_name = input(\"What's your first name? \")\n",
        "  if first_name == 'q':\n",
        "    break\n",
        "  last_name = input(\"What's your last name? \")\n",
        "  if last_name == 'q':\n",
        "    break\n",
        "  formatted_name = get_formatted_name(first_name, last_name)\n",
        "  print(\"\\t Neatly formatted name: \" + formatted_name + '.')\n"
      ],
      "execution_count": 5,
      "outputs": [
        {
          "output_type": "stream",
          "text": [
            "Enter 'q' to leave\n",
            "What's your first name? Luiz\n",
            "What's your last name? Santos\n",
            "\t Neatly formatted name: Luiz Santos.\n",
            "What's your first name? q\n"
          ],
          "name": "stdout"
        }
      ]
    },
    {
      "cell_type": "markdown",
      "metadata": {
        "id": "EfY0NovL7HWQ"
      },
      "source": [
        "#### Testes de unidade e casos de teste\n",
        "The module `unittest` gives us tools to test the code.\n",
        "A **unit test** verify if a specific aspect of the behaviour of the function is correct. A **test cast** is a collection of unit tests that, together, proves that a function behave as it's suppose to and in all situations that you expect it to treat.\n",
        "\n",
        "A **complete cover test** is compposed with a variety of unit tests that includes all the possible ways to use the function. It's not easy to have a complete cover, then, it's enough to write tests to critical behaviours expectd in your code. And to have a complete cover only when the project start to spread"
      ]
    },
    {
      "cell_type": "code",
      "metadata": {
        "colab": {
          "base_uri": "https://localhost:8080/"
        },
        "id": "SXZttFmi85mZ",
        "outputId": "2dc404ee-dad0-4bab-89ba-2ab761660d59"
      },
      "source": [
        "import unittest\n",
        "#import the function to be tested if needed\n",
        "\n",
        "class NameTestCase(unittest.TestCase):\n",
        "  '''Tests to 'name_function'''\n",
        "\n",
        "  def test_first_last_name(self):\n",
        "    '''Names as Luiz Santos works?'''\n",
        "    formatted_name = get_formatted_name('Luiz','Santos')\n",
        "    self.assertEqual(formatted_name,'Luiz Santos')\n",
        "\n",
        "suite = unittest.TestLoader().loadTestsFromTestCase(NameTestCase)\n",
        "unittest.TextTestRunner().run(suite)\n",
        "\n",
        "# To the test class is good to give a name similat to the function to be tested\n",
        "# but with 'test' included in the name\n",
        "# A good practice is to give to the test method a name beginning with 'test'\n",
        "# assertEqual(value to compate, expected result) comparing a value with the\n",
        "# expected result already known by us. Then, it informs if the test will pass\n",
        "# or not\n",
        "#\n",
        "# In order to run a unittest in the ipython notebook, \n",
        "# remove the if __name__ == '__main__' part of the code and, in a new cell, \n",
        "# create a test suite and then run it using TextTestRunner"
      ],
      "execution_count": 21,
      "outputs": [
        {
          "output_type": "stream",
          "text": [
            ".\n",
            "----------------------------------------------------------------------\n",
            "Ran 1 test in 0.002s\n",
            "\n",
            "OK\n"
          ],
          "name": "stderr"
        },
        {
          "output_type": "execute_result",
          "data": {
            "text/plain": [
              "<unittest.runner.TextTestResult run=1 errors=0 failures=0>"
            ]
          },
          "metadata": {
            "tags": []
          },
          "execution_count": 21
        }
      ]
    },
    {
      "cell_type": "markdown",
      "metadata": {
        "id": "Ngrhedl9DK0s"
      },
      "source": [
        "When it fails, how to understand it?\n",
        "- 'E' inform that the test resulted in an error\n",
        "- Following it shows where is the ERROR: position of the error"
      ]
    },
    {
      "cell_type": "code",
      "metadata": {
        "id": "cL0jOySjCvUF"
      },
      "source": [
        "## A test that fails\n",
        "def get_formatted_name(first, middle, last): \n",
        "  \"\"\"Gera um nome completo formatado de modo elegante.\"\"\"\n",
        "  full_name = first + ' ' + middle + ' ' + last \n",
        "  return full_name.title()"
      ],
      "execution_count": 15,
      "outputs": []
    },
    {
      "cell_type": "code",
      "metadata": {
        "id": "oktjr2CkD_Mc"
      },
      "source": [
        "## Treating it\n",
        "def get_formatted_name(first, last, middle=''): \n",
        "  \"\"\"Gera um nome completo formatado de modo elegante.\"\"\"\n",
        "  if middle:\n",
        "    full_name = first + ' ' + middle + ' ' + last\n",
        "  else:\n",
        "    full_name = first + ' ' + last\n",
        "  return full_name.title()\n",
        "\n",
        "# We check the last changes we did\n",
        "# Then, we deal with it for the specific cas\n",
        "# Here we set the 'middle' as optional"
      ],
      "execution_count": 20,
      "outputs": []
    },
    {
      "cell_type": "markdown",
      "metadata": {
        "id": "bZ_AWgnOE1tR"
      },
      "source": [
        "### Adicionano novos testes"
      ]
    },
    {
      "cell_type": "code",
      "metadata": {
        "colab": {
          "base_uri": "https://localhost:8080/"
        },
        "id": "MRMKzjHwE0rE",
        "outputId": "68e60781-73f4-40dd-fc96-139de78a864e"
      },
      "source": [
        "import unittest\n",
        "#import the function to be tested if needed\n",
        "\n",
        "class NameTestCase(unittest.TestCase):\n",
        "  '''Tests to 'name_function'''\n",
        "\n",
        "  def test_first_last_name(self):\n",
        "    '''Names as Luiz Santos works?'''\n",
        "    formatted_name = get_formatted_name('Luiz','Santos')\n",
        "    self.assertEqual(formatted_name,'Luiz Santos')\n",
        "  def test_first_middle_last_name(self):\n",
        "    '''Names as Luiz Henrique sá, works?'''\n",
        "    formatted_name = get_formatted_name('Luiz', 'Sá','Henrique')\n",
        "    self.assertEqual(formatted_name,'Luiz Henrique Sá')\n",
        "\n",
        "suite = unittest.TestLoader().loadTestsFromTestCase(NameTestCase)\n",
        "unittest.TextTestRunner().run(suite)\n",
        "\n",
        "# I ran it two times:\n",
        "# 1. it was a wrong name and it didn't passed\n",
        "# 2. I didn't put the arguments in the right order and then showed a error\n",
        "# the result: AssertionError: 'Luiz Sá Henrique' != 'Luiz Henrique Sá'\n"
      ],
      "execution_count": 24,
      "outputs": [
        {
          "output_type": "stream",
          "text": [
            "..\n",
            "----------------------------------------------------------------------\n",
            "Ran 2 tests in 0.007s\n",
            "\n",
            "OK\n"
          ],
          "name": "stderr"
        },
        {
          "output_type": "execute_result",
          "data": {
            "text/plain": [
              "<unittest.runner.TextTestResult run=2 errors=0 failures=0>"
            ]
          },
          "metadata": {
            "tags": []
          },
          "execution_count": 24
        }
      ]
    },
    {
      "cell_type": "markdown",
      "metadata": {
        "id": "NdRRgY1PGFIo"
      },
      "source": [
        "## Faça você mesmo\n",
        "11.1 até 11.2"
      ]
    },
    {
      "cell_type": "markdown",
      "metadata": {
        "id": "a33kSeYwGOMZ"
      },
      "source": [
        "## Testando uma classe\n",
        "Outros métodos de asserção\n",
        "\n",
        "Método Uso\n",
        "\n",
        "- assertEqual(a,b) <==> Verifica se a==b\n",
        "- assertNotEqual(a,b) <==> Verificase a!=b\n",
        "- assertTrue(x) <==> Verifica se x é True\n",
        "- assertFalse(x) <==> Verifica se x é False\n",
        "- assertIn(item, lista) <==> Verifica se item está em lista\n",
        "- assertNotIn(item, lista) <==>  Verificase item não está em lista"
      ]
    },
    {
      "cell_type": "code",
      "metadata": {
        "id": "8P4UUuXWHlMF"
      },
      "source": [
        "class AnonymousSurvey():\n",
        "  \"\"\"Coleta respostas anônimas para uma pergunta de uma pesquisa.\"\"\"\n",
        "  \n",
        "  def __init__(self, question):\n",
        "    \"\"\"Armazena uma pergunta e se prepara para armazenar as respostas.\"\"\"\n",
        "    self.question = question\n",
        "    self.responses = []\n",
        "  \n",
        "  def show_question(self):\n",
        "    \"\"\"Mostra a pergunta da pesquisa.\"\"\"\n",
        "    print(question)\n",
        "  \n",
        "  def store_response(self, new_response):\n",
        "    \"\"\"Armazena uma única resposta da pesquisa.\"\"\"\n",
        "    self.responses.append(new_response)\n",
        "\n",
        "  def show_results(self):\n",
        "    \"\"\"Mostra todas as respostas dadas.\"\"\"\n",
        "    print(\"Survey results:\") \n",
        "    for response in self.responses:\n",
        "      print('- ' + response) "
      ],
      "execution_count": 29,
      "outputs": []
    },
    {
      "cell_type": "code",
      "metadata": {
        "colab": {
          "base_uri": "https://localhost:8080/"
        },
        "id": "oGyHJ3JDIQyb",
        "outputId": "a83bf37f-0cd4-41f6-cb29-2c54be1ba3ae"
      },
      "source": [
        "# Define uma pergunta e cria uma pesquisa \n",
        "question = \"What language did you first learn to speak?\"\n",
        "my_survey = AnonymousSurvey(question)\n",
        "# Mostra a pergunta e armazena as respostas à pergunta \n",
        "my_survey.show_question() \n",
        "print(\"Enter 'q' at any time to quit.\\n\") \n",
        "while True:\n",
        "  response = input(\"Language: \") \n",
        "  if response == 'q':\n",
        "    break \n",
        "  my_survey.store_response(response)\n",
        "  # Exibe os resultados da pesquisa \n",
        "  print(\"\\nThank you to everyone who participated in the survey!\") \n",
        "  my_survey.show_results()"
      ],
      "execution_count": 39,
      "outputs": [
        {
          "output_type": "stream",
          "text": [
            "What language did you first learn to speak?\n",
            "Enter 'q' at any time to quit.\n",
            "\n",
            "Language: q\n"
          ],
          "name": "stdout"
        }
      ]
    },
    {
      "cell_type": "code",
      "metadata": {
        "colab": {
          "base_uri": "https://localhost:8080/"
        },
        "id": "7MhR2w3jJPCA",
        "outputId": "f156aeda-2295-4a4f-cdcb-7a023accac38"
      },
      "source": [
        "class TestAnonmyousSurvey(unittest.TestCase):\n",
        "  \"\"\"Testes para a classe AnonymousSurvey\"\"\"\n",
        "  \n",
        "  def test_store_single_response(self):\n",
        "    \"\"\"Testa se uma única resposta é armazenada de forma apropriada.\"\"\"\n",
        "    question = \"What language did you first learn to speak?\"\n",
        "    my_survey = AnonymousSurvey(question)\n",
        "    my_survey.store_response('English')\n",
        "    self.assertIn('English', my_survey.responses)\n",
        "\n",
        "suite = unittest.TestLoader().loadTestsFromTestCase(TestAnonmyousSurvey)\n",
        "unittest.TextTestRunner().run(suite)"
      ],
      "execution_count": 42,
      "outputs": [
        {
          "output_type": "stream",
          "text": [
            ".\n",
            "----------------------------------------------------------------------\n",
            "Ran 1 test in 0.002s\n",
            "\n",
            "OK\n"
          ],
          "name": "stderr"
        },
        {
          "output_type": "execute_result",
          "data": {
            "text/plain": [
              "<unittest.runner.TextTestResult run=1 errors=0 failures=0>"
            ]
          },
          "metadata": {
            "tags": []
          },
          "execution_count": 42
        }
      ]
    },
    {
      "cell_type": "markdown",
      "metadata": {
        "id": "SEq3X2KwKtry"
      },
      "source": [
        "## Método SetUp()\n",
        "SetUp() is useful to create only once an object, then we use it to make tests, what means, we don't need to create a instance of a class for each test that we'll execute.\n",
        "When SetUp() is inserted in a class, Python execute it first. Any object creatd inside the SetUp() will be available to all the test methods that you'll write\n",
        "Peronsla comment: we can abstract it as a __init__()"
      ]
    },
    {
      "cell_type": "code",
      "metadata": {
        "id": "eaEDVP6jLp9A"
      },
      "source": [
        "class TestAnonymousSurvey(unittest.TestCase):\n",
        "  \"\"\"Testes para a classe AnonymousSurvey.\"\"\"\n",
        "  def setUp(self): \n",
        "    \"\"\"Cria uma pesquisa e um conjunto de respostas que poderão ser usados em todos os métodos de teste.\"\"\"\n",
        "    question = \"What language did you first learn to speak?\"\n",
        "    self.my_survey = AnonymousSurvey(question)\n",
        "    self.responses = ['English', 'Spanish', 'Mandarin']\n",
        "    \n",
        "  def test_store_single_response(self): \n",
        "    \"\"\"Testa se uma única resposta é armazenada de forma apropriada.\"\"\"\n",
        "    self.my_survey.store_response(self.responses[0]) \n",
        "    self.assertIn(self.responses[0], self.my_survey.responses)\n",
        "  \n",
        "  def test_store_three_responses(self):\n",
        "    \"\"\"Testa se três respostas individuais são armazenadas de forma apropriada.\"\"\"\n",
        "    for response in self.responses:\n",
        "      self.my_survey.store_response(response)\n",
        "      for response in self.responses:\n",
        "        self.assertIn(response, self.my_survey.responses)"
      ],
      "execution_count": 60,
      "outputs": []
    },
    {
      "cell_type": "code",
      "metadata": {
        "colab": {
          "base_uri": "https://localhost:8080/"
        },
        "id": "zk2SC2D9MXSj",
        "outputId": "45ea8d61-d373-40df-d6a1-dfc16f62d728"
      },
      "source": [
        "suite = unittest.TestLoader().loadTestsFromTestCase(TestAnonmyousSurvey)\n",
        "unittest.TextTestRunner().run(suite)"
      ],
      "execution_count": 62,
      "outputs": [
        {
          "output_type": "stream",
          "text": [
            ".\n",
            "----------------------------------------------------------------------\n",
            "Ran 1 test in 0.004s\n",
            "\n",
            "OK\n"
          ],
          "name": "stderr"
        },
        {
          "output_type": "execute_result",
          "data": {
            "text/plain": [
              "<unittest.runner.TextTestResult run=1 errors=0 failures=0>"
            ]
          },
          "metadata": {
            "tags": []
          },
          "execution_count": 62
        }
      ]
    },
    {
      "cell_type": "markdown",
      "metadata": {
        "id": "am8we9JjOFHi"
      },
      "source": [
        "## Faça Você mesmo\n",
        "11.3"
      ]
    }
  ]
}