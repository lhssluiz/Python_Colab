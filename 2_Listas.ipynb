{
  "nbformat": 4,
  "nbformat_minor": 0,
  "metadata": {
    "colab": {
      "name": "2_Listas.ipynb",
      "provenance": [],
      "authorship_tag": "ABX9TyPHiSkpDuoGz8pMvwgSvRyf",
      "include_colab_link": true
    },
    "kernelspec": {
      "name": "python3",
      "display_name": "Python 3"
    }
  },
  "cells": [
    {
      "cell_type": "markdown",
      "metadata": {
        "id": "view-in-github",
        "colab_type": "text"
      },
      "source": [
        "<a href=\"https://colab.research.google.com/github/lhssluiz/Python_Colab/blob/main/2_Listas.ipynb\" target=\"_parent\"><img src=\"https://colab.research.google.com/assets/colab-badge.svg\" alt=\"Open In Colab\"/></a>"
      ]
    },
    {
      "cell_type": "markdown",
      "metadata": {
        "id": "ZzdegbbY1xPz"
      },
      "source": [
        "#Listas"
      ]
    },
    {
      "cell_type": "code",
      "metadata": {
        "colab": {
          "base_uri": "https://localhost:8080/"
        },
        "id": "ByKhDFWYD6Td",
        "outputId": "ed6b2724-3b95-4f22-bd44-900d4ae6ec23"
      },
      "source": [
        "#iniciando com listas\n",
        "lista = ['moto', 'carro', 'caminhão']\n",
        "print(lista)\n",
        "print(lista[0])\n",
        "print(lista[2].title())\n",
        "\n",
        "#adicionando itens ao fim de uma lista\n",
        "lista.append('avião')\n",
        "print(lista)\n",
        "\n",
        "#inserindo valor em qualquer posição da lista\n",
        "lista.insert(0,'caça')\n",
        "print(lista)\n",
        "\n",
        "#removendo valores da lista para sempre\n",
        "del lista[2]\n",
        "print(\"\\nEsta remoção é do Delete\".upper())\n",
        "print(lista)\n",
        "\n",
        "# removendo valores e trabalhando com estes\n",
        "lista_pop = ['Honda', 'Dafra', 'Yamaha','Ducati']\n",
        "print(\"\\nEsta é a remoção com pop que guarda o valor removido\".upper())\n",
        "print(lista_pop)\n",
        "lista_pop1 = lista_pop.pop()\n",
        "\n",
        "print(\"\\nEsta é a remoção com pop que guarda o valor removido\".upper())\n",
        "print(lista_pop1)\n",
        "print(\"\\nEsta é a remoção com pop com o resultado final na lista\".upper())\n",
        "print(lista_pop)\n",
        "\n",
        "# removendo itens de acordo com o o seu valor (como ese fosse um if de remoção de lista)\n",
        "print(\"\\nEsta é a utilização do remove, para remover um valor específico da lista\".upper())\n",
        "lista_pop.remove('Dafra')\n",
        "print(lista_pop)\n",
        "\n",
        "# removendo um valor de uma lista que está dentro de uma variável\n",
        "muito_caro = 'caça'\n",
        "lista.remove(muito_caro)\n",
        "print(lista)\n",
        "print(\"\\nEsse \" + str(muito_caro).title() + \" é muito caro para mim\")\n",
        "# O valor \"remove\" tira apenas a primeira ocorrência do valor, para tirar todas, é necessário um laço"
      ],
      "execution_count": null,
      "outputs": [
        {
          "output_type": "stream",
          "text": [
            "['moto', 'carro', 'caminhão']\n",
            "moto\n",
            "Caminhão\n",
            "['moto', 'carro', 'caminhão', 'avião']\n",
            "['caça', 'moto', 'carro', 'caminhão', 'avião']\n",
            "\n",
            "ESTA REMOÇÃO É DO DELETE\n",
            "['caça', 'moto', 'caminhão', 'avião']\n",
            "\n",
            "ESTA É A REMOÇÃO COM POP QUE GUARDA O VALOR REMOVIDO\n",
            "['Honda', 'Dafra', 'Yamaha', 'Ducati']\n",
            "\n",
            "ESTA É A REMOÇÃO COM POP QUE GUARDA O VALOR REMOVIDO\n",
            "Ducati\n",
            "\n",
            "ESTA É A REMOÇÃO COM POP COM O RESULTADO FINAL NA LISTA\n",
            "['Honda', 'Dafra', 'Yamaha']\n",
            "\n",
            "ESTA É A UTILIZAÇÃO DO REMOVE, PARA REMOVER UM VALOR ESPECÍFICO DA LISTA\n",
            "['Honda', 'Yamaha']\n",
            "['moto', 'caminhão', 'avião']\n",
            "\n",
            "Esse Caça é muito caro para mim\n"
          ],
          "name": "stdout"
        }
      ]
    },
    {
      "cell_type": "code",
      "metadata": {
        "colab": {
          "base_uri": "https://localhost:8080/"
        },
        "id": "QLYl2Gjy_pOu",
        "outputId": "acd948e2-54b6-4cf3-ee05-a8974074cd7b"
      },
      "source": [
        "# FAÇA VOCÊ MESMO LISTAS\n",
        "\n",
        "lista_convite = ['Einsten', 'Newton','Mandela','Ghandi']\n",
        "print(\"Meu querido \" + str(lista_convite[0] + \" vamos comer comida brasileira?\"))\n",
        "\n",
        "desistente = 'Einsten'\n",
        "lista_convite.remove(desistente)\n",
        "print(desistente)\n",
        "\n",
        "lista_convite[0] = 'Yuval'\n",
        "lista_convite.insert(0,'João')\n",
        "lista_convite.insert(3,'Alberto')\n",
        "lista_convite.append('Varal')\n",
        "print(\"\\nEssa é a lista com todo mundo\" + str(lista_convite))\n",
        "\n",
        "desistente = lista_convite.pop()\n",
        "print(\"\\nO \" + str(desistente.title()) + \" tá fora da lista e abaixo temos a nova lista: \\n\" + str(lista_convite))\n",
        "\n"
      ],
      "execution_count": null,
      "outputs": [
        {
          "output_type": "stream",
          "text": [
            "Meu querido Einsten vamos comer comida brasileira?\n",
            "Einsten\n",
            "\n",
            "Essa é a lista com todo mundo['João', 'Yuval', 'Mandela', 'Alberto', 'Ghandi', 'Varal']\n",
            "O Varal tá fora da lista e abaixo temos a nova lista: \n",
            "['João', 'Yuval', 'Mandela', 'Alberto', 'Ghandi']\n"
          ],
          "name": "stdout"
        }
      ]
    },
    {
      "cell_type": "markdown",
      "metadata": {
        "id": "LISq9-g4D8BC"
      },
      "source": [
        "## Organizando as listas"
      ]
    },
    {
      "cell_type": "code",
      "metadata": {
        "colab": {
          "base_uri": "https://localhost:8080/"
        },
        "id": "6USzzbBFEGjp",
        "outputId": "fcdccb56-510c-4d0c-dfed-64c9f34f782e"
      },
      "source": [
        "lista_ordenada = ['Kratos','Thor', 'Para','Série','Netflix']\n",
        "print(lista_ordenada)\n",
        "lista_ordenada.sort()\n",
        "print(\"Lista em ordem \" + str(lista_ordenada))\n",
        "\n",
        "lista_ordenada.sort(reverse=True)\n",
        "print(\"\\nA lista ao contrário\" + str(lista_ordenada))\n",
        "\n",
        "# reverse inverte as posições dos itens\n",
        "print(\"\\nLista ordenada temporariamente \" + str(sorted(lista_ordenada)))\n",
        "len(lista_ordenada)\n",
        "\n",
        "print(lista_ordenada[3-1])"
      ],
      "execution_count": null,
      "outputs": [
        {
          "output_type": "stream",
          "text": [
            "['Kratos', 'Thor', 'Para', 'Série', 'Netflix']\n",
            "Lista em ordem ['Kratos', 'Netflix', 'Para', 'Série', 'Thor']\n",
            "\n",
            "A lista ao contrário['Thor', 'Série', 'Para', 'Netflix', 'Kratos']\n",
            "\n",
            "Lista ordenada temporariamente ['Kratos', 'Netflix', 'Para', 'Série', 'Thor']\n",
            "Para\n"
          ],
          "name": "stdout"
        }
      ]
    },
    {
      "cell_type": "markdown",
      "metadata": {
        "id": "hTvQXX1_7nY_"
      },
      "source": [
        "# Trabalhando com listas e laços\n",
        "Quando quiser executar a mesma ação em todos os itens de uma lista, você pode executar um laço \n",
        "https://www.devmedia.com.br/for-python-estrutura-de-repeticao-for/38513"
      ]
    },
    {
      "cell_type": "code",
      "metadata": {
        "colab": {
          "base_uri": "https://localhost:8080/"
        },
        "id": "JVPpcgVq7tNs",
        "outputId": "9b7b7ab9-7e3a-49a0-ad85-090f7dad67e3"
      },
      "source": [
        "magicos = ['Alice', 'Joana', 'Raimunda']\n",
        "for magico in magicos:    #Para todo mágico na lista de mágicos, exiba o nome mágico\n",
        "  print(magico)\n",
        "\n",
        "# Imprimindo a mesma coisa com uma composição de texto\n",
        "for magico in magicos:\n",
        "  print(\"\\n\" + magico.title() + \" você fez um ótimo trabalho\")"
      ],
      "execution_count": null,
      "outputs": [
        {
          "output_type": "stream",
          "text": [
            "Alice\n",
            "Joana\n",
            "Raimunda\n",
            "\n",
            "Alice você fez um ótimo trabalho\n",
            "\n",
            "Joana você fez um ótimo trabalho\n",
            "\n",
            "Raimunda você fez um ótimo trabalho\n"
          ],
          "name": "stdout"
        }
      ]
    },
    {
      "cell_type": "markdown",
      "metadata": {
        "id": "0ueX0xgZC2SK"
      },
      "source": [
        "# Lidando com listas formada por números"
      ]
    },
    {
      "cell_type": "code",
      "metadata": {
        "colab": {
          "base_uri": "https://localhost:8080/"
        },
        "id": "hW0bMhEmC5SR",
        "outputId": "9679972e-ab6a-4953-992c-0ba64e55f597"
      },
      "source": [
        "for value in range(1,5): #como o valor é sempre deslocado -1, o resultado é de 1 a 4\n",
        "  print(value)\n",
        "\n",
        "numeros = list(range(1,6)) #fazer uma lista de numeros com range\n",
        "print(numeros) \n",
        "\n",
        "numeros_pares = list(range(2,11,2)) #Mostrar somente pares: Inicia do 2, vai até 11 e pula de 2 em 2\n",
        "print(numeros_pares)\n",
        "\n",
        "quadrados = [] # Fazendo uma lista de quadrados perfeitos com for e range\n",
        "for numbers in range(1,11): # Declara o for e lembra que \"numbers\" - a variável do for - é declarada nesse momento\n",
        "  quadrado = numbers**2     # quadrado é diferente de quadrados\n",
        "  quadrados.append(quadrado) # adiciona quadrado a cada iteração do laço em quadrados no último valor\n",
        "print(quadrados)"
      ],
      "execution_count": null,
      "outputs": [
        {
          "output_type": "stream",
          "text": [
            "1\n",
            "2\n",
            "3\n",
            "4\n",
            "[1, 2, 3, 4, 5]\n",
            "[2, 4, 6, 8, 10]\n",
            "[1, 4, 9, 16, 25, 36, 49, 64, 81, 100]\n"
          ],
          "name": "stdout"
        }
      ]
    },
    {
      "cell_type": "markdown",
      "metadata": {
        "id": "wnM6w_YoGDpG"
      },
      "source": [
        "# Usando funções específicas para lidar com listas de números"
      ]
    },
    {
      "cell_type": "code",
      "metadata": {
        "colab": {
          "base_uri": "https://localhost:8080/"
        },
        "id": "ZJmBzt6CGJQ4",
        "outputId": "6f0eec57-10ed-407c-98e0-7e785a67d40e"
      },
      "source": [
        "\n",
        "print(min(quadrados))\n",
        "print(max(quadrados))\n",
        "print(sum(quadrados)) # Eu usei o print para apresentar todos os valores, já que se colocar somente a função, só o último é exibido"
      ],
      "execution_count": null,
      "outputs": [
        {
          "output_type": "stream",
          "text": [
            "1\n",
            "100\n",
            "385\n"
          ],
          "name": "stdout"
        }
      ]
    },
    {
      "cell_type": "markdown",
      "metadata": {
        "id": "OcaZ-yvjHdGU"
      },
      "source": [
        "# Usando Lists Comprehension\n",
        "Sua sintaxe básica é:\n",
        "```\n",
        "# expr for item in lista\n",
        "```\n",
        "Em outras palavras: aplique a **expressão** expr **em cada item** da **lista**.\n",
        "\n",
        "[Site explicando sobre list comprehension](https://pythonacademy.com.br/blog/list-comprehensions-no-python)"
      ]
    },
    {
      "cell_type": "code",
      "metadata": {
        "colab": {
          "base_uri": "https://localhost:8080/"
        },
        "id": "V-_mNUogHf6N",
        "outputId": "b56f2901-1c69-4750-e9ac-bf7849298f9b"
      },
      "source": [
        "quadrados = [value**2 for value in range (1,11)]    # quadrados recebe uma list comprehension com \"expressão\" sendo (value**2) for value in range()\n",
        "print(quadrados)"
      ],
      "execution_count": null,
      "outputs": [
        {
          "output_type": "stream",
          "text": [
            "[1, 4, 9, 16, 25, 36, 49, 64, 81, 100]\n"
          ],
          "name": "stdout"
        }
      ]
    },
    {
      "cell_type": "code",
      "metadata": {
        "id": "fNnwlJFJtBg_"
      },
      "source": [
        "# Faça você mesmo: List comprehension and range"
      ],
      "execution_count": null,
      "outputs": []
    },
    {
      "cell_type": "code",
      "metadata": {
        "colab": {
          "base_uri": "https://localhost:8080/"
        },
        "id": "x3PjMJq1tH8a",
        "outputId": "c16702db-e602-4d3c-ff26-8325e332bbb4"
      },
      "source": [
        "for contador in range(1,21):\n",
        "  print(contador)\n",
        "print(\"______________ \\n\")\n",
        "\n",
        "lista_milhao = range(1,1000001)\n",
        "print(min(lista_milhao))\n",
        "print(max(lista_milhao))\n",
        "print(sum(lista_milhao))\n",
        "\n",
        "print(\"______________ \\n\")\n",
        "\n",
        "lista_impar = range(1,21,2) # O terceiro argumento é o step range(start, stop, step)\n",
        "for n in lista_impar:\n",
        "  print(n)\n",
        "print(\"______________ \\n\")\n",
        "\n",
        "lista_cubos = [n**3 for n in range(1,10)]\n",
        "print(lista_cubos)"
      ],
      "execution_count": null,
      "outputs": [
        {
          "output_type": "stream",
          "text": [
            "1\n",
            "2\n",
            "3\n",
            "4\n",
            "5\n",
            "6\n",
            "7\n",
            "8\n",
            "9\n",
            "10\n",
            "11\n",
            "12\n",
            "13\n",
            "14\n",
            "15\n",
            "16\n",
            "17\n",
            "18\n",
            "19\n",
            "20\n",
            "______________ \n",
            "\n",
            "1\n",
            "1000000\n",
            "500000500000\n",
            "______________ \n",
            "\n",
            "1\n",
            "3\n",
            "5\n",
            "7\n",
            "9\n",
            "11\n",
            "13\n",
            "15\n",
            "17\n",
            "19\n",
            "______________ \n",
            "\n",
            "[1, 8, 27, 64, 125, 216, 343, 512, 729]\n"
          ],
          "name": "stdout"
        }
      ]
    },
    {
      "cell_type": "markdown",
      "metadata": {
        "id": "JY-EYkVHxPcG"
      },
      "source": [
        "# Trabalhando com fatias de uma lista"
      ]
    },
    {
      "cell_type": "code",
      "metadata": {
        "colab": {
          "base_uri": "https://localhost:8080/"
        },
        "id": "xbOK-XblxR_h",
        "outputId": "4d554340-23d9-46e1-9c4e-60d68f4b74fe"
      },
      "source": [
        "lista_fatia = ['Bruno', 'Armando', 'Pedro', 'Augusto']\n",
        "print(lista_fatia[0:2])\n",
        "print(lista_fatia[-2:]) # Quando se utiliza o negativo, a lista imprime do fim para o início\n",
        "#___\n",
        "print(\"\\nEstes são os 3 primeiros jogadores\")\n",
        "for n in lista_fatia[:3]:\n",
        "  print(n.title())\n"
      ],
      "execution_count": null,
      "outputs": [
        {
          "output_type": "stream",
          "text": [
            "['Bruno', 'Armando']\n",
            "['Pedro', 'Augusto']\n",
            "\n",
            "Estes são os 3 primeiros jogadores\n",
            "Bruno\n",
            "Armando\n",
            "Pedro\n"
          ],
          "name": "stdout"
        }
      ]
    },
    {
      "cell_type": "code",
      "metadata": {
        "id": "EvJLSUj0xfH_",
        "colab": {
          "base_uri": "https://localhost:8080/"
        },
        "outputId": "69257e02-3590-4cd3-bbb5-5e86ef3117f5"
      },
      "source": [
        "amigos = lista_fatia[:] #IMP: sem definir uma fatia e copiar somente a partir dos nomes, o que ocorre na verdade é a conxeão entre as listas\n",
        "print(amigos)"
      ],
      "execution_count": null,
      "outputs": [
        {
          "output_type": "stream",
          "text": [
            "['Bruno', 'Armando', 'Pedro', 'Augusto']\n"
          ],
          "name": "stdout"
        }
      ]
    },
    {
      "cell_type": "markdown",
      "metadata": {
        "id": "vN-tERrN-hDF"
      },
      "source": [
        "# Tuplas - As listas fixas"
      ]
    },
    {
      "cell_type": "code",
      "metadata": {
        "colab": {
          "base_uri": "https://localhost:8080/"
        },
        "id": "A56hc6PW-lq0",
        "outputId": "f5978003-afe9-4e14-9561-fa034300d203"
      },
      "source": [
        "# Declarando uma Tupla\n",
        "dimension = (200,50)    # Tuplas se declara usando em parênteses e não em colchetes\n",
        "print(dimension[0])\n",
        "print(dimension[1])\n",
        "print(\"______________\")\n",
        "\n",
        "for d in dimension:\n",
        "  print(d)\n",
        "\n",
        "# Adicionando um novo valor a variável que guarda a tupla // É possível fazer essa modificação, mesmo que não se possa alterar a tupla em si\n",
        "dimension = (200,50)\n",
        "print(\"Original dimensoin:\")\n",
        "for d in dimension:\n",
        "  print(d)\n",
        "\n",
        "dimension = (400,100)\n",
        "print(\"\\n Dimension modificada\")\n",
        "for d in dimension:\n",
        "  print(d)"
      ],
      "execution_count": null,
      "outputs": [
        {
          "output_type": "stream",
          "text": [
            "200\n",
            "50\n",
            "______________\n",
            "200\n",
            "50\n",
            "Original dimensoin:\n",
            "200\n",
            "50\n",
            "\n",
            " Dimension modificada\n",
            "400\n",
            "100\n"
          ],
          "name": "stdout"
        }
      ]
    },
    {
      "cell_type": "markdown",
      "metadata": {
        "id": "OdHRupFsEkoL"
      },
      "source": [
        "### Faça Você mesmo TUPLAS"
      ]
    },
    {
      "cell_type": "code",
      "metadata": {
        "colab": {
          "base_uri": "https://localhost:8080/"
        },
        "id": "wv2BM6VjEpac",
        "outputId": "64a98cfb-0e0d-429e-b18d-c88de17bc9a7"
      },
      "source": [
        "# Restaurante que oferece apenas 5 tipos básicos de comida. Armazene-o em uma tupla\n",
        "\n",
        "cardapio = ('Arroz', 'Maracarrão','Carbonara','Tomate')\n",
        "for comidas in cardapio:\n",
        "  print(comidas)\n",
        "\n",
        "print(\"\\nImprimir cardápio modificado\")\n",
        "cardapio = ('Arroz', 'Empanadas', 'Tortillas', 'Tomate')\n",
        "for comidas in cardapio:\n",
        "  print(comidas)"
      ],
      "execution_count": null,
      "outputs": [
        {
          "output_type": "stream",
          "text": [
            "Arroz\n",
            "Maracarrão\n",
            "Carbonara\n",
            "Tomate\n",
            "\n",
            "Imprimir cardápio modificado\n",
            "Arroz\n",
            "Empanadas\n",
            "Tortillas\n",
            "Tomate\n"
          ],
          "name": "stdout"
        }
      ]
    },
    {
      "cell_type": "markdown",
      "metadata": {
        "id": "kXjGyjH9GHzu"
      },
      "source": [
        "[PEP 008 - Sobre guia de estilo para Python](https://www.python.org/dev/peps/pep-0008/)"
      ]
    }
  ]
}