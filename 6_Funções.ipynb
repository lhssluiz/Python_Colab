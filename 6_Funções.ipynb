{
  "nbformat": 4,
  "nbformat_minor": 0,
  "metadata": {
    "colab": {
      "name": "6. Funções.ipynb",
      "provenance": [],
      "authorship_tag": "ABX9TyM05k8NkK9iKPqFI5FDik9V",
      "include_colab_link": true
    },
    "kernelspec": {
      "name": "python3",
      "display_name": "Python 3"
    },
    "language_info": {
      "name": "python"
    }
  },
  "cells": [
    {
      "cell_type": "markdown",
      "metadata": {
        "id": "view-in-github",
        "colab_type": "text"
      },
      "source": [
        "<a href=\"https://colab.research.google.com/github/lhssluiz/Python_Colab/blob/main/6_Fun%C3%A7%C3%B5es.ipynb\" target=\"_parent\"><img src=\"https://colab.research.google.com/assets/colab-badge.svg\" alt=\"Open In Colab\"/></a>"
      ]
    },
    {
      "cell_type": "markdown",
      "metadata": {
        "id": "aKYNOwQJLEWj"
      },
      "source": [
        "1h26 - 03\n",
        "# Funções\n",
        "São blocos de código nomeados, concebidos para **realizar uma tarefa específica**. A função têm tarefas em particular definidas. Com isto *chamamos* o nome da função que é responsável por esta tarefa.\n",
        "\n",
        "Veremos:\n",
        "- Passar informações para funções\n",
        "- Escrever as funções que visam processar dados e devolver um valor ou conjunto de valores\n",
        "- Como armazenar as funções em arquivos separados *módulos* para ajudar a organizar os arquivos do projeto"
      ]
    },
    {
      "cell_type": "markdown",
      "metadata": {
        "id": "QQFr3qfiMXfO"
      },
      "source": [
        "#### Definindo uma função"
      ]
    },
    {
      "cell_type": "code",
      "metadata": {
        "colab": {
          "base_uri": "https://localhost:8080/"
        },
        "id": "AJg4af4gqF2S",
        "outputId": "88caf3fe-c415-42b6-8409-2650d03ba61f"
      },
      "source": [
        "# The most simple function that shows a greeting\n",
        "# We use \"def\" to define a function\n",
        "# Three apostrophes indicate the docstring\n",
        "# To call a function, you only need to write its name with the parameters\n",
        "# in case it has\n",
        "\n",
        "def greet_user():\n",
        "  \"\"\"Shows a greeting\"\"\"\n",
        "  print(\"Hello\")\n",
        "\n",
        "greet_user()"
      ],
      "execution_count": null,
      "outputs": [
        {
          "output_type": "stream",
          "text": [
            "Hello\n"
          ],
          "name": "stdout"
        }
      ]
    },
    {
      "cell_type": "markdown",
      "metadata": {
        "id": "Z6LcBFycQ2Vc"
      },
      "source": [
        "#### Passando informações para uma função"
      ]
    },
    {
      "cell_type": "code",
      "metadata": {
        "colab": {
          "base_uri": "https://localhost:8080/"
        },
        "id": "DKfkRyT1P6ss",
        "outputId": "f3d78c5d-6a4d-494b-9393-2b7c6874d8c9"
      },
      "source": [
        "# Passing a parameter for a function\n",
        "# You define the parameter\n",
        "def greet_user(username):\n",
        "  \"\"\"Shows a greeting\"\"\"\n",
        "  print(\"Hello, \" + username.title() + \"!\")\n",
        "greet_user('julia')"
      ],
      "execution_count": null,
      "outputs": [
        {
          "output_type": "stream",
          "text": [
            "Hello, Julia!\n"
          ],
          "name": "stdout"
        }
      ]
    },
    {
      "cell_type": "markdown",
      "metadata": {
        "id": "zIW8Ff_7Q9cr"
      },
      "source": [
        "#### Argumentos e parâmetros\n",
        "No exemlo anterior *username* é um parâmetro e o nome da pessoa, como no caso *julia* é um argumento. Um argumento é uma informação passada para a chamada da função"
      ]
    },
    {
      "cell_type": "markdown",
      "metadata": {
        "id": "GIk_1T2_RfCu"
      },
      "source": [
        "### Faça você mesmo"
      ]
    },
    {
      "cell_type": "code",
      "metadata": {
        "colab": {
          "base_uri": "https://localhost:8080/"
        },
        "id": "1RsWWkh8RhLK",
        "outputId": "3e35b975-652b-457a-c3b5-47479ff4524e"
      },
      "source": [
        "# 8.1 mensagem\n",
        "def display_message():\n",
        "  print(\"Hello dear, I'm learning about functions in this chapter\")\n",
        "\n",
        "display_message()"
      ],
      "execution_count": null,
      "outputs": [
        {
          "output_type": "stream",
          "text": [
            "Hello dear, I'm learning about functions in this chapter\n"
          ],
          "name": "stdout"
        }
      ]
    },
    {
      "cell_type": "code",
      "metadata": {
        "colab": {
          "base_uri": "https://localhost:8080/"
        },
        "id": "_xMxJL7xRwqc",
        "outputId": "40f11a0e-3c56-4a49-ed83-61734df962da"
      },
      "source": [
        "# 8.2 Favorite book\n",
        "\n",
        "def favorite_book(title):\n",
        "  \"\"\" Show information about the favorite book\"\"\"\n",
        "  print(\"My favorite book is: \" + title.title() + \"!\")\n",
        "\n",
        "book = input(\"Which one is your favorite book? \")\n",
        "favorite_book(book)\n"
      ],
      "execution_count": null,
      "outputs": [
        {
          "output_type": "stream",
          "text": [
            "Which one is your favorite book? 21 Lições para o Século 21\n",
            "My favorite book is: 21 Lições Para O Século 21!\n"
          ],
          "name": "stdout"
        }
      ]
    },
    {
      "cell_type": "markdown",
      "metadata": {
        "id": "1dKZxWzVSiXp"
      },
      "source": [
        "#### Passando argumentos\n",
        "Por ser possível que uma chamada de função tenha diversos parâmetros, é possível que a chamada de função tenha vários argumentos. Podemos usar *argumentos posicionais*, que devem estar na mesma ordem em que os parâmetros foram escritos, *argumentos nomeados*, em que cada argumentos é consituído de um nome de variável e de um valor, ou por meio de listas ee dicionários de valores"
      ]
    },
    {
      "cell_type": "markdown",
      "metadata": {
        "id": "Np9W32nETDI4"
      },
      "source": [
        "#### Argumentos posicionais\n",
        "Valores cuja correspondência com os parâmetros seja feita de acordo com a ordem dos argumentos fornecidos. A ordem pe importante em argumentos posicionais"
      ]
    },
    {
      "cell_type": "code",
      "metadata": {
        "colab": {
          "base_uri": "https://localhost:8080/"
        },
        "id": "0ERn5njiTS4c",
        "outputId": "8512fd03-4b2f-4945-d35e-9b59a0721e29"
      },
      "source": [
        "def describe_pet(animal_type, pet_name):\n",
        "  \"\"\"Shows informations about the pet\"\"\"\n",
        "  print(\"\\n I have a \" + animal_type + \".\")\n",
        "  print(\"My \" + animal_type + \"'s name is \" + pet_name.title() + \".\")\n",
        "\n",
        "describe_pet('gatinha', 'gordinha')"
      ],
      "execution_count": null,
      "outputs": [
        {
          "output_type": "stream",
          "text": [
            "\n",
            " I have a gatinha.\n",
            "My gatinha's name is Gordinha.\n"
          ],
          "name": "stdout"
        }
      ]
    },
    {
      "cell_type": "markdown",
      "metadata": {
        "id": "9Rdu59ncUAzJ"
      },
      "source": [
        "##### Várias chamadas de função\n",
        "É um jeito eficiente de trabalhar o código, já que você só precisa chamar uma única vez aquele comportamento"
      ]
    },
    {
      "cell_type": "code",
      "metadata": {
        "colab": {
          "base_uri": "https://localhost:8080/"
        },
        "id": "y5m51h8hUD3e",
        "outputId": "9096ad6f-ccbc-4fb7-a8cc-0e5f9c857194"
      },
      "source": [
        "# Calling the function more than once\n",
        "describe_pet('cachorro', 'wilson')\n",
        "describe_pet('papagaio', 'kito')\n"
      ],
      "execution_count": null,
      "outputs": [
        {
          "output_type": "stream",
          "text": [
            "\n",
            " I have a cachorro.\n",
            "My cachorro's name is Wilson.\n",
            "\n",
            " I have a papagaio.\n",
            "My papagaio's name is Kito.\n"
          ],
          "name": "stdout"
        }
      ]
    },
    {
      "cell_type": "markdown",
      "metadata": {
        "id": "Pa1QNkZhVCRG"
      },
      "source": [
        "#### Argumentos nomeados\n",
        "É um par nome-valor passado para a função. Associamos diretamente o nome e o valor no próprio argumento. Para os argumentos nomeados, pela sua estrutura, você não precisa se preocupar com a ordem"
      ]
    },
    {
      "cell_type": "code",
      "metadata": {
        "id": "YBcw8d-cV4_F"
      },
      "source": [
        "describe_pet(animal_type='hamster',pet_name='wilson')\n",
        "# The function didn't change, but when we called it\n",
        "# we said to Python which parameter each argument would correspond\n"
      ],
      "execution_count": null,
      "outputs": []
    },
    {
      "cell_type": "markdown",
      "metadata": {
        "id": "NkiqrEykXND1"
      },
      "source": [
        "#### Valor default\n",
        "É possível deixar com que a função tenha um comportamento padrão através de um valor default para seus parâmetros, e caso o argumento para aquele parâmetro não seja fornecido, loga a função se comporta com o valor default. Caso o argumento não seja passado de forma nomeada a ordem vai importar neste caso"
      ]
    },
    {
      "cell_type": "code",
      "metadata": {
        "colab": {
          "base_uri": "https://localhost:8080/"
        },
        "id": "pWbf0pYxXjHc",
        "outputId": "9b4acf7a-3d26-471d-c79c-e09ee577c824"
      },
      "source": [
        "def describe_pet(pet_name, animal_type='dog'):\n",
        "  \"\"\"Shows informations about the pet with dog as the animal_type default\"\"\"\n",
        "  print(\"\\n I have a \" + animal_type + \".\")\n",
        "  print(\"My \" + animal_type + \"'s name is \" + pet_name.title() + \".\")\n",
        "\n",
        "describe_pet('willie')\n",
        "describe_pet(pet_name='willie')\n",
        "describe_pet('wilson','cat')"
      ],
      "execution_count": null,
      "outputs": [
        {
          "output_type": "stream",
          "text": [
            "\n",
            " I have a dog.\n",
            "My dog's name is Willie.\n",
            "\n",
            " I have a dog.\n",
            "My dog's name is Willie.\n",
            "\n",
            " I have a cat.\n",
            "My cat's name is Wilson.\n"
          ],
          "name": "stdout"
        }
      ]
    },
    {
      "cell_type": "markdown",
      "metadata": {
        "id": "Pg9PBnT7Yx4M"
      },
      "source": [
        "### Faça você mesmo"
      ]
    },
    {
      "cell_type": "code",
      "metadata": {
        "colab": {
          "base_uri": "https://localhost:8080/"
        },
        "id": "s3o--__LYzyw",
        "outputId": "b0d611ee-5105-495f-ca40-1f434d5f87e7"
      },
      "source": [
        "# 8.3 T-Shirt\n",
        "\n",
        "def make_shirt(size, stamp):\n",
        "  print(\"Your t-shirt size is: \" + size + \" with the following mesage printed: \" + stamp)\n",
        "\n",
        "make_shirt('S', 'I love you')\n",
        "make_shirt(size='S', stamp='I love you!')"
      ],
      "execution_count": null,
      "outputs": [
        {
          "output_type": "stream",
          "text": [
            "Your t-shirt size is: S with the following mesage printed: I love you\n",
            "Your t-shirt size is: S with the following mesage printed: I love you!\n"
          ],
          "name": "stdout"
        }
      ]
    },
    {
      "cell_type": "code",
      "metadata": {
        "colab": {
          "base_uri": "https://localhost:8080/"
        },
        "id": "ZCyNp7-3ZbLj",
        "outputId": "b63eb2f0-206a-4bc1-d309-7c8ce71205aa"
      },
      "source": [
        "# 8.4 Big t-shirts\n",
        "def make_shirt(size='Big', stamp='I love Python'):\n",
        "  print(\"Your t-shirt size is: \" + size + \" with the following mesage printed: \" + stamp)\n",
        "\n",
        "make_shirt()\n",
        "make_shirt(size='M')\n",
        "make_shirt('Small','I reeaaally love python')"
      ],
      "execution_count": null,
      "outputs": [
        {
          "output_type": "stream",
          "text": [
            "Your t-shirt size is: Big with the following mesage printed: I love Python\n",
            "Your t-shirt size is: M with the following mesage printed: I love Python\n",
            "Your t-shirt size is: Small with the following mesage printed: I reeaaally love python\n"
          ],
          "name": "stdout"
        }
      ]
    },
    {
      "cell_type": "markdown",
      "metadata": {
        "id": "-cb5Y1BRaH8s"
      },
      "source": [
        "#### Valores de retorno\n",
        "Uma função nem sempre precisa exibir sua sa´ida diretamente. Em vez disso ela pode processar e devolver um valor. A instrução *return\" toma um valor que está em uma função e o envia de volta à linha que a chamou. Valores de retorno permitem passar boa parte do trabalho pesado de um programa para funções, o que pode simplificar o corpo de seu programa"
      ]
    },
    {
      "cell_type": "code",
      "metadata": {
        "colab": {
          "base_uri": "https://localhost:8080/"
        },
        "id": "384v65Bpai-E",
        "outputId": "10541ead-baae-4447-f933-5fe858a0e847"
      },
      "source": [
        "# Giving back a simple value\n",
        "# It receives the arguments, but now, it gives back a return using the arguments\n",
        "# and not directly the arguments as it was before\n",
        "#\n",
        "# When we call a function that return a value, we need to save this value\n",
        "# in a variable\n",
        "def get_formatted_name(first_name, last_name):\n",
        "  \"\"\" Give back the name in an elegant way\"\"\"\n",
        "  full_name = first_name + ' ' + last_name\n",
        "  return full_name\n",
        "\n",
        "musician = get_formatted_name('Luiz', 'Sá')\n",
        "print(musician)\n",
        "\n",
        "# Learning: when I printed the funcion directly, it came as a tuple\n",
        "# and not as a string"
      ],
      "execution_count": null,
      "outputs": [
        {
          "output_type": "stream",
          "text": [
            "Luiz Sá\n"
          ],
          "name": "stdout"
        }
      ]
    },
    {
      "cell_type": "markdown",
      "metadata": {
        "id": "ROJCVQrIcAiA"
      },
      "source": [
        "#### Deixando um argumento opcional\n",
        "Ás vezes as pessoas não precisam fornecer todos os valores o os valores *default* servem para deixar um argumento opcional. Valores *opcionais* permitem que lidemos com vários casos de uso, mantendo a simplificação das chamadas de função"
      ]
    },
    {
      "cell_type": "code",
      "metadata": {
        "colab": {
          "base_uri": "https://localhost:8080/"
        },
        "id": "7dFFqSJ-cdxu",
        "outputId": "5044f26a-0afb-488a-dbce-33b2bd17d27b"
      },
      "source": [
        "def get_formatted_name(first_name, last_name, middle_name=\"\"):\n",
        "  \"\"\" Give back the name in an elegant way\"\"\"\n",
        "  if middle_name: # Python evaluate not empty string as true\n",
        "    full_name = first_name +' ' + middle_name +' '+  last_name\n",
        "  else:\n",
        "    full_name = first_name + ' ' + last_name\n",
        "  return full_name\n",
        "\n",
        "musician = get_formatted_name('Luiz', 'Sá')\n",
        "print(musician)\n",
        "\n",
        "musician = get_formatted_name('Luiz','Sá','Henrique')\n",
        "print(musician)"
      ],
      "execution_count": null,
      "outputs": [
        {
          "output_type": "stream",
          "text": [
            "Luiz Sá\n",
            "Luiz Henrique Sá\n"
          ],
          "name": "stdout"
        }
      ]
    },
    {
      "cell_type": "markdown",
      "metadata": {
        "id": "82yCbdHwdrqi"
      },
      "source": [
        "#### Devolvendo um dicionário"
      ]
    },
    {
      "cell_type": "code",
      "metadata": {
        "colab": {
          "base_uri": "https://localhost:8080/"
        },
        "id": "PXyqyp38dwod",
        "outputId": "0b208660-80d8-415b-d601-979511f85530"
      },
      "source": [
        "# Accept part of a name and return a dictionary that represent a person\n",
        "def build_person(first_name,last_name):\n",
        "  \"\"\" Return a dictionary with informations about a person\"\"\"\n",
        "  person = {'first':first_name, 'last':last_name}\n",
        "  return person\n",
        "musician = build_person('jimi','hendrix')\n",
        "print(musician)"
      ],
      "execution_count": null,
      "outputs": [
        {
          "output_type": "stream",
          "text": [
            "{'first': 'jimi', 'last': 'hendrix'}\n"
          ],
          "name": "stdout"
        }
      ]
    },
    {
      "cell_type": "markdown",
      "metadata": {
        "id": "m_-VA56Qe2lW"
      },
      "source": [
        "#### Usando funções com um laço while\n"
      ]
    },
    {
      "cell_type": "code",
      "metadata": {
        "id": "5Hqt28LyfPIf",
        "colab": {
          "base_uri": "https://localhost:8080/",
          "height": 698
        },
        "outputId": "fddb091b-ea16-4422-d0b2-3ba791a81837"
      },
      "source": [
        "def get_formatted_name(first_name, last_name):\n",
        "  \"\"\" Return the name in an elegant way\"\"\"\n",
        "  full_name = first_name + ' ' + last_name\n",
        "  return full_name.title()\n",
        "# infinite loop\n",
        "while True:\n",
        "  print(\"Please tell me your name: \")\n",
        "  f_name = input(\"First name: \")\n",
        "  l_name = input(\"Last name: \")\n",
        "  formatted_name = get_formatted_name(f_name, l_name)\n",
        "  print(formatted_name)\n",
        "\n",
        "## A solution to leave easily is to use break. So, add a if name == 'quit'\n",
        "# then inform the user to use this instruction to leave the program"
      ],
      "execution_count": 1,
      "outputs": [
        {
          "output_type": "stream",
          "text": [
            "Please tell me your name: \n",
            "First name: Adriana\n",
            "Last name: Sá\n",
            "Adriana Sá\n",
            "Please tell me your name: \n",
            "First name: \n",
            "Last name: q\n",
            " Q\n",
            "Please tell me your name: \n",
            "First name: quit\n"
          ],
          "name": "stdout"
        },
        {
          "output_type": "error",
          "ename": "KeyboardInterrupt",
          "evalue": "ignored",
          "traceback": [
            "\u001b[0;31m---------------------------------------------------------------------------\u001b[0m",
            "\u001b[0;31mKeyboardInterrupt\u001b[0m                         Traceback (most recent call last)",
            "\u001b[0;32m/usr/local/lib/python3.7/dist-packages/ipykernel/kernelbase.py\u001b[0m in \u001b[0;36m_input_request\u001b[0;34m(self, prompt, ident, parent, password)\u001b[0m\n\u001b[1;32m    728\u001b[0m             \u001b[0;32mtry\u001b[0m\u001b[0;34m:\u001b[0m\u001b[0;34m\u001b[0m\u001b[0;34m\u001b[0m\u001b[0m\n\u001b[0;32m--> 729\u001b[0;31m                 \u001b[0mident\u001b[0m\u001b[0;34m,\u001b[0m \u001b[0mreply\u001b[0m \u001b[0;34m=\u001b[0m \u001b[0mself\u001b[0m\u001b[0;34m.\u001b[0m\u001b[0msession\u001b[0m\u001b[0;34m.\u001b[0m\u001b[0mrecv\u001b[0m\u001b[0;34m(\u001b[0m\u001b[0mself\u001b[0m\u001b[0;34m.\u001b[0m\u001b[0mstdin_socket\u001b[0m\u001b[0;34m,\u001b[0m \u001b[0;36m0\u001b[0m\u001b[0;34m)\u001b[0m\u001b[0;34m\u001b[0m\u001b[0;34m\u001b[0m\u001b[0m\n\u001b[0m\u001b[1;32m    730\u001b[0m             \u001b[0;32mexcept\u001b[0m \u001b[0mException\u001b[0m\u001b[0;34m:\u001b[0m\u001b[0;34m\u001b[0m\u001b[0;34m\u001b[0m\u001b[0m\n",
            "\u001b[0;32m/usr/local/lib/python3.7/dist-packages/jupyter_client/session.py\u001b[0m in \u001b[0;36mrecv\u001b[0;34m(self, socket, mode, content, copy)\u001b[0m\n\u001b[1;32m    802\u001b[0m         \u001b[0;32mtry\u001b[0m\u001b[0;34m:\u001b[0m\u001b[0;34m\u001b[0m\u001b[0;34m\u001b[0m\u001b[0m\n\u001b[0;32m--> 803\u001b[0;31m             \u001b[0mmsg_list\u001b[0m \u001b[0;34m=\u001b[0m \u001b[0msocket\u001b[0m\u001b[0;34m.\u001b[0m\u001b[0mrecv_multipart\u001b[0m\u001b[0;34m(\u001b[0m\u001b[0mmode\u001b[0m\u001b[0;34m,\u001b[0m \u001b[0mcopy\u001b[0m\u001b[0;34m=\u001b[0m\u001b[0mcopy\u001b[0m\u001b[0;34m)\u001b[0m\u001b[0;34m\u001b[0m\u001b[0;34m\u001b[0m\u001b[0m\n\u001b[0m\u001b[1;32m    804\u001b[0m         \u001b[0;32mexcept\u001b[0m \u001b[0mzmq\u001b[0m\u001b[0;34m.\u001b[0m\u001b[0mZMQError\u001b[0m \u001b[0;32mas\u001b[0m \u001b[0me\u001b[0m\u001b[0;34m:\u001b[0m\u001b[0;34m\u001b[0m\u001b[0;34m\u001b[0m\u001b[0m\n",
            "\u001b[0;32m/usr/local/lib/python3.7/dist-packages/zmq/sugar/socket.py\u001b[0m in \u001b[0;36mrecv_multipart\u001b[0;34m(self, flags, copy, track)\u001b[0m\n\u001b[1;32m    582\u001b[0m         \"\"\"\n\u001b[0;32m--> 583\u001b[0;31m         \u001b[0mparts\u001b[0m \u001b[0;34m=\u001b[0m \u001b[0;34m[\u001b[0m\u001b[0mself\u001b[0m\u001b[0;34m.\u001b[0m\u001b[0mrecv\u001b[0m\u001b[0;34m(\u001b[0m\u001b[0mflags\u001b[0m\u001b[0;34m,\u001b[0m \u001b[0mcopy\u001b[0m\u001b[0;34m=\u001b[0m\u001b[0mcopy\u001b[0m\u001b[0;34m,\u001b[0m \u001b[0mtrack\u001b[0m\u001b[0;34m=\u001b[0m\u001b[0mtrack\u001b[0m\u001b[0;34m)\u001b[0m\u001b[0;34m]\u001b[0m\u001b[0;34m\u001b[0m\u001b[0;34m\u001b[0m\u001b[0m\n\u001b[0m\u001b[1;32m    584\u001b[0m         \u001b[0;31m# have first part already, only loop while more to receive\u001b[0m\u001b[0;34m\u001b[0m\u001b[0;34m\u001b[0m\u001b[0;34m\u001b[0m\u001b[0m\n",
            "\u001b[0;32mzmq/backend/cython/socket.pyx\u001b[0m in \u001b[0;36mzmq.backend.cython.socket.Socket.recv\u001b[0;34m()\u001b[0m\n",
            "\u001b[0;32mzmq/backend/cython/socket.pyx\u001b[0m in \u001b[0;36mzmq.backend.cython.socket.Socket.recv\u001b[0;34m()\u001b[0m\n",
            "\u001b[0;32mzmq/backend/cython/socket.pyx\u001b[0m in \u001b[0;36mzmq.backend.cython.socket._recv_copy\u001b[0;34m()\u001b[0m\n",
            "\u001b[0;32m/usr/local/lib/python3.7/dist-packages/zmq/backend/cython/checkrc.pxd\u001b[0m in \u001b[0;36mzmq.backend.cython.checkrc._check_rc\u001b[0;34m()\u001b[0m\n",
            "\u001b[0;31mKeyboardInterrupt\u001b[0m: ",
            "\nDuring handling of the above exception, another exception occurred:\n",
            "\u001b[0;31mKeyboardInterrupt\u001b[0m                         Traceback (most recent call last)",
            "\u001b[0;32m<ipython-input-1-b17de2a0a7a4>\u001b[0m in \u001b[0;36m<module>\u001b[0;34m()\u001b[0m\n\u001b[1;32m      7\u001b[0m   \u001b[0mprint\u001b[0m\u001b[0;34m(\u001b[0m\u001b[0;34m\"Please tell me your name: \"\u001b[0m\u001b[0;34m)\u001b[0m\u001b[0;34m\u001b[0m\u001b[0;34m\u001b[0m\u001b[0m\n\u001b[1;32m      8\u001b[0m   \u001b[0mf_name\u001b[0m \u001b[0;34m=\u001b[0m \u001b[0minput\u001b[0m\u001b[0;34m(\u001b[0m\u001b[0;34m\"First name: \"\u001b[0m\u001b[0;34m)\u001b[0m\u001b[0;34m\u001b[0m\u001b[0;34m\u001b[0m\u001b[0m\n\u001b[0;32m----> 9\u001b[0;31m   \u001b[0ml_name\u001b[0m \u001b[0;34m=\u001b[0m \u001b[0minput\u001b[0m\u001b[0;34m(\u001b[0m\u001b[0;34m\"Last name: \"\u001b[0m\u001b[0;34m)\u001b[0m\u001b[0;34m\u001b[0m\u001b[0;34m\u001b[0m\u001b[0m\n\u001b[0m\u001b[1;32m     10\u001b[0m   \u001b[0mformatted_name\u001b[0m \u001b[0;34m=\u001b[0m \u001b[0mget_formatted_name\u001b[0m\u001b[0;34m(\u001b[0m\u001b[0mf_name\u001b[0m\u001b[0;34m,\u001b[0m \u001b[0ml_name\u001b[0m\u001b[0;34m)\u001b[0m\u001b[0;34m\u001b[0m\u001b[0;34m\u001b[0m\u001b[0m\n\u001b[1;32m     11\u001b[0m   \u001b[0mprint\u001b[0m\u001b[0;34m(\u001b[0m\u001b[0mformatted_name\u001b[0m\u001b[0;34m)\u001b[0m\u001b[0;34m\u001b[0m\u001b[0;34m\u001b[0m\u001b[0m\n",
            "\u001b[0;32m/usr/local/lib/python3.7/dist-packages/ipykernel/kernelbase.py\u001b[0m in \u001b[0;36mraw_input\u001b[0;34m(self, prompt)\u001b[0m\n\u001b[1;32m    702\u001b[0m             \u001b[0mself\u001b[0m\u001b[0;34m.\u001b[0m\u001b[0m_parent_ident\u001b[0m\u001b[0;34m,\u001b[0m\u001b[0;34m\u001b[0m\u001b[0;34m\u001b[0m\u001b[0m\n\u001b[1;32m    703\u001b[0m             \u001b[0mself\u001b[0m\u001b[0;34m.\u001b[0m\u001b[0m_parent_header\u001b[0m\u001b[0;34m,\u001b[0m\u001b[0;34m\u001b[0m\u001b[0;34m\u001b[0m\u001b[0m\n\u001b[0;32m--> 704\u001b[0;31m             \u001b[0mpassword\u001b[0m\u001b[0;34m=\u001b[0m\u001b[0;32mFalse\u001b[0m\u001b[0;34m,\u001b[0m\u001b[0;34m\u001b[0m\u001b[0;34m\u001b[0m\u001b[0m\n\u001b[0m\u001b[1;32m    705\u001b[0m         )\n\u001b[1;32m    706\u001b[0m \u001b[0;34m\u001b[0m\u001b[0m\n",
            "\u001b[0;32m/usr/local/lib/python3.7/dist-packages/ipykernel/kernelbase.py\u001b[0m in \u001b[0;36m_input_request\u001b[0;34m(self, prompt, ident, parent, password)\u001b[0m\n\u001b[1;32m    732\u001b[0m             \u001b[0;32mexcept\u001b[0m \u001b[0mKeyboardInterrupt\u001b[0m\u001b[0;34m:\u001b[0m\u001b[0;34m\u001b[0m\u001b[0;34m\u001b[0m\u001b[0m\n\u001b[1;32m    733\u001b[0m                 \u001b[0;31m# re-raise KeyboardInterrupt, to truncate traceback\u001b[0m\u001b[0;34m\u001b[0m\u001b[0;34m\u001b[0m\u001b[0;34m\u001b[0m\u001b[0m\n\u001b[0;32m--> 734\u001b[0;31m                 \u001b[0;32mraise\u001b[0m \u001b[0mKeyboardInterrupt\u001b[0m\u001b[0;34m\u001b[0m\u001b[0;34m\u001b[0m\u001b[0m\n\u001b[0m\u001b[1;32m    735\u001b[0m             \u001b[0;32melse\u001b[0m\u001b[0;34m:\u001b[0m\u001b[0;34m\u001b[0m\u001b[0;34m\u001b[0m\u001b[0m\n\u001b[1;32m    736\u001b[0m                 \u001b[0;32mbreak\u001b[0m\u001b[0;34m\u001b[0m\u001b[0;34m\u001b[0m\u001b[0m\n",
            "\u001b[0;31mKeyboardInterrupt\u001b[0m: "
          ]
        }
      ]
    },
    {
      "cell_type": "markdown",
      "metadata": {
        "id": "UkSu_ruiawmX"
      },
      "source": [
        "## Faça você mesmo"
      ]
    },
    {
      "cell_type": "code",
      "metadata": {
        "colab": {
          "base_uri": "https://localhost:8080/"
        },
        "id": "yI7mVFg7ayg4",
        "outputId": "09e5f858-bfba-4b09-ebcd-f81620d8b3e0"
      },
      "source": [
        "# 8.6 Nomes de cidade\n",
        "def city_country(city_name,country_name):\n",
        "  \"\"\"This function receives the city name and country name to print it\"\"\"\n",
        "  print(\"\\tYou live in \" + city_name.title() + \", \" + country_name.title())\n",
        "\n",
        "flag = True\n",
        "while flag:\n",
        "  print(\"\\nAnswer no two times to leave at any moment!\")\n",
        "  city = input(\"\\nTell to me your city name: \")\n",
        "  if city == 'no':\n",
        "    break\n",
        "  country = input(\"Tell to me the country name: \")\n",
        "  if country == 'no':\n",
        "    break\n",
        "  else:\n",
        "    city_country(city,country)\n",
        "\n"
      ],
      "execution_count": 3,
      "outputs": [
        {
          "output_type": "stream",
          "text": [
            "Answer no two times to leave at any moment!\n",
            "\n",
            "Tell to me your city name: Ananindeua\n",
            "Tell to me the country name: Brasil\n",
            "Ananindeua, Brasil\n",
            "Answer no two times to leave at any moment!\n",
            "\n",
            "Tell to me your city name: no\n"
          ],
          "name": "stdout"
        }
      ]
    },
    {
      "cell_type": "code",
      "metadata": {
        "colab": {
          "base_uri": "https://localhost:8080/"
        },
        "id": "ziLeSZjldij-",
        "outputId": "485c5673-2166-487e-a920-421269fd3a91"
      },
      "source": [
        "# 8.7 álbum\n",
        "def make_album(artist_name,album_title, amount_musics=''):\n",
        "  \"\"\"Creates 3 differente albums with the name of a artis and the album name\"\"\"\n",
        "  if amount_musics:\n",
        "    album = {'name_artist':artist_name,'title_album':album_title,'samples':amount_musics}\n",
        "  else:\n",
        "    album = {'name_artist':artist_name,'title_album':album_title}\n",
        "  return album\n",
        "\n",
        "x=0\n",
        "while x < 3:\n",
        "  n_artist = input(\"Please, inform the name of the artist: \")\n",
        "  a_title = input(\"Please, inform the name of the album: \")\n",
        "  a_musics = input(\"Please, the number os musics if you know: \")\n",
        "  name_album = make_album(n_artist, a_title,a_musics)\n",
        "  print(name_album)\n",
        "  x+=1\n"
      ],
      "execution_count": 7,
      "outputs": [
        {
          "output_type": "stream",
          "text": [
            "Please, inform the name of the artist: Jimi Hendri\n",
            "Please, inform the name of the album: Soul of soul\n",
            "Please, the number os musics if you know: Lulaby\n",
            "{'name_artist': 'Jimi Hendri', 'title_album': 'Soul of soul', 'samples': 'Lulaby'}\n",
            "Please, inform the name of the artist: Dance with me\n",
            "Please, inform the name of the album: Alo\n",
            "Please, the number os musics if you know: \n",
            "{'name_artist': 'Dance with me', 'title_album': 'Alo'}\n",
            "Please, inform the name of the artist: a\n",
            "Please, inform the name of the album: a\n",
            "Please, the number os musics if you know: 12\n",
            "{'name_artist': 'a', 'title_album': 'a', 'samples': '12'}\n"
          ],
          "name": "stdout"
        }
      ]
    },
    {
      "cell_type": "markdown",
      "metadata": {
        "id": "wwaTyp8oh6IA"
      },
      "source": [
        "#### Passando uma lista para uma função"
      ]
    },
    {
      "cell_type": "code",
      "metadata": {
        "colab": {
          "base_uri": "https://localhost:8080/"
        },
        "id": "bQ8UrngYiI33",
        "outputId": "d8bcd469-5b8a-455b-f48e-305284cf8f7a"
      },
      "source": [
        "# Greet users in a list\n",
        "def greet_users(names):\n",
        "  \"\"\"Shows a simple greet for each user in a list\"\"\"\n",
        "  for name in names:\n",
        "    msg = \"Hello, \" + name.title() + \"!\"\n",
        "    print(msg)\n",
        "usernames = ['luiz','adriana', 'bruno']\n",
        "greet_users(usernames)"
      ],
      "execution_count": 8,
      "outputs": [
        {
          "output_type": "stream",
          "text": [
            "Hello, Luiz!\n",
            "Hello, Adriana!\n",
            "Hello, Bruno!\n"
          ],
          "name": "stdout"
        }
      ]
    },
    {
      "cell_type": "markdown",
      "metadata": {
        "id": "cJSP35d7iuF4"
      },
      "source": [
        "#### Modificando uma lista em uma função"
      ]
    },
    {
      "cell_type": "code",
      "metadata": {
        "colab": {
          "base_uri": "https://localhost:8080/"
        },
        "id": "5UiTZsIHixN8",
        "outputId": "0bbfff01-30c3-4f7e-dbca-8217c04c3c72"
      },
      "source": [
        "# Start with some designs that will be printed\n",
        "unprinted_designs = ['iphone case', 'robot pendant', 'dodecahedron']\n",
        "completed_models = []\n",
        "\n",
        "# Simula a impressão de cada design, até que não haja mais nenhum \n",
        "# Transfere cada design para completed_models após a impressão\n",
        "\n",
        "while unprinted_designs:\n",
        "  current_design = unprinted_designs.pop()\n",
        "  print(\"Printing model: \" + current_design)\n",
        "  completed_models.append(current_design)\n",
        "  print(\"\\nThe following models have been printed:\")\n",
        "\n",
        "for completed_model in completed_models:\n",
        "  print(completed_model)\n"
      ],
      "execution_count": 9,
      "outputs": [
        {
          "output_type": "stream",
          "text": [
            "Printing model: dodecahedron\n",
            "\n",
            "The following models have been printed:\n",
            "Printing model: robot pendant\n",
            "\n",
            "The following models have been printed:\n",
            "Printing model: iphone case\n",
            "\n",
            "The following models have been printed:\n",
            "dodecahedron\n",
            "robot pendant\n",
            "iphone case\n"
          ],
          "name": "stdout"
        }
      ]
    },
    {
      "cell_type": "code",
      "metadata": {
        "colab": {
          "base_uri": "https://localhost:8080/"
        },
        "id": "MhlzmpRrkLgg",
        "outputId": "2a3bb892-eef3-4e92-d099-082cbe304f25"
      },
      "source": [
        "# Optmizing the code above with two functions\n",
        "\n",
        "def print_models(unprinted_designs,completed_models):\n",
        "  \"\"\" Simulates the impressiona of each design, until the list is empty\n",
        "  Transfer each design to completed_modles after the print\"\"\"\n",
        "  while unprinted_designs:\n",
        "    current_design = unprinted_designs.pop()\n",
        "    print(\"Printing model: \" + current_design)\n",
        "    completed_models.append(current_design)\n",
        "\n",
        "def show_completed_models(completed_models):\n",
        "  \"\"\"Shows everything printed\"\"\"\n",
        "  print(\"\\nThe following models have been printed:\")\n",
        "  for completed_model in completed_models:\n",
        "    print(completed_model)\n",
        "\n",
        "unprinted_designs = ['iphone case', 'robot pendant', 'dodecahedron']\n",
        "completed_models = []\n",
        "\n",
        "print_models(unprinted_designs, completed_models)\n",
        "show_completed_models(completed_models)\n",
        "\n",
        "'''I dont' know if it's a good practice to repeat the same names in different\n",
        "places'''\n"
      ],
      "execution_count": 10,
      "outputs": [
        {
          "output_type": "stream",
          "text": [
            "Printing model: dodecahedron\n",
            "Printing model: robot pendant\n",
            "Printing model: iphone case\n",
            "\n",
            "The following models have been printed:\n",
            "dodecahedron\n",
            "robot pendant\n",
            "iphone case\n"
          ],
          "name": "stdout"
        }
      ]
    },
    {
      "cell_type": "markdown",
      "metadata": {
        "id": "Meh90l-TpVJ3"
      },
      "source": [
        "#### Evitar que uma função modifique uma lista\n",
        "tratamos esse caso passando uma cópia da lista para a função, e não a original. Serve para manter bancos intactos, fazendo:\n",
        "nome_da_função(nome_da_lista[:])\n",
        "\n",
        "A notação [:] fatia cria uma cópia. \n",
        "Só tome essa ação se tiver uma razão específica, assim evita tempo de uso de memória\n"
      ]
    }
  ]
}