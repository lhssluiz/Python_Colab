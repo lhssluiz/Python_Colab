{
  "nbformat": 4,
  "nbformat_minor": 0,
  "metadata": {
    "colab": {
      "name": "6. Funções.ipynb",
      "provenance": [],
      "toc_visible": true,
      "mount_file_id": "1XJtgwM0LBap5B5qyFZGC05hJE3zDxgvp",
      "authorship_tag": "ABX9TyMwvradLm3XKvIKefyqK4Q2",
      "include_colab_link": true
    },
    "kernelspec": {
      "name": "python3",
      "display_name": "Python 3"
    },
    "language_info": {
      "name": "python"
    }
  },
  "cells": [
    {
      "cell_type": "markdown",
      "metadata": {
        "id": "view-in-github",
        "colab_type": "text"
      },
      "source": [
        "<a href=\"https://colab.research.google.com/github/lhssluiz/Python_Colab/blob/main/6_Fun%C3%A7%C3%B5es.ipynb\" target=\"_parent\"><img src=\"https://colab.research.google.com/assets/colab-badge.svg\" alt=\"Open In Colab\"/></a>"
      ]
    },
    {
      "cell_type": "markdown",
      "metadata": {
        "id": "aKYNOwQJLEWj"
      },
      "source": [
        "1h26 - 03/Abr\n",
        "1h - 04/Abr\n",
        "2h - 06/Abr\n",
        "# Funções\n",
        "São blocos de código nomeados, concebidos para **realizar uma tarefa específica**. A função têm tarefas em particular definidas. Com isto *chamamos* o nome da função que é responsável por esta tarefa.\n",
        "\n",
        "Veremos:\n",
        "- Passar informações para funções\n",
        "- Escrever as funções que visam processar dados e devolver um valor ou conjunto de valores\n",
        "- Como armazenar as funções em arquivos separados *módulos* para ajudar a organizar os arquivos do projeto"
      ]
    },
    {
      "cell_type": "markdown",
      "metadata": {
        "id": "QQFr3qfiMXfO"
      },
      "source": [
        "#### Definindo uma função"
      ]
    },
    {
      "cell_type": "code",
      "metadata": {
        "colab": {
          "base_uri": "https://localhost:8080/"
        },
        "id": "AJg4af4gqF2S",
        "outputId": "88caf3fe-c415-42b6-8409-2650d03ba61f"
      },
      "source": [
        "# The most simple function that shows a greeting\n",
        "# We use \"def\" to define a function\n",
        "# Three apostrophes indicate the docstring\n",
        "# To call a function, you only need to write its name with the parameters\n",
        "# in case it has\n",
        "\n",
        "def greet_user():\n",
        "  \"\"\"Shows a greeting\"\"\"\n",
        "  print(\"Hello\")\n",
        "\n",
        "greet_user()"
      ],
      "execution_count": null,
      "outputs": [
        {
          "output_type": "stream",
          "text": [
            "Hello\n"
          ],
          "name": "stdout"
        }
      ]
    },
    {
      "cell_type": "markdown",
      "metadata": {
        "id": "Z6LcBFycQ2Vc"
      },
      "source": [
        "#### Passando informações para uma função"
      ]
    },
    {
      "cell_type": "code",
      "metadata": {
        "colab": {
          "base_uri": "https://localhost:8080/"
        },
        "id": "DKfkRyT1P6ss",
        "outputId": "f3d78c5d-6a4d-494b-9393-2b7c6874d8c9"
      },
      "source": [
        "# Passing a parameter for a function\n",
        "# You define the parameter\n",
        "def greet_user(username):\n",
        "  \"\"\"Shows a greeting\"\"\"\n",
        "  print(\"Hello, \" + username.title() + \"!\")\n",
        "greet_user('julia')"
      ],
      "execution_count": null,
      "outputs": [
        {
          "output_type": "stream",
          "text": [
            "Hello, Julia!\n"
          ],
          "name": "stdout"
        }
      ]
    },
    {
      "cell_type": "markdown",
      "metadata": {
        "id": "zIW8Ff_7Q9cr"
      },
      "source": [
        "#### Argumentos e parâmetros\n",
        "No exemlo anterior *username* é um parâmetro e o nome da pessoa, como no caso *julia* é um argumento. Um argumento é uma informação passada para a chamada da função"
      ]
    },
    {
      "cell_type": "markdown",
      "metadata": {
        "id": "GIk_1T2_RfCu"
      },
      "source": [
        "### Faça você mesmo"
      ]
    },
    {
      "cell_type": "code",
      "metadata": {
        "colab": {
          "base_uri": "https://localhost:8080/"
        },
        "id": "1RsWWkh8RhLK",
        "outputId": "3e35b975-652b-457a-c3b5-47479ff4524e"
      },
      "source": [
        "# 8.1 mensagem\n",
        "def display_message():\n",
        "  print(\"Hello dear, I'm learning about functions in this chapter\")\n",
        "\n",
        "display_message()"
      ],
      "execution_count": null,
      "outputs": [
        {
          "output_type": "stream",
          "text": [
            "Hello dear, I'm learning about functions in this chapter\n"
          ],
          "name": "stdout"
        }
      ]
    },
    {
      "cell_type": "code",
      "metadata": {
        "colab": {
          "base_uri": "https://localhost:8080/"
        },
        "id": "_xMxJL7xRwqc",
        "outputId": "40f11a0e-3c56-4a49-ed83-61734df962da"
      },
      "source": [
        "# 8.2 Favorite book\n",
        "\n",
        "def favorite_book(title):\n",
        "  \"\"\" Show information about the favorite book\"\"\"\n",
        "  print(\"My favorite book is: \" + title.title() + \"!\")\n",
        "\n",
        "book = input(\"Which one is your favorite book? \")\n",
        "favorite_book(book)\n"
      ],
      "execution_count": null,
      "outputs": [
        {
          "output_type": "stream",
          "text": [
            "Which one is your favorite book? 21 Lições para o Século 21\n",
            "My favorite book is: 21 Lições Para O Século 21!\n"
          ],
          "name": "stdout"
        }
      ]
    },
    {
      "cell_type": "markdown",
      "metadata": {
        "id": "1dKZxWzVSiXp"
      },
      "source": [
        "#### Passando argumentos\n",
        "Por ser possível que uma chamada de função tenha diversos parâmetros, é possível que a chamada de função tenha vários argumentos. Podemos usar *argumentos posicionais*, que devem estar na mesma ordem em que os parâmetros foram escritos, *argumentos nomeados*, em que cada argumentos é consituído de um nome de variável e de um valor, ou por meio de listas ee dicionários de valores"
      ]
    },
    {
      "cell_type": "markdown",
      "metadata": {
        "id": "Np9W32nETDI4"
      },
      "source": [
        "#### Argumentos posicionais\n",
        "Valores cuja correspondência com os parâmetros seja feita de acordo com a ordem dos argumentos fornecidos. A ordem pe importante em argumentos posicionais"
      ]
    },
    {
      "cell_type": "code",
      "metadata": {
        "colab": {
          "base_uri": "https://localhost:8080/"
        },
        "id": "0ERn5njiTS4c",
        "outputId": "b65265ec-25a0-40ce-8ce5-0fc9a88fbb68"
      },
      "source": [
        "def describe_pet(animal_type, pet_name):\n",
        "  \"\"\"Shows informations about the pet\"\"\"\n",
        "  print(\"\\n I have a \" + animal_type + \".\")\n",
        "  print(\"My \" + animal_type + \"'s name is \" + pet_name.title() + \".\")\n",
        "\n",
        "describe_pet('gatinha', 'gesebel')"
      ],
      "execution_count": 1,
      "outputs": [
        {
          "output_type": "stream",
          "text": [
            "\n",
            " I have a gatinha.\n",
            "My gatinha's name is Gesebel.\n"
          ],
          "name": "stdout"
        }
      ]
    },
    {
      "cell_type": "markdown",
      "metadata": {
        "id": "9Rdu59ncUAzJ"
      },
      "source": [
        "##### Várias chamadas de função\n",
        "É um jeito eficiente de trabalhar o código, já que você só precisa chamar uma única vez aquele comportamento"
      ]
    },
    {
      "cell_type": "code",
      "metadata": {
        "colab": {
          "base_uri": "https://localhost:8080/"
        },
        "id": "y5m51h8hUD3e",
        "outputId": "9096ad6f-ccbc-4fb7-a8cc-0e5f9c857194"
      },
      "source": [
        "# Calling the function more than once\n",
        "describe_pet('cachorro', 'wilson')\n",
        "describe_pet('papagaio', 'kito')\n"
      ],
      "execution_count": null,
      "outputs": [
        {
          "output_type": "stream",
          "text": [
            "\n",
            " I have a cachorro.\n",
            "My cachorro's name is Wilson.\n",
            "\n",
            " I have a papagaio.\n",
            "My papagaio's name is Kito.\n"
          ],
          "name": "stdout"
        }
      ]
    },
    {
      "cell_type": "markdown",
      "metadata": {
        "id": "Pa1QNkZhVCRG"
      },
      "source": [
        "#### Argumentos nomeados\n",
        "É um par nome-valor passado para a função. Associamos diretamente o nome e o valor no próprio argumento. Para os argumentos nomeados, pela sua estrutura, você não precisa se preocupar com a ordem"
      ]
    },
    {
      "cell_type": "code",
      "metadata": {
        "id": "YBcw8d-cV4_F"
      },
      "source": [
        "describe_pet(animal_type='hamster',pet_name='wilson')\n",
        "# The function didn't change, but when we called it\n",
        "# we said to Python which parameter each argument would correspond\n"
      ],
      "execution_count": null,
      "outputs": []
    },
    {
      "cell_type": "markdown",
      "metadata": {
        "id": "NkiqrEykXND1"
      },
      "source": [
        "#### Valor default\n",
        "É possível deixar com que a função tenha um comportamento padrão através de um valor default para seus parâmetros, e caso o argumento para aquele parâmetro não seja fornecido, loga a função se comporta com o valor default. Caso o argumento não seja passado de forma nomeada a ordem vai importar neste caso"
      ]
    },
    {
      "cell_type": "code",
      "metadata": {
        "colab": {
          "base_uri": "https://localhost:8080/"
        },
        "id": "pWbf0pYxXjHc",
        "outputId": "9b4acf7a-3d26-471d-c79c-e09ee577c824"
      },
      "source": [
        "def describe_pet(pet_name, animal_type='dog'):\n",
        "  \"\"\"Shows informations about the pet with dog as the animal_type default\"\"\"\n",
        "  print(\"\\n I have a \" + animal_type + \".\")\n",
        "  print(\"My \" + animal_type + \"'s name is \" + pet_name.title() + \".\")\n",
        "\n",
        "describe_pet('willie')\n",
        "describe_pet(pet_name='willie')\n",
        "describe_pet('wilson','cat')"
      ],
      "execution_count": null,
      "outputs": [
        {
          "output_type": "stream",
          "text": [
            "\n",
            " I have a dog.\n",
            "My dog's name is Willie.\n",
            "\n",
            " I have a dog.\n",
            "My dog's name is Willie.\n",
            "\n",
            " I have a cat.\n",
            "My cat's name is Wilson.\n"
          ],
          "name": "stdout"
        }
      ]
    },
    {
      "cell_type": "markdown",
      "metadata": {
        "id": "Pg9PBnT7Yx4M"
      },
      "source": [
        "### Faça você mesmo"
      ]
    },
    {
      "cell_type": "code",
      "metadata": {
        "colab": {
          "base_uri": "https://localhost:8080/"
        },
        "id": "s3o--__LYzyw",
        "outputId": "b0d611ee-5105-495f-ca40-1f434d5f87e7"
      },
      "source": [
        "# 8.3 T-Shirt\n",
        "\n",
        "def make_shirt(size, stamp):\n",
        "  print(\"Your t-shirt size is: \" + size + \" with the following mesage printed: \" + stamp)\n",
        "\n",
        "make_shirt('S', 'I love you')\n",
        "make_shirt(size='S', stamp='I love you!')"
      ],
      "execution_count": null,
      "outputs": [
        {
          "output_type": "stream",
          "text": [
            "Your t-shirt size is: S with the following mesage printed: I love you\n",
            "Your t-shirt size is: S with the following mesage printed: I love you!\n"
          ],
          "name": "stdout"
        }
      ]
    },
    {
      "cell_type": "code",
      "metadata": {
        "colab": {
          "base_uri": "https://localhost:8080/"
        },
        "id": "ZCyNp7-3ZbLj",
        "outputId": "b63eb2f0-206a-4bc1-d309-7c8ce71205aa"
      },
      "source": [
        "# 8.4 Big t-shirts\n",
        "def make_shirt(size='Big', stamp='I love Python'):\n",
        "  print(\"Your t-shirt size is: \" + size + \" with the following mesage printed: \" + stamp)\n",
        "\n",
        "make_shirt()\n",
        "make_shirt(size='M')\n",
        "make_shirt('Small','I reeaaally love python')"
      ],
      "execution_count": null,
      "outputs": [
        {
          "output_type": "stream",
          "text": [
            "Your t-shirt size is: Big with the following mesage printed: I love Python\n",
            "Your t-shirt size is: M with the following mesage printed: I love Python\n",
            "Your t-shirt size is: Small with the following mesage printed: I reeaaally love python\n"
          ],
          "name": "stdout"
        }
      ]
    },
    {
      "cell_type": "markdown",
      "metadata": {
        "id": "-cb5Y1BRaH8s"
      },
      "source": [
        "#### Valores de retorno\n",
        "Uma função nem sempre precisa exibir sua sa´ida diretamente. Em vez disso ela pode processar e devolver um valor. A instrução *return\" toma um valor que está em uma função e o envia de volta à linha que a chamou. Valores de retorno permitem passar boa parte do trabalho pesado de um programa para funções, o que pode simplificar o corpo de seu programa"
      ]
    },
    {
      "cell_type": "code",
      "metadata": {
        "colab": {
          "base_uri": "https://localhost:8080/"
        },
        "id": "384v65Bpai-E",
        "outputId": "10541ead-baae-4447-f933-5fe858a0e847"
      },
      "source": [
        "# Giving back a simple value\n",
        "# It receives the arguments, but now, it gives back a return using the arguments\n",
        "# and not directly the arguments as it was before\n",
        "#\n",
        "# When we call a function that return a value, we need to save this value\n",
        "# in a variable\n",
        "def get_formatted_name(first_name, last_name):\n",
        "  \"\"\" Give back the name in an elegant way\"\"\"\n",
        "  full_name = first_name + ' ' + last_name\n",
        "  return full_name\n",
        "\n",
        "musician = get_formatted_name('Luiz', 'Sá')\n",
        "print(musician)\n",
        "\n",
        "# Learning: when I printed the funcion directly, it came as a tuple\n",
        "# and not as a string"
      ],
      "execution_count": null,
      "outputs": [
        {
          "output_type": "stream",
          "text": [
            "Luiz Sá\n"
          ],
          "name": "stdout"
        }
      ]
    },
    {
      "cell_type": "markdown",
      "metadata": {
        "id": "ROJCVQrIcAiA"
      },
      "source": [
        "#### Deixando um argumento opcional\n",
        "Ás vezes as pessoas não precisam fornecer todos os valores o os valores *default* servem para deixar um argumento opcional. Valores *opcionais* permitem que lidemos com vários casos de uso, mantendo a simplificação das chamadas de função"
      ]
    },
    {
      "cell_type": "code",
      "metadata": {
        "colab": {
          "base_uri": "https://localhost:8080/"
        },
        "id": "7dFFqSJ-cdxu",
        "outputId": "5044f26a-0afb-488a-dbce-33b2bd17d27b"
      },
      "source": [
        "def get_formatted_name(first_name, last_name, middle_name=\"\"):\n",
        "  \"\"\" Give back the name in an elegant way\"\"\"\n",
        "  if middle_name: # Python evaluate not empty string as true\n",
        "    full_name = first_name +' ' + middle_name +' '+  last_name\n",
        "  else:\n",
        "    full_name = first_name + ' ' + last_name\n",
        "  return full_name\n",
        "\n",
        "musician = get_formatted_name('Luiz', 'Sá')\n",
        "print(musician)\n",
        "\n",
        "musician = get_formatted_name('Luiz','Sá','Henrique')\n",
        "print(musician)"
      ],
      "execution_count": null,
      "outputs": [
        {
          "output_type": "stream",
          "text": [
            "Luiz Sá\n",
            "Luiz Henrique Sá\n"
          ],
          "name": "stdout"
        }
      ]
    },
    {
      "cell_type": "markdown",
      "metadata": {
        "id": "82yCbdHwdrqi"
      },
      "source": [
        "#### Devolvendo um dicionário"
      ]
    },
    {
      "cell_type": "code",
      "metadata": {
        "colab": {
          "base_uri": "https://localhost:8080/"
        },
        "id": "PXyqyp38dwod",
        "outputId": "0b208660-80d8-415b-d601-979511f85530"
      },
      "source": [
        "# Accept part of a name and return a dictionary that represent a person\n",
        "def build_person(first_name,last_name):\n",
        "  \"\"\" Return a dictionary with informations about a person\"\"\"\n",
        "  person = {'first':first_name, 'last':last_name}\n",
        "  return person\n",
        "musician = build_person('jimi','hendrix')\n",
        "print(musician)"
      ],
      "execution_count": null,
      "outputs": [
        {
          "output_type": "stream",
          "text": [
            "{'first': 'jimi', 'last': 'hendrix'}\n"
          ],
          "name": "stdout"
        }
      ]
    },
    {
      "cell_type": "markdown",
      "metadata": {
        "id": "m_-VA56Qe2lW"
      },
      "source": [
        "#### Usando funções com um laço while\n"
      ]
    },
    {
      "cell_type": "code",
      "metadata": {
        "id": "5Hqt28LyfPIf"
      },
      "source": [
        "def get_formatted_name(first_name, last_name):\n",
        "  \"\"\" Return the name in an elegant way\"\"\"\n",
        "  full_name = first_name + ' ' + last_name\n",
        "  return full_name.title()\n",
        "# infinite loop\n",
        "while True:\n",
        "  print(\"Please tell me your name: \")\n",
        "  f_name = input(\"First name: \")\n",
        "  l_name = input(\"Last name: \")\n",
        "  formatted_name = get_formatted_name(f_name, l_name)\n",
        "  print(formatted_name)\n",
        "\n",
        "## A solution to leave easily is to use break. So, add a if name == 'quit'\n",
        "# then inform the user to use this instruction to leave the program"
      ],
      "execution_count": null,
      "outputs": []
    },
    {
      "cell_type": "markdown",
      "metadata": {
        "id": "UkSu_ruiawmX"
      },
      "source": [
        "## Faça você mesmo"
      ]
    },
    {
      "cell_type": "code",
      "metadata": {
        "colab": {
          "base_uri": "https://localhost:8080/"
        },
        "id": "yI7mVFg7ayg4",
        "outputId": "09e5f858-bfba-4b09-ebcd-f81620d8b3e0"
      },
      "source": [
        "# 8.6 Nomes de cidade\n",
        "def city_country(city_name,country_name):\n",
        "  \"\"\"This function receives the city name and country name to print it\"\"\"\n",
        "  print(\"\\tYou live in \" + city_name.title() + \", \" + country_name.title())\n",
        "\n",
        "flag = True\n",
        "while flag:\n",
        "  print(\"\\nAnswer no two times to leave at any moment!\")\n",
        "  city = input(\"\\nTell to me your city name: \")\n",
        "  if city == 'no':\n",
        "    break\n",
        "  country = input(\"Tell to me the country name: \")\n",
        "  if country == 'no':\n",
        "    break\n",
        "  else:\n",
        "    city_country(city,country)\n",
        "\n"
      ],
      "execution_count": null,
      "outputs": [
        {
          "output_type": "stream",
          "text": [
            "Answer no two times to leave at any moment!\n",
            "\n",
            "Tell to me your city name: Ananindeua\n",
            "Tell to me the country name: Brasil\n",
            "Ananindeua, Brasil\n",
            "Answer no two times to leave at any moment!\n",
            "\n",
            "Tell to me your city name: no\n"
          ],
          "name": "stdout"
        }
      ]
    },
    {
      "cell_type": "code",
      "metadata": {
        "colab": {
          "base_uri": "https://localhost:8080/"
        },
        "id": "ziLeSZjldij-",
        "outputId": "485c5673-2166-487e-a920-421269fd3a91"
      },
      "source": [
        "# 8.7 álbum\n",
        "def make_album(artist_name,album_title, amount_musics=''):\n",
        "  \"\"\"Creates 3 differente albums with the name of a artis and the album name\"\"\"\n",
        "  if amount_musics:\n",
        "    album = {'name_artist':artist_name,'title_album':album_title,'samples':amount_musics}\n",
        "  else:\n",
        "    album = {'name_artist':artist_name,'title_album':album_title}\n",
        "  return album\n",
        "\n",
        "x=0\n",
        "while x < 3:\n",
        "  n_artist = input(\"Please, inform the name of the artist: \")\n",
        "  a_title = input(\"Please, inform the name of the album: \")\n",
        "  a_musics = input(\"Please, the number os musics if you know: \")\n",
        "  name_album = make_album(n_artist, a_title,a_musics)\n",
        "  print(name_album)\n",
        "  x+=1\n"
      ],
      "execution_count": null,
      "outputs": [
        {
          "output_type": "stream",
          "text": [
            "Please, inform the name of the artist: Jimi Hendri\n",
            "Please, inform the name of the album: Soul of soul\n",
            "Please, the number os musics if you know: Lulaby\n",
            "{'name_artist': 'Jimi Hendri', 'title_album': 'Soul of soul', 'samples': 'Lulaby'}\n",
            "Please, inform the name of the artist: Dance with me\n",
            "Please, inform the name of the album: Alo\n",
            "Please, the number os musics if you know: \n",
            "{'name_artist': 'Dance with me', 'title_album': 'Alo'}\n",
            "Please, inform the name of the artist: a\n",
            "Please, inform the name of the album: a\n",
            "Please, the number os musics if you know: 12\n",
            "{'name_artist': 'a', 'title_album': 'a', 'samples': '12'}\n"
          ],
          "name": "stdout"
        }
      ]
    },
    {
      "cell_type": "markdown",
      "metadata": {
        "id": "wwaTyp8oh6IA"
      },
      "source": [
        "#### Passando uma lista para uma função"
      ]
    },
    {
      "cell_type": "code",
      "metadata": {
        "colab": {
          "base_uri": "https://localhost:8080/"
        },
        "id": "bQ8UrngYiI33",
        "outputId": "04657830-1ba4-4b93-8ef6-89763994a807"
      },
      "source": [
        "# Greet users in a list\n",
        "def greet_users(names):\n",
        "  \"\"\"Shows a simple greet for each user in a list\"\"\"\n",
        "  for name in names:\n",
        "    msg = \"Hello, \" + name.title() + \"!\"\n",
        "    print(msg)\n",
        "usernames = ['luiz','joana', 'juno']\n",
        "greet_users(usernames)"
      ],
      "execution_count": 2,
      "outputs": [
        {
          "output_type": "stream",
          "text": [
            "Hello, Luiz!\n",
            "Hello, Joana!\n",
            "Hello, Juno!\n"
          ],
          "name": "stdout"
        }
      ]
    },
    {
      "cell_type": "markdown",
      "metadata": {
        "id": "cJSP35d7iuF4"
      },
      "source": [
        "#### Modificando uma lista em uma função"
      ]
    },
    {
      "cell_type": "code",
      "metadata": {
        "colab": {
          "base_uri": "https://localhost:8080/"
        },
        "id": "5UiTZsIHixN8",
        "outputId": "0bbfff01-30c3-4f7e-dbca-8217c04c3c72"
      },
      "source": [
        "# Start with some designs that will be printed\n",
        "unprinted_designs = ['iphone case', 'robot pendant', 'dodecahedron']\n",
        "completed_models = []\n",
        "\n",
        "# Simula a impressão de cada design, até que não haja mais nenhum \n",
        "# Transfere cada design para completed_models após a impressão\n",
        "\n",
        "while unprinted_designs:\n",
        "  current_design = unprinted_designs.pop()\n",
        "  print(\"Printing model: \" + current_design)\n",
        "  completed_models.append(current_design)\n",
        "  print(\"\\nThe following models have been printed:\")\n",
        "\n",
        "for completed_model in completed_models:\n",
        "  print(completed_model)\n"
      ],
      "execution_count": null,
      "outputs": [
        {
          "output_type": "stream",
          "text": [
            "Printing model: dodecahedron\n",
            "\n",
            "The following models have been printed:\n",
            "Printing model: robot pendant\n",
            "\n",
            "The following models have been printed:\n",
            "Printing model: iphone case\n",
            "\n",
            "The following models have been printed:\n",
            "dodecahedron\n",
            "robot pendant\n",
            "iphone case\n"
          ],
          "name": "stdout"
        }
      ]
    },
    {
      "cell_type": "code",
      "metadata": {
        "colab": {
          "base_uri": "https://localhost:8080/"
        },
        "id": "MhlzmpRrkLgg",
        "outputId": "2a3bb892-eef3-4e92-d099-082cbe304f25"
      },
      "source": [
        "# Optmizing the code above with two functions\n",
        "\n",
        "def print_models(unprinted_designs,completed_models):\n",
        "  \"\"\" Simulates the impressiona of each design, until the list is empty\n",
        "  Transfer each design to completed_modles after the print\"\"\"\n",
        "  while unprinted_designs:\n",
        "    current_design = unprinted_designs.pop()\n",
        "    print(\"Printing model: \" + current_design)\n",
        "    completed_models.append(current_design)\n",
        "\n",
        "def show_completed_models(completed_models):\n",
        "  \"\"\"Shows everything printed\"\"\"\n",
        "  print(\"\\nThe following models have been printed:\")\n",
        "  for completed_model in completed_models:\n",
        "    print(completed_model)\n",
        "\n",
        "unprinted_designs = ['iphone case', 'robot pendant', 'dodecahedron']\n",
        "completed_models = []\n",
        "\n",
        "print_models(unprinted_designs, completed_models)\n",
        "show_completed_models(completed_models)\n",
        "\n",
        "'''I dont' know if it's a good practice to repeat the same names in different\n",
        "places'''\n"
      ],
      "execution_count": null,
      "outputs": [
        {
          "output_type": "stream",
          "text": [
            "Printing model: dodecahedron\n",
            "Printing model: robot pendant\n",
            "Printing model: iphone case\n",
            "\n",
            "The following models have been printed:\n",
            "dodecahedron\n",
            "robot pendant\n",
            "iphone case\n"
          ],
          "name": "stdout"
        }
      ]
    },
    {
      "cell_type": "markdown",
      "metadata": {
        "id": "Meh90l-TpVJ3"
      },
      "source": [
        "#### Evitar que uma função modifique uma lista (passar a cópia de uma lista)\n",
        "tratamos esse caso passando uma cópia da lista para a função, e não a original. Serve para manter bancos intactos, fazendo:\n",
        "nome_da_função(nome_da_lista[:])\n",
        "\n",
        "A notação [:] fatia cria uma cópia. \n",
        "Só tome essa ação se tiver uma razão específica, assim evita tempo de uso de memória\n"
      ]
    },
    {
      "cell_type": "markdown",
      "metadata": {
        "id": "nNTod-gAVxY4"
      },
      "source": [
        "## Faça você mesmo"
      ]
    },
    {
      "cell_type": "code",
      "metadata": {
        "colab": {
          "base_uri": "https://localhost:8080/",
          "height": 86
        },
        "id": "21uBhYEtVg7r",
        "outputId": "90b92d42-7b64-491a-dba4-3acdb79ed5f4"
      },
      "source": [
        "# 8.9\n",
        "\n",
        "def show_magicians(magician_name):\n",
        "  \"\"\"Creates a simple list to print magicians\"\"\"\n",
        "  for magician in magicians:\n",
        "    print(\"Hello, my name is \" + magician + \" and I'm a magician!\")\n",
        "\n",
        "magicians = ['houdine', 'mister m', 'angel']\n",
        "show_magicians(magicians)\n",
        "\n",
        "# Learning I need to pass the list, since the code inside deal with it."
      ],
      "execution_count": null,
      "outputs": [
        {
          "output_type": "stream",
          "text": [
            "Hello, my name is houdine and I'm a magician!\n",
            "Hello, my name is mister m and I'm a magician!\n",
            "Hello, my name is angel and I'm a magician!\n"
          ],
          "name": "stdout"
        },
        {
          "output_type": "execute_result",
          "data": {
            "application/vnd.google.colaboratory.intrinsic+json": {
              "type": "string"
            },
            "text/plain": [
              "' Learning I need to pass the list, since the code inside deal with it.'"
            ]
          },
          "metadata": {
            "tags": []
          },
          "execution_count": 12
        }
      ]
    },
    {
      "cell_type": "code",
      "metadata": {
        "colab": {
          "base_uri": "https://localhost:8080/"
        },
        "id": "RnPXBgJOYerE",
        "outputId": "92189291-1e15-4f86-d171-99114086eaa6"
      },
      "source": [
        "# 8.10 Big magicians + Adding \"o Grande\" to the name\n",
        "\n",
        "def show_magicians(magician_name):\n",
        "  \"\"\"Creates a simple list to print magicians\"\"\"\n",
        "  for magician in magician_name:\n",
        "    print(\"Hello, my name is \" + magician.title() + \" and I'm a magician!\")\n",
        "\n",
        "def make_great(big):\n",
        "  \"\"\"Adding \"o grande\" to the name\"\"\"\n",
        "  x=0\n",
        "  for magics in big:\n",
        "    magics += \" o Grande\"\n",
        "    big[x] = magics\n",
        "    x += 1\n",
        "  return big\n",
        "\n",
        "\n",
        "\n",
        "magicians = ['houdine', 'mister m', 'angel']\n",
        "make_great(magicians)\n",
        "show_magicians(magicians)\n",
        "\n",
        "#Inicialmente eu estava tentando usar o append para \n",
        "#\"modificar\" a lista o que é um erro, \n",
        "# posteriormente percebi que para resolver o problema\n",
        "# bastava adicionar o valor da posição corretamente\n",
        "# selecionando por posição\n",
        "#\n",
        "# Para fazer a 8.11 eu tive que modificar a função make_great e \n",
        "# adicionar o retorno para que fosse gerada obrigatoriamente\n",
        "# uma lista de retorno. Sem isto, o resultado não funcionava"
      ],
      "execution_count": null,
      "outputs": [
        {
          "output_type": "stream",
          "text": [
            "Hello, my name is Houdine O Grande and I'm a magician!\n",
            "Hello, my name is Mister M O Grande and I'm a magician!\n",
            "Hello, my name is Angel O Grande and I'm a magician!\n"
          ],
          "name": "stdout"
        }
      ]
    },
    {
      "cell_type": "code",
      "metadata": {
        "colab": {
          "base_uri": "https://localhost:8080/"
        },
        "id": "lPL-l_Adg3Wi",
        "outputId": "36486ea1-2d56-416a-d6dd-4b3ce9ac51fc"
      },
      "source": [
        "# 8.11 Untouched magicians\n",
        "magicians = ['houdine', 'mister m', 'angel']\n",
        "new_list = make_great(magicians[:])\n",
        "show_magicians(new_list)\n",
        "print(\"\\n\")\n",
        "show_magicians(magicians)"
      ],
      "execution_count": null,
      "outputs": [
        {
          "output_type": "stream",
          "text": [
            "Hello, my name is Houdine O Grande and I'm a magician!\n",
            "Hello, my name is Mister M O Grande and I'm a magician!\n",
            "Hello, my name is Angel O Grande and I'm a magician!\n",
            "\n",
            "\n",
            "Hello, my name is Houdine and I'm a magician!\n",
            "Hello, my name is Mister M and I'm a magician!\n",
            "Hello, my name is Angel and I'm a magician!\n"
          ],
          "name": "stdout"
        }
      ]
    },
    {
      "cell_type": "markdown",
      "metadata": {
        "id": "P2UuvFGppl6g"
      },
      "source": [
        "#### Passando um número arbitrário de argumentos\n",
        "Nem sempre se saberá quantos argumentos uma função deve aceitar. É possível chamar uma função com um número arbitrário de argumentos."
      ]
    },
    {
      "cell_type": "code",
      "metadata": {
        "colab": {
          "base_uri": "https://localhost:8080/"
        },
        "id": "sIO8sSqup5tr",
        "outputId": "b6b6c78b-2f58-48fe-cbe5-8bdede13c1b1"
      },
      "source": [
        "## *toppings group as much as arguments are needed\n",
        "def make_pizza(*toppings):\n",
        "  \"\"\"Shows a toppings list\"\"\"\n",
        "  print(toppings)\n",
        "\n",
        "make_pizza('pepperoni')\n",
        "make_pizza('mushrooms', 'green_peppers','extra cheese')\n",
        "\n",
        "# The asterisc make it become a tuple.\n",
        "# As you can see, indepent of the amount, it'll always become a tuple\n"
      ],
      "execution_count": null,
      "outputs": [
        {
          "output_type": "stream",
          "text": [
            "('pepperoni',)\n",
            "('mushrooms', 'green_peppers', 'extra cheese')\n"
          ],
          "name": "stdout"
        }
      ]
    },
    {
      "cell_type": "code",
      "metadata": {
        "colab": {
          "base_uri": "https://localhost:8080/"
        },
        "id": "3hfcODSArKe4",
        "outputId": "ae0eab5b-3ebe-43eb-eb44-cc5a30677e5b"
      },
      "source": [
        "# We can now change the code to print the value in a loop\n",
        "def make_pizza(*toppings):\n",
        "  \"\"\"Shows a toppings list\"\"\"\n",
        "  print(\"\\nMaking a pizza with: \")\n",
        "  for topping in toppings:\n",
        "    print(\"- \" + topping)\n",
        "\n",
        "make_pizza('pepperoni')\n",
        "make_pizza('mushrooms', 'green_peppers','extra cheese')\n",
        "\n",
        "# It works independent of the amount of arguments\n"
      ],
      "execution_count": null,
      "outputs": [
        {
          "output_type": "stream",
          "text": [
            "\n",
            "Making a pizza with: \n",
            "- pepperoni\n",
            "\n",
            "Making a pizza with: \n",
            "- mushrooms\n",
            "- green_peppers\n",
            "- extra cheese\n"
          ],
          "name": "stdout"
        }
      ]
    },
    {
      "cell_type": "markdown",
      "metadata": {
        "id": "5EYH21EQreR-"
      },
      "source": [
        "#### Misturando argumentos posicionais e arbitrários\n",
        "Se quiser fazer essa mistura, o parâmetro que aceita um número arbitrário de argumentos deve ser colocado por último.\n",
        "\n",
        "Pythong analisa posicionais e nomeados antes, e dpeois agrupa qualquer argumentos remanescente no último parâmetro que é arbitrário"
      ]
    },
    {
      "cell_type": "code",
      "metadata": {
        "colab": {
          "base_uri": "https://localhost:8080/"
        },
        "id": "MwuiA3jhrc_K",
        "outputId": "5e601b48-1a98-4c5a-9b16-84e05623d786"
      },
      "source": [
        "def make_pizza(size,*toppings):\n",
        "  \"\"\"Shows a toppings list\"\"\"\n",
        "  print(\"\\nMaking a pizza size: \" + str(size) + \"-cm pizza with the\" + \n",
        "  \"followting toppings\"\n",
        "  )\n",
        "  for topping in toppings:\n",
        "    print(\"- \" + topping)\n",
        "\n",
        "make_pizza(16,'pepperoni')\n",
        "make_pizza(12, 'mushrooms', 'green_peppers','extra cheese')\n"
      ],
      "execution_count": null,
      "outputs": [
        {
          "output_type": "stream",
          "text": [
            "\n",
            "Making a pizza size: 16-cm pizza with thefollowting toppings\n",
            "- pepperoni\n",
            "\n",
            "Making a pizza size: 12-cm pizza with thefollowting toppings\n",
            "- mushrooms\n",
            "- green_peppers\n",
            "- extra cheese\n"
          ],
          "name": "stdout"
        }
      ]
    },
    {
      "cell_type": "markdown",
      "metadata": {
        "id": "W466-6f8tbDz"
      },
      "source": [
        "#### Usando argumentos nomeados arbitrários\n",
        "Ás vezes você vai queer aceitar um número arbitrário de argumentos, mas não saberá com antecedência qual tipo de informção será passado para a função. \n",
        "Nesse caso, podemos escrever funções que aceitem tantos pares chave-valor quantos forem fornecidos pela instrução que faz a chamada"
      ]
    },
    {
      "cell_type": "code",
      "metadata": {
        "colab": {
          "base_uri": "https://localhost:8080/"
        },
        "id": "ZU3gH6kOt-jG",
        "outputId": "36ff3369-e8f6-453d-a2f4-4f5d9b87341b"
      },
      "source": [
        "def build_profile(first, last, **user_info):\n",
        "  \"\"\"Builds a dictionary with all infos we know about an user.\"\"\"\n",
        "  profile = {}\n",
        "  profile['firstname'] = first\n",
        "  profile['last_name'] = last\n",
        "  for key, value in user_info.items():\n",
        "    profile[key] = value\n",
        "  return profile\n",
        "\n",
        "user_profile = build_profile('albert', 'einsten', location='pricenton', field='physics',program='new')\n",
        "print(user_profile)\n",
        "\n",
        "# Take care with the indentation"
      ],
      "execution_count": null,
      "outputs": [
        {
          "output_type": "stream",
          "text": [
            "{'firstname': 'albert', 'last_name': 'einsten', 'location': 'pricenton', 'field': 'physics', 'program': 'new'}\n"
          ],
          "name": "stdout"
        }
      ]
    },
    {
      "cell_type": "markdown",
      "metadata": {
        "id": "MCKb-5KTzQT6"
      },
      "source": [
        "## Faça você mesmo"
      ]
    },
    {
      "cell_type": "code",
      "metadata": {
        "colab": {
          "base_uri": "https://localhost:8080/"
        },
        "id": "8gmTdBk0zEG-",
        "outputId": "c3bd8063-cb90-4776-b291-2b7803b7add6"
      },
      "source": [
        "# 8.12 - Sandwiches\n",
        "\n",
        "def list_items(*items):\n",
        "  print(\"This is my sandwich and the items: \")\n",
        "  for item in items:\n",
        "    print(\"- \" + item)\n",
        "\n",
        "list_items('algo')\n",
        "list_items('algo', 'arroz','mushrooms')"
      ],
      "execution_count": null,
      "outputs": [
        {
          "output_type": "stream",
          "text": [
            "This is my sandwich and the items: \n",
            "- algo\n",
            "This is my sandwich and the items: \n",
            "- algo\n",
            "- arroz\n",
            "- mushrooms\n"
          ],
          "name": "stdout"
        }
      ]
    },
    {
      "cell_type": "code",
      "metadata": {
        "colab": {
          "base_uri": "https://localhost:8080/"
        },
        "id": "C7eV6gWf0J5j",
        "outputId": "c267add3-b2cd-4b5d-9749-fc7f290df6ad"
      },
      "source": [
        "# 8.13 User Profile\n",
        "def build_profile(first, last, **user_info):\n",
        "  \"\"\"Builds a dictionary with all infos we know about an user.\"\"\"\n",
        "  profile = {}\n",
        "  profile['firstname'] = first\n",
        "  profile['last_name'] = last\n",
        "  for key, value in user_info.items():\n",
        "    profile[key] = value\n",
        "  return profile\n",
        "\n",
        "user_profile = build_profile('luiz', 'sá', location='belém', age='27')\n",
        "print(user_profile)"
      ],
      "execution_count": 3,
      "outputs": [
        {
          "output_type": "stream",
          "text": [
            "{'firstname': 'luiz', 'last_name': 'sá', 'location': 'belém', 'age': '27'}\n"
          ],
          "name": "stdout"
        }
      ]
    },
    {
      "cell_type": "code",
      "metadata": {
        "colab": {
          "base_uri": "https://localhost:8080/"
        },
        "id": "NjVHX1-M0dXG",
        "outputId": "336d14eb-094a-42e6-a6d6-08cea8fb3098"
      },
      "source": [
        "# 8.14 Cars\n",
        "def cars(fabricant,model, **more_infos):\n",
        "  info_cars = {}\n",
        "  info_cars['builder'] = fabricant\n",
        "  info_cars['modelo'] = model\n",
        "  for key,value in more_infos.items():\n",
        "    info_cars[key] = value\n",
        "  return info_cars\n",
        "\n",
        "cars_printed = cars('toyota','corolla',year='2020',wheels='18')\n",
        "print(cars_printed)"
      ],
      "execution_count": null,
      "outputs": [
        {
          "output_type": "stream",
          "text": [
            "{'builder': 'toyota', 'modelo': 'corolla', 'year': '2020', 'wheels': '18'}\n"
          ],
          "name": "stdout"
        }
      ]
    },
    {
      "cell_type": "markdown",
      "metadata": {
        "id": "eLWtLHSuvIRs"
      },
      "source": [
        "### Armazenando suas funções em módulos\n",
        "Você pode dar um passo além armazenando suas funções em um arquivo separado chamado módulo e, então, importar esse módulo em seu  programa principal\n",
        "\n",
        "A função *import* dis a Python par deixar o código de um módulo disonível no arquivo de programa em execução no momento\n",
        "\n",
        "### Importando um módulo completo\n",
        "Para começar a importar funções, inicialmente precisamos criar um módulo.\n",
        "Um *módulo* é um arquivo terminado em .py que contém o código que queremos importar para o nosso programa\n"
      ]
    },
    {
      "cell_type": "code",
      "metadata": {
        "id": "73mDmp8I869e"
      },
      "source": [
        "## To import a module you need to\n",
        "# Mount the drive, then, add by sys.path.append('fullpath') and finally make the import my_module\n",
        "#\n",
        "# from google.colab import drive\n",
        "# drive.mount('/content/drive')"
      ],
      "execution_count": null,
      "outputs": []
    },
    {
      "cell_type": "code",
      "metadata": {
        "colab": {
          "base_uri": "https://localhost:8080/"
        },
        "id": "Drn7KyTgM_YK",
        "outputId": "6d8a3ca2-2639-43d7-ebe0-e5dd55ebe370"
      },
      "source": [
        "%%writefile test.py\n",
        "\n",
        "def make_pizza(size,*toppings):\n",
        "  \"\"\"Shows a toppings list\"\"\"\n",
        "  print(\"\\nMaking a pizza size: \" + str(size) + \"-cm pizza with the\" + \n",
        "  \"followting toppings\"\n",
        "  )\n",
        "  for topping in toppings:\n",
        "    print(\"- \" + topping)"
      ],
      "execution_count": null,
      "outputs": [
        {
          "output_type": "stream",
          "text": [
            "Writing test.py\n"
          ],
          "name": "stdout"
        }
      ]
    },
    {
      "cell_type": "markdown",
      "metadata": {
        "id": "gi0Gonh4T6I-"
      },
      "source": [
        "## Documentação do trabalho que foi para conseguir executar programas aqui\n",
        "\n",
        "Eu fui pelo caminho mais difícil, tentanto usar arquivos a partir do Drive. \n",
        "O processo é bem simples: \n",
        "1. Tem que montar o drive. \n",
        "2. Depois você vai no arquivo \"py\" onde está o módulo que quer executar. \n",
        "3. Usa o comando:\n",
        "import sys\n",
        "sys.path.append('folder_path')\n",
        "4. Aí faz o import do módulo py para que ele seja usado\n",
        "_______\n",
        "Outra possibilidade é usar o espaço provido no próprio ambiente de execução do Colab.\n",
        "1. Cria o arquivo com os comandos direto no ambiente e segue todos os passos acima"
      ]
    },
    {
      "cell_type": "code",
      "metadata": {
        "id": "mrnppbRvNgPm"
      },
      "source": [
        "import sys\n",
        "sys.path.append('/content/drive/MyDrive/Colab_Notebooks/6_Funções_SeparandoemModulos')"
      ],
      "execution_count": null,
      "outputs": []
    },
    {
      "cell_type": "code",
      "metadata": {
        "colab": {
          "base_uri": "https://localhost:8080/"
        },
        "id": "muzft2JfRNoh",
        "outputId": "6e4e32e9-8dcd-4197-c67c-87879b0b28f5"
      },
      "source": [
        "import pizza\n",
        "\n",
        "pizza.make_pizza(16,'pepperoni')"
      ],
      "execution_count": null,
      "outputs": [
        {
          "output_type": "stream",
          "text": [
            "\n",
            "Making a pizza size: 16-cm pizza with thefollowting toppings\n",
            "- pepperoni\n"
          ],
          "name": "stdout"
        }
      ]
    },
    {
      "cell_type": "code",
      "metadata": {
        "colab": {
          "base_uri": "https://localhost:8080/"
        },
        "id": "iqOKn6eOVXVm",
        "outputId": "156da737-ac96-4907-9299-0a99d39ceb59"
      },
      "source": [
        "# Importing specific function\n",
        "\n",
        "from pizza import make_pizza\n",
        "\n",
        "make_pizza(15,'arroz')"
      ],
      "execution_count": null,
      "outputs": [
        {
          "output_type": "stream",
          "text": [
            "\n",
            "Making a pizza size: 15-cm pizza with thefollowting toppings\n",
            "- arroz\n"
          ],
          "name": "stdout"
        }
      ]
    },
    {
      "cell_type": "markdown",
      "metadata": {
        "id": "18A17K2lYAWb"
      },
      "source": [
        "#### Usando um *alias* para as funções\n",
        "Se o nome de uma função que você importar puder entrar em conflito com um nome existente em seu programa ou se o nome da função for longo, podemos usar um alias único e conciso, que é um nome alternativo, semelhante a um apelido para a função. Dê esse apelido especial à função quando importá-la."
      ]
    },
    {
      "cell_type": "code",
      "metadata": {
        "colab": {
          "base_uri": "https://localhost:8080/"
        },
        "id": "jWmO4dKlYmfB",
        "outputId": "8b4c5f89-7357-4a2e-9cd5-18d3f0ac52c9"
      },
      "source": [
        "# Importing with a specific name\n",
        "from pizza import make_pizza as mp\n",
        "\n",
        "mp(25,'magueritta')"
      ],
      "execution_count": null,
      "outputs": [
        {
          "output_type": "stream",
          "text": [
            "\n",
            "Making a pizza size: 25-cm pizza with thefollowting toppings\n",
            "- magueritta\n"
          ],
          "name": "stdout"
        }
      ]
    },
    {
      "cell_type": "markdown",
      "metadata": {
        "id": "RlXI_IYEZCLl"
      },
      "source": [
        "#### Atribuindo alias para um módulo"
      ]
    },
    {
      "cell_type": "code",
      "metadata": {
        "colab": {
          "base_uri": "https://localhost:8080/"
        },
        "id": "uFZMDnKTZBwf",
        "outputId": "4b2cf554-9d10-46cf-ab72-2537650f408a"
      },
      "source": [
        "import pizza as p\n",
        "\n",
        "p.make_pizza(22,'the best')"
      ],
      "execution_count": null,
      "outputs": [
        {
          "output_type": "stream",
          "text": [
            "\n",
            "Making a pizza size: 22-cm pizza with thefollowting toppings\n",
            "- the best\n"
          ],
          "name": "stdout"
        }
      ]
    },
    {
      "cell_type": "markdown",
      "metadata": {
        "id": "-_owsNhxZSW0"
      },
      "source": [
        "### Importando todas as funções de um módulo\n",
        "To do so, add (*) asterisc after import\n",
        "Ex:\n",
        "import *\n",
        "\n",
        "Essa não é a melhor e mais legível dentre as possibilidades"
      ]
    },
    {
      "cell_type": "code",
      "metadata": {
        "colab": {
          "base_uri": "https://localhost:8080/"
        },
        "id": "asMGZHreZjgf",
        "outputId": "e4de7052-2731-4eda-ee2a-ae7a17504eb8"
      },
      "source": [
        "from pizza import *\n",
        "\n",
        "make_pizza(24, 'pepperoni')"
      ],
      "execution_count": null,
      "outputs": [
        {
          "output_type": "stream",
          "text": [
            "\n",
            "Making a pizza size: 24-cm pizza with thefollowting toppings\n",
            "- pepperoni\n"
          ],
          "name": "stdout"
        }
      ]
    },
    {
      "cell_type": "markdown",
      "metadata": {
        "id": "mvWlYD7BZ5C_"
      },
      "source": [
        "#### Estilizando funções\n",
        "- Fazer o comentário com docstring\n",
        "- Usar somente 79 caracteres por linha"
      ]
    }
  ]
}