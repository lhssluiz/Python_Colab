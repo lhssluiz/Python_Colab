{
  "nbformat": 4,
  "nbformat_minor": 0,
  "metadata": {
    "colab": {
      "name": "4_Dicionarios.ipynb",
      "provenance": [],
      "authorship_tag": "ABX9TyO7zVmKsu/rRBrFIxjJ3yMe",
      "include_colab_link": true
    },
    "kernelspec": {
      "name": "python3",
      "display_name": "Python 3"
    }
  },
  "cells": [
    {
      "cell_type": "markdown",
      "metadata": {
        "id": "view-in-github",
        "colab_type": "text"
      },
      "source": [
        "<a href=\"https://colab.research.google.com/github/lhssluiz/Python_Colab/blob/main/4_Dicionarios.ipynb\" target=\"_parent\"><img src=\"https://colab.research.google.com/assets/colab-badge.svg\" alt=\"Open In Colab\"/></a>"
      ]
    },
    {
      "cell_type": "markdown",
      "metadata": {
        "id": "ekIB04GqPcZ4"
      },
      "source": [
        "## Dicionários\n",
        "#### Eles serve para conectar informações. items(), keys() e values() são os métodos par retornos dos pares, das chaves ou dos valores dos dicionários\n",
        "\n",
        "**São uma coleção de pares: Chave,valor**\n",
        "\n",
        "Assim, você utiliza uma chave para acessar um valor associado a ela.\n",
        "Os valores podem ser um número, uma string, uma lista e até outro dicionário"
      ]
    },
    {
      "cell_type": "code",
      "metadata": {
        "colab": {
          "base_uri": "https://localhost:8080/"
        },
        "id": "fUev287mPZjS",
        "outputId": "5c95a8fb-2ac7-406f-e88f-2c94a2ea1db4"
      },
      "source": [
        "## Criando um dicionário simples\n",
        "alien_0 = {'color':'green','points':5}\n",
        "print(alien_0['color'])\n",
        "print(alien_0['points'])\n",
        "\n",
        "new_points = alien_0['points']\n",
        "print(\"Você ganhou \" + str(new_points) + \" pontos extras\")"
      ],
      "execution_count": null,
      "outputs": [
        {
          "output_type": "stream",
          "text": [
            "green\n",
            "5\n",
            "Você ganhou 5 pontos extras\n"
          ],
          "name": "stdout"
        }
      ]
    },
    {
      "cell_type": "code",
      "metadata": {
        "colab": {
          "base_uri": "https://localhost:8080/"
        },
        "id": "-tRRDspRRBwg",
        "outputId": "19ee1fb5-4c0d-444b-e4a1-e4935c66813a"
      },
      "source": [
        "## Adicionando novas entradas ao dicionário\n",
        "alien_0['x_position'] = 0\n",
        "alien_0['y_position'] = 25\n",
        "\n",
        "print(alien_0)"
      ],
      "execution_count": null,
      "outputs": [
        {
          "output_type": "stream",
          "text": [
            "{'color': 'green', 'points': 5, 'x_position': 0, 'y_position': 25}\n"
          ],
          "name": "stdout"
        }
      ]
    },
    {
      "cell_type": "code",
      "metadata": {
        "colab": {
          "base_uri": "https://localhost:8080/"
        },
        "id": "QaKx59AgSHG0",
        "outputId": "740514fd-f92e-4c67-edaf-f1fc4e61e1e7"
      },
      "source": [
        "### Alterando o valor de uma chave\n",
        "alien_0['color'] = 'red'\n",
        "print(alien_0)"
      ],
      "execution_count": null,
      "outputs": [
        {
          "output_type": "stream",
          "text": [
            "{'color': 'red', 'points': 5, 'x_position': 0, 'y_position': 25}\n"
          ],
          "name": "stdout"
        }
      ]
    },
    {
      "cell_type": "code",
      "metadata": {
        "colab": {
          "base_uri": "https://localhost:8080/"
        },
        "id": "mib3HK-FSlOY",
        "outputId": "a7dc05b3-b59a-4b2f-9119-4ead8e019d6c"
      },
      "source": [
        "alien_0 = {'x_position':0, 'y_position':25,'speed':'medium'}\n",
        "print(\"Posição X Original: \" + str(alien_0['x_position']))\n",
        "\n",
        "if alien_0['speed'] == 'slow':\n",
        "  x_increment = 1\n",
        "elif alien_0['speed'] == 'medium':\n",
        "  x_increment = 2\n",
        "else:\n",
        "  x_increment = 3\n",
        "\n",
        "alien_0['x_position'] = alien_0['x_position'] + x_increment\n",
        "print(\"Nova posição de X: \" + str(alien_0['x_position']))\n",
        "\n"
      ],
      "execution_count": null,
      "outputs": [
        {
          "output_type": "stream",
          "text": [
            "Posição X Original 0\n",
            "Nova posição de X2\n"
          ],
          "name": "stdout"
        }
      ]
    },
    {
      "cell_type": "code",
      "metadata": {
        "colab": {
          "base_uri": "https://localhost:8080/"
        },
        "id": "ELe9D8B5UgRk",
        "outputId": "9c0059b0-c909-486f-9823-7cbedcece029"
      },
      "source": [
        "### Removendo um valor de um dicionário\n",
        "del alien_0['speed']\n",
        "print(alien_0)"
      ],
      "execution_count": null,
      "outputs": [
        {
          "output_type": "stream",
          "text": [
            "{'x_position': 2, 'y_position': 25}\n"
          ],
          "name": "stdout"
        }
      ]
    },
    {
      "cell_type": "markdown",
      "metadata": {
        "id": "Un0Et3WP1vMp"
      },
      "source": [
        "### É possível armazenar informações sobre vários tipos de objetos"
      ]
    },
    {
      "cell_type": "code",
      "metadata": {
        "colab": {
          "base_uri": "https://localhost:8080/"
        },
        "id": "G6iAh3Lb13hH",
        "outputId": "031910e7-c328-4f0e-8074-ea43cddd2b9d"
      },
      "source": [
        "linguagem_favorita = {\n",
        "    'jen':'python', \n",
        "    'sarah':'c', \n",
        "    'edward':'ruby', \n",
        "    'phil':'python',  ## Adicionar essa vírgula é uma boa prática para preparar\n",
        "                      ## o dicionário para receber uma nova linha\n",
        "    }\n",
        "\n",
        "print(\"Linguagem favorita da Sarah é \" + \n",
        "      linguagem_favorita['sarah'].title() + \n",
        "      \"\")\n"
      ],
      "execution_count": null,
      "outputs": [
        {
          "output_type": "stream",
          "text": [
            "Linguagem favorita da Sarah é C\n"
          ],
          "name": "stdout"
        }
      ]
    },
    {
      "cell_type": "markdown",
      "metadata": {
        "id": "MfvgF4n_4JDu"
      },
      "source": [
        "## Faça você mesmo {"
      ]
    },
    {
      "cell_type": "code",
      "metadata": {
        "colab": {
          "base_uri": "https://localhost:8080/"
        },
        "id": "8AFSMOa94RJC",
        "outputId": "edd1ee2c-9e1f-416e-c8ad-eac7de0fdf02"
      },
      "source": [
        "julia = {'nome':'julia', 'sobrenome':'trindade','idade':'24','cidade':'são paulo'}\n",
        "for infos in julia:\n",
        "  print(str(infos).title() + \": \" + julia[infos].title() + \"\")\n",
        "\n",
        "print(\"\\nMe chamo \" + julia['nome'].title() + \" \" + julia['sobrenome'].title() + \n",
        "      \" tenho \" + julia['idade'].title() + \" anos de idade e moro em \" + \n",
        "      julia['cidade'] )"
      ],
      "execution_count": null,
      "outputs": [
        {
          "output_type": "stream",
          "text": [
            "Nome: Julia\n",
            "Sobrenome: Trindade\n",
            "Idade: 24\n",
            "Cidade: São Paulo\n",
            "\n",
            "Me chamo Julia Trindade tenho 24 anos de idade e moro em são paulo\n"
          ],
          "name": "stdout"
        }
      ]
    },
    {
      "cell_type": "markdown",
      "metadata": {
        "id": "ZsCGkpTn_rPf"
      },
      "source": [
        "## Fim: Faça você mesmo"
      ]
    },
    {
      "cell_type": "code",
      "metadata": {
        "id": "e4e0dlVXD0bv",
        "colab": {
          "base_uri": "https://localhost:8080/"
        },
        "outputId": "01bc077c-e0c3-4816-b809-7a14dcbefda1"
      },
      "source": [
        "### É possível criar um laço para armazenar os dois valores para dicionários\n",
        "for chave, valor in julia.items(): ## Items retorna os pares chave:valor\n",
        "  print(\"\\n Chave: \" + chave)\n",
        "  print(\"\\n Valor: \" + valor)"
      ],
      "execution_count": null,
      "outputs": [
        {
          "output_type": "stream",
          "text": [
            "\n",
            " Chave: nome\n",
            "\n",
            " Valor: julia\n",
            "\n",
            " Chave: sobrenome\n",
            "\n",
            " Valor: trindade\n",
            "\n",
            " Chave: idade\n",
            "\n",
            " Valor: 24\n",
            "\n",
            " Chave: cidade\n",
            "\n",
            " Valor: são paulo\n"
          ],
          "name": "stdout"
        }
      ]
    },
    {
      "cell_type": "code",
      "metadata": {
        "colab": {
          "base_uri": "https://localhost:8080/"
        },
        "id": "K9G4iWt3D39n",
        "outputId": "a6a9475e-a4c8-4403-a475-569746595626"
      },
      "source": [
        "for nome in linguagem_favorita.keys(): ## Keys serve para percorrer as chaves\n",
        "                                      ## sendo que esse é o comportamento normal\n",
        "                                      ## Keys, devolve toda a lista e não só uma\n",
        "  print(nome.title())"
      ],
      "execution_count": null,
      "outputs": [
        {
          "output_type": "stream",
          "text": [
            "Jen\n",
            "Sarah\n",
            "Edward\n",
            "Phil\n"
          ],
          "name": "stdout"
        }
      ]
    },
    {
      "cell_type": "code",
      "metadata": {
        "colab": {
          "base_uri": "https://localhost:8080/"
        },
        "id": "QeBfngK7GIg1",
        "outputId": "f0ee6a3e-8fed-4f90-9ede-61b951bb5eba"
      },
      "source": [
        "### Ordenar a apresentação do dicionário\n",
        "for nome in sorted(linguagem_favorita.keys()):\n",
        "  print(nome.title() +\n",
        "  \", obrigado pela resposta\")"
      ],
      "execution_count": null,
      "outputs": [
        {
          "output_type": "stream",
          "text": [
            "Edward, obrigado pela resposta\n",
            "Jen, obrigado pela resposta\n",
            "Phil, obrigado pela resposta\n",
            "Sarah, obrigado pela resposta\n"
          ],
          "name": "stdout"
        }
      ]
    },
    {
      "cell_type": "code",
      "metadata": {
        "colab": {
          "base_uri": "https://localhost:8080/"
        },
        "id": "LBYZUHDpIPWH",
        "outputId": "da51c3e1-63b2-4426-81b6-bfd3f3eee5d6"
      },
      "source": [
        "if 'erin' not in linguagem_favorita.keys(): ## Verifica se erin tá na lista,\n",
        "                                            ## já que key retorna a lista toda\n",
        "  print(\"Erin, você não tá na lista\")"
      ],
      "execution_count": null,
      "outputs": [
        {
          "output_type": "stream",
          "text": [
            "Erin, você não tá na lista\n"
          ],
          "name": "stdout"
        }
      ]
    },
    {
      "cell_type": "markdown",
      "metadata": {
        "id": "4XUgfWCaJK7p"
      },
      "source": [
        "#### set() lista todos os valores únicos, ou seja, sem as repetições"
      ]
    },
    {
      "cell_type": "code",
      "metadata": {
        "colab": {
          "base_uri": "https://localhost:8080/"
        },
        "id": "_AI6DdECJP2z",
        "outputId": "1a11f334-0936-49bc-a098-3ccfef1d6083"
      },
      "source": [
        "print(\"O seguinte valor foi falado: \")\n",
        "for lingaguem in set(linguagem_favorita.values()):\n",
        "  print(lingaguem.title())"
      ],
      "execution_count": null,
      "outputs": [
        {
          "output_type": "stream",
          "text": [
            "O seguinte valor foi falado: \n",
            "Python\n",
            "C\n",
            "Ruby\n"
          ],
          "name": "stdout"
        }
      ]
    },
    {
      "cell_type": "markdown",
      "metadata": {
        "id": "yEzVKZo3BM64"
      },
      "source": [
        "#### Listas e dicionários (Aninhamento)"
      ]
    },
    {
      "cell_type": "code",
      "metadata": {
        "colab": {
          "base_uri": "https://localhost:8080/"
        },
        "id": "20uYIKzpBQWG",
        "outputId": "8eeea804-9808-4a51-91de-886aab3d03c1"
      },
      "source": [
        "alien_0 = {'color':'green', 'points':'5'}\n",
        "alien_1 = {'color':'yellow', 'points':'10'}\n",
        "alien_2 = {'color':'red','points':'15'}\n",
        "\n",
        "nave_mae = [alien_0, alien_1,alien_2]\n",
        "\n",
        "for aliens in nave_mae:\n",
        "  print(aliens)\n"
      ],
      "execution_count": null,
      "outputs": [
        {
          "output_type": "stream",
          "text": [
            "{'color': 'green', 'points': '5'}\n",
            "{'color': 'yellow', 'points': '10'}\n",
            "{'color': 'red', 'points': '15'}\n"
          ],
          "name": "stdout"
        }
      ]
    },
    {
      "cell_type": "code",
      "metadata": {
        "colab": {
          "base_uri": "https://localhost:8080/"
        },
        "id": "G2rgY8bNDH1F",
        "outputId": "85e8812e-f71a-4bbd-a4e2-d7adf32e9afd"
      },
      "source": [
        "nave_mae = [] #Cria 30 alieníginas verdes \n",
        "for alien_num in range(30):\n",
        "  novo_alien = {'color':'green','points':5,'speed':'slow'}\n",
        "  nave_mae.append(novo_alien)\n",
        "\n",
        "# Mostra os 5 primeiros alieníginas \n",
        "for alien in nave_mae[:5]: print(alien) \n",
        "print(\" \")\n",
        "\n",
        "# Mostra quantos alieníginas foram criados\n",
        "print(\"O total de aliens foi: \" + str(len(nave_mae)))\n",
        "\n",
        "nave1_mae = []\n",
        "# Cria 30 alienígenas verdes\n",
        "for add_alien in range(0,30):\n",
        "  new_alien = {'color':'green', 'points':5,'speed':'slow'}\n",
        "  nave1_mae.append(new_alien)"
      ],
      "execution_count": null,
      "outputs": [
        {
          "output_type": "stream",
          "text": [
            "{'color': 'green', 'points': 5, 'speed': 'slow'}\n",
            "{'color': 'green', 'points': 5, 'speed': 'slow'}\n",
            "{'color': 'green', 'points': 5, 'speed': 'slow'}\n",
            "{'color': 'green', 'points': 5, 'speed': 'slow'}\n",
            "{'color': 'green', 'points': 5, 'speed': 'slow'}\n",
            " \n",
            "O total de aliens foi: 30\n"
          ],
          "name": "stdout"
        }
      ]
    },
    {
      "cell_type": "markdown",
      "metadata": {
        "id": "ygAfbkBS8PQ6"
      },
      "source": [
        "## Faça você mesmo"
      ]
    },
    {
      "cell_type": "code",
      "metadata": {
        "colab": {
          "base_uri": "https://localhost:8080/"
        },
        "id": "U2-hEdtk8OyR",
        "outputId": "5a4d4b51-2cff-4753-da13-6590cb90b3e8"
      },
      "source": [
        "glossario = {'dicionário':'livro que guarda significados', \n",
        "             'python':'linguagem de programação',\n",
        "             'modelar':'dar forma a algo',\n",
        "             'programação':'modo de se comunicar',\n",
        "             'set':'apresenta os valores únicos de um dicionário',\n",
        "             'item':'retorna ambos os valores da lista',\n",
        "             'values':'retorna somente os valores da lista'\n",
        "             }\n",
        "\n",
        "for palavra,significado in glossario.items():\n",
        "  print('A palavra é: ' + palavra)\n",
        "  print('seu significado é: ' + significado + '\\n')"
      ],
      "execution_count": null,
      "outputs": [
        {
          "output_type": "stream",
          "text": [
            "A palavra é: dicionário\n",
            "seu significado é: livro que guarda significados\n",
            "\n",
            "A palavra é: python\n",
            "seu significado é: linguagem de programação\n",
            "\n",
            "A palavra é: modelar\n",
            "seu significado é: dar forma a algo\n",
            "\n",
            "A palavra é: programação\n",
            "seu significado é: modo de se comunicar\n",
            "\n",
            "A palavra é: set\n",
            "seu significado é: apresenta os valores únicos de um dicionário\n",
            "\n",
            "A palavra é: item\n",
            "seu significado é: retorna ambos os valores da lista\n",
            "\n",
            "A palavra é: values\n",
            "seu significado é: retorna somente os valores da lista\n",
            "\n"
          ],
          "name": "stdout"
        }
      ]
    },
    {
      "cell_type": "code",
      "metadata": {
        "colab": {
          "base_uri": "https://localhost:8080/"
        },
        "id": "jQYPHz5cDGDZ",
        "outputId": "3cf0fcef-cd8e-4484-8bd8-978bbb55a66d"
      },
      "source": [
        "rios = {'amazonas':'amazonas','tapajós':'santarém','são francisco':'ceará'}\n",
        "for rio,estado in rios.items():\n",
        "  print('Esse ' + rio.title() + ' é minha rua, no estado do ' + estado.title() + '\\n')\n",
        "\n",
        "for estado in rios.values(): ## nome do estado\n",
        "  print('Estado: ' + estado.title())\n",
        "\n",
        "for rio in rios.keys(): ## nome do rio\n",
        "  print('Rio: ' + rio.title())"
      ],
      "execution_count": null,
      "outputs": [
        {
          "output_type": "stream",
          "text": [
            "Esse Amazonas é minha rua, no estado do Amazonas\n",
            "\n",
            "Esse Tapajós é minha rua, no estado do Santarém\n",
            "\n",
            "Esse São Francisco é minha rua, no estado do Ceará\n",
            "\n",
            "Estado: Amazonas\n",
            "Estado: Santarém\n",
            "Estado: Ceará\n",
            "Rio: Amazonas\n",
            "Rio: Tapajós\n",
            "Rio: São Francisco\n"
          ],
          "name": "stdout"
        }
      ]
    },
    {
      "cell_type": "code",
      "metadata": {
        "colab": {
          "base_uri": "https://localhost:8080/"
        },
        "id": "B2ZZv4FGFHHT",
        "outputId": "6301bddb-9b9e-4279-befc-3c95a87fbe67"
      },
      "source": [
        "linguagem_favorita = {\n",
        "    'jen':'python', \n",
        "    'sarah':'c', \n",
        "    'edward':'ruby', \n",
        "    'phil':'python',\n",
        "    'pedro':'c#',\n",
        "    'andré':'react',\n",
        "    'valadares':'javascript',\n",
        "    'jen':'python',                     \n",
        "    }\n",
        "\n",
        "for linguagens in linguagem_favorita.values():\n",
        "  if linguagens == set(linguagem_favorita.keys()):\n",
        "    print('Obrigado por participar: ' + linguagens + '!')\n",
        "  else:\n",
        "    print('Obrigado por participar: ' + linguagens + '!')"
      ],
      "execution_count": null,
      "outputs": [
        {
          "output_type": "stream",
          "text": [
            "Obrigado por participar: python!\n",
            "Obrigado por participar: c!\n",
            "Obrigado por participar: ruby!\n",
            "Obrigado por participar: python!\n",
            "Obrigado por participar: c#!\n",
            "Obrigado por participar: react!\n",
            "Obrigado por participar: javascript!\n"
          ],
          "name": "stdout"
        }
      ]
    },
    {
      "cell_type": "markdown",
      "metadata": {
        "id": "tZR5XCuvDDl6"
      },
      "source": [
        "## Fim: Faça você mesmo"
      ]
    },
    {
      "cell_type": "markdown",
      "metadata": {
        "id": "B29teRt1Aw9j"
      },
      "source": [
        "### Informações aninhadas\n",
        "Serve para colocar um dicionário em outro dicionário, uma lista dentro \n",
        "de um dicionário ou um conjunto de dicionario dentro de outro dicionário"
      ]
    },
    {
      "cell_type": "code",
      "metadata": {
        "colab": {
          "base_uri": "https://localhost:8080/"
        },
        "id": "2Q96f2Rw__gp",
        "outputId": "21610aaf-c932-4f77-d525-be9668b674c8"
      },
      "source": [
        "# Representar vários alienígenas \n",
        "#e suas características dentro de uma lista\n",
        "\n",
        "alien_0 = {'color':'green', 'points':'5'}\n",
        "alien_1 = {'color':'red','points':'10'}\n",
        "alien_2 = {'color':'red','points':'15'} #Dicionário\n",
        "\n",
        "aliens = [alien_0,alien_1,alien_2] #Lista\n",
        "\n",
        "for alien in aliens:\n",
        "  print(alien)\n"
      ],
      "execution_count": 1,
      "outputs": [
        {
          "output_type": "stream",
          "text": [
            "{'color': 'green', 'points': '5'}\n",
            "{'color': 'red', 'points': '10'}\n",
            "{'color': 'red', 'points': '15'}\n"
          ],
          "name": "stdout"
        }
      ]
    },
    {
      "cell_type": "code",
      "metadata": {
        "colab": {
          "base_uri": "https://localhost:8080/"
        },
        "id": "r8vG_Ii4E5sS",
        "outputId": "cfe25c20-cd21-48d4-abd8-4fce6892f613"
      },
      "source": [
        "# Cria uma lista de alienígenas vazia\n",
        "aliens = []\n",
        "#Cria 30 alienigenas verdes\n",
        "for alien_number in range(30):\n",
        "  new_alien = {'color':'green','points':'5','speed':'slow'}\n",
        "  aliens.append(new_alien)\n",
        "#Mostra os 5 primeiros alienígenas\n",
        "for primeiros in aliens[:5]:\n",
        "  print(primeiros) \n",
        "print('...')\n",
        "#MOstra quantos alienígenas foram criados\n",
        "print(\"Número total de alienígenas: \" + str(len(aliens)))"
      ],
      "execution_count": 6,
      "outputs": [
        {
          "output_type": "stream",
          "text": [
            "{'color': 'green', 'points': '5', 'speed': 'slow'}\n",
            "{'color': 'green', 'points': '5', 'speed': 'slow'}\n",
            "{'color': 'green', 'points': '5', 'speed': 'slow'}\n",
            "{'color': 'green', 'points': '5', 'speed': 'slow'}\n",
            "{'color': 'green', 'points': '5', 'speed': 'slow'}\n",
            "...\n",
            "Número total de alienígenas: 30\n"
          ],
          "name": "stdout"
        }
      ]
    },
    {
      "cell_type": "code",
      "metadata": {
        "id": "hZn3n73rGrCP"
      },
      "source": [
        "# Mudar a cor dos 3 primeiros para amarelo para amarelo\n"
      ],
      "execution_count": null,
      "outputs": []
    }
  ]
}