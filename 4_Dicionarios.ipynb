{
  "nbformat": 4,
  "nbformat_minor": 0,
  "metadata": {
    "colab": {
      "name": "4_Dicionarios.ipynb",
      "provenance": [],
      "authorship_tag": "ABX9TyM8hfHEPFHaPpS05LBYkz+k",
      "include_colab_link": true
    },
    "kernelspec": {
      "name": "python3",
      "display_name": "Python 3"
    }
  },
  "cells": [
    {
      "cell_type": "markdown",
      "metadata": {
        "id": "view-in-github",
        "colab_type": "text"
      },
      "source": [
        "<a href=\"https://colab.research.google.com/github/lhssluiz/Python_Colab/blob/main/4_Dicionarios.ipynb\" target=\"_parent\"><img src=\"https://colab.research.google.com/assets/colab-badge.svg\" alt=\"Open In Colab\"/></a>"
      ]
    },
    {
      "cell_type": "markdown",
      "metadata": {
        "id": "ekIB04GqPcZ4"
      },
      "source": [
        "## Dicionários\n",
        "#### Eles serve para conectar informações. items(), keys() e values() são os métodos par retornos dos pares, das chaves ou dos valores dos dicionários\n",
        "\n",
        "**São uma coleção de pares: Chave,valor**\n",
        "\n",
        "Assim, você utiliza uma chave para acessar um valor associado a ela.\n",
        "Os valores podem ser um número, uma string, uma lista e até outro dicionário"
      ]
    },
    {
      "cell_type": "code",
      "metadata": {
        "colab": {
          "base_uri": "https://localhost:8080/"
        },
        "id": "fUev287mPZjS",
        "outputId": "5c95a8fb-2ac7-406f-e88f-2c94a2ea1db4"
      },
      "source": [
        "## Criando um dicionário simples\n",
        "alien_0 = {'color':'green','points':5}\n",
        "print(alien_0['color'])\n",
        "print(alien_0['points'])\n",
        "\n",
        "new_points = alien_0['points']\n",
        "print(\"Você ganhou \" + str(new_points) + \" pontos extras\")"
      ],
      "execution_count": null,
      "outputs": [
        {
          "output_type": "stream",
          "text": [
            "green\n",
            "5\n",
            "Você ganhou 5 pontos extras\n"
          ],
          "name": "stdout"
        }
      ]
    },
    {
      "cell_type": "code",
      "metadata": {
        "colab": {
          "base_uri": "https://localhost:8080/"
        },
        "id": "-tRRDspRRBwg",
        "outputId": "19ee1fb5-4c0d-444b-e4a1-e4935c66813a"
      },
      "source": [
        "## Adicionando novas entradas ao dicionário\n",
        "alien_0['x_position'] = 0\n",
        "alien_0['y_position'] = 25\n",
        "\n",
        "print(alien_0)"
      ],
      "execution_count": null,
      "outputs": [
        {
          "output_type": "stream",
          "text": [
            "{'color': 'green', 'points': 5, 'x_position': 0, 'y_position': 25}\n"
          ],
          "name": "stdout"
        }
      ]
    },
    {
      "cell_type": "code",
      "metadata": {
        "colab": {
          "base_uri": "https://localhost:8080/"
        },
        "id": "QaKx59AgSHG0",
        "outputId": "740514fd-f92e-4c67-edaf-f1fc4e61e1e7"
      },
      "source": [
        "### Alterando o valor de uma chave\n",
        "alien_0['color'] = 'red'\n",
        "print(alien_0)"
      ],
      "execution_count": null,
      "outputs": [
        {
          "output_type": "stream",
          "text": [
            "{'color': 'red', 'points': 5, 'x_position': 0, 'y_position': 25}\n"
          ],
          "name": "stdout"
        }
      ]
    },
    {
      "cell_type": "code",
      "metadata": {
        "colab": {
          "base_uri": "https://localhost:8080/"
        },
        "id": "mib3HK-FSlOY",
        "outputId": "a7dc05b3-b59a-4b2f-9119-4ead8e019d6c"
      },
      "source": [
        "alien_0 = {'x_position':0, 'y_position':25,'speed':'medium'}\n",
        "print(\"Posição X Original: \" + str(alien_0['x_position']))\n",
        "\n",
        "if alien_0['speed'] == 'slow':\n",
        "  x_increment = 1\n",
        "elif alien_0['speed'] == 'medium':\n",
        "  x_increment = 2\n",
        "else:\n",
        "  x_increment = 3\n",
        "\n",
        "alien_0['x_position'] = alien_0['x_position'] + x_increment\n",
        "print(\"Nova posição de X: \" + str(alien_0['x_position']))\n",
        "\n"
      ],
      "execution_count": null,
      "outputs": [
        {
          "output_type": "stream",
          "text": [
            "Posição X Original 0\n",
            "Nova posição de X2\n"
          ],
          "name": "stdout"
        }
      ]
    },
    {
      "cell_type": "code",
      "metadata": {
        "colab": {
          "base_uri": "https://localhost:8080/"
        },
        "id": "ELe9D8B5UgRk",
        "outputId": "9c0059b0-c909-486f-9823-7cbedcece029"
      },
      "source": [
        "### Removendo um valor de um dicionário\n",
        "del alien_0['speed']\n",
        "print(alien_0)"
      ],
      "execution_count": null,
      "outputs": [
        {
          "output_type": "stream",
          "text": [
            "{'x_position': 2, 'y_position': 25}\n"
          ],
          "name": "stdout"
        }
      ]
    },
    {
      "cell_type": "markdown",
      "metadata": {
        "id": "Un0Et3WP1vMp"
      },
      "source": [
        "### É possível armazenar informações sobre vários tipos de objetos"
      ]
    },
    {
      "cell_type": "code",
      "metadata": {
        "colab": {
          "base_uri": "https://localhost:8080/"
        },
        "id": "G6iAh3Lb13hH",
        "outputId": "031910e7-c328-4f0e-8074-ea43cddd2b9d"
      },
      "source": [
        "linguagem_favorita = {\n",
        "    'jen':'python', \n",
        "    'sarah':'c', \n",
        "    'edward':'ruby', \n",
        "    'phil':'python',  ## Adicionar essa vírgula é uma boa prática para preparar\n",
        "                      ## o dicionário para receber uma nova linha\n",
        "    }\n",
        "\n",
        "print(\"Linguagem favorita da Sarah é \" + \n",
        "      linguagem_favorita['sarah'].title() + \n",
        "      \"\")\n"
      ],
      "execution_count": null,
      "outputs": [
        {
          "output_type": "stream",
          "text": [
            "Linguagem favorita da Sarah é C\n"
          ],
          "name": "stdout"
        }
      ]
    },
    {
      "cell_type": "markdown",
      "metadata": {
        "id": "MfvgF4n_4JDu"
      },
      "source": [
        "## Faça você mesmo {"
      ]
    },
    {
      "cell_type": "code",
      "metadata": {
        "colab": {
          "base_uri": "https://localhost:8080/"
        },
        "id": "8AFSMOa94RJC",
        "outputId": "edd1ee2c-9e1f-416e-c8ad-eac7de0fdf02"
      },
      "source": [
        "# 6.1\n",
        "julia = {'nome':'julia', 'sobrenome':'trindade','idade':'24','cidade':'são paulo'}\n",
        "for infos in julia:\n",
        "  print(str(infos).title() + \": \" + julia[infos].title() + \"\")\n",
        "\n",
        "print(\"\\nMe chamo \" + julia['nome'].title() + \" \" + julia['sobrenome'].title() + \n",
        "      \" tenho \" + julia['idade'].title() + \" anos de idade e moro em \" + \n",
        "      julia['cidade'] )"
      ],
      "execution_count": null,
      "outputs": [
        {
          "output_type": "stream",
          "text": [
            "Nome: Julia\n",
            "Sobrenome: Trindade\n",
            "Idade: 24\n",
            "Cidade: São Paulo\n",
            "\n",
            "Me chamo Julia Trindade tenho 24 anos de idade e moro em são paulo\n"
          ],
          "name": "stdout"
        }
      ]
    },
    {
      "cell_type": "markdown",
      "metadata": {
        "id": "ZsCGkpTn_rPf"
      },
      "source": [
        "## Fim: Faça você mesmo"
      ]
    },
    {
      "cell_type": "code",
      "metadata": {
        "id": "e4e0dlVXD0bv",
        "colab": {
          "base_uri": "https://localhost:8080/"
        },
        "outputId": "01bc077c-e0c3-4816-b809-7a14dcbefda1"
      },
      "source": [
        "### É possível criar um laço para armazenar os dois valores para dicionários\n",
        "for chave, valor in julia.items(): ## Items retorna os pares chave:valor\n",
        "  print(\"\\n Chave: \" + chave)\n",
        "  print(\"\\n Valor: \" + valor)"
      ],
      "execution_count": null,
      "outputs": [
        {
          "output_type": "stream",
          "text": [
            "\n",
            " Chave: nome\n",
            "\n",
            " Valor: julia\n",
            "\n",
            " Chave: sobrenome\n",
            "\n",
            " Valor: trindade\n",
            "\n",
            " Chave: idade\n",
            "\n",
            " Valor: 24\n",
            "\n",
            " Chave: cidade\n",
            "\n",
            " Valor: são paulo\n"
          ],
          "name": "stdout"
        }
      ]
    },
    {
      "cell_type": "code",
      "metadata": {
        "colab": {
          "base_uri": "https://localhost:8080/"
        },
        "id": "K9G4iWt3D39n",
        "outputId": "a6a9475e-a4c8-4403-a475-569746595626"
      },
      "source": [
        "for nome in linguagem_favorita.keys(): ## Keys serve para percorrer as chaves\n",
        "                                      ## sendo que esse é o comportamento normal\n",
        "                                      ## Keys, devolve toda a lista e não só uma\n",
        "  print(nome.title())"
      ],
      "execution_count": null,
      "outputs": [
        {
          "output_type": "stream",
          "text": [
            "Jen\n",
            "Sarah\n",
            "Edward\n",
            "Phil\n"
          ],
          "name": "stdout"
        }
      ]
    },
    {
      "cell_type": "code",
      "metadata": {
        "colab": {
          "base_uri": "https://localhost:8080/"
        },
        "id": "QeBfngK7GIg1",
        "outputId": "f0ee6a3e-8fed-4f90-9ede-61b951bb5eba"
      },
      "source": [
        "### Ordenar a apresentação do dicionário\n",
        "for nome in sorted(linguagem_favorita.keys()):\n",
        "  print(nome.title() +\n",
        "  \", obrigado pela resposta\")"
      ],
      "execution_count": null,
      "outputs": [
        {
          "output_type": "stream",
          "text": [
            "Edward, obrigado pela resposta\n",
            "Jen, obrigado pela resposta\n",
            "Phil, obrigado pela resposta\n",
            "Sarah, obrigado pela resposta\n"
          ],
          "name": "stdout"
        }
      ]
    },
    {
      "cell_type": "code",
      "metadata": {
        "colab": {
          "base_uri": "https://localhost:8080/"
        },
        "id": "LBYZUHDpIPWH",
        "outputId": "da51c3e1-63b2-4426-81b6-bfd3f3eee5d6"
      },
      "source": [
        "if 'erin' not in linguagem_favorita.keys(): ## Verifica se erin tá na lista,\n",
        "                                            ## já que key retorna a lista toda\n",
        "  print(\"Erin, você não tá na lista\")"
      ],
      "execution_count": null,
      "outputs": [
        {
          "output_type": "stream",
          "text": [
            "Erin, você não tá na lista\n"
          ],
          "name": "stdout"
        }
      ]
    },
    {
      "cell_type": "markdown",
      "metadata": {
        "id": "4XUgfWCaJK7p"
      },
      "source": [
        "#### set() lista todos os valores únicos, ou seja, sem as repetições"
      ]
    },
    {
      "cell_type": "code",
      "metadata": {
        "colab": {
          "base_uri": "https://localhost:8080/"
        },
        "id": "_AI6DdECJP2z",
        "outputId": "1a11f334-0936-49bc-a098-3ccfef1d6083"
      },
      "source": [
        "print(\"O seguinte valor foi falado: \")\n",
        "for lingaguem in set(linguagem_favorita.values()):\n",
        "  print(lingaguem.title())"
      ],
      "execution_count": null,
      "outputs": [
        {
          "output_type": "stream",
          "text": [
            "O seguinte valor foi falado: \n",
            "Python\n",
            "C\n",
            "Ruby\n"
          ],
          "name": "stdout"
        }
      ]
    },
    {
      "cell_type": "markdown",
      "metadata": {
        "id": "yEzVKZo3BM64"
      },
      "source": [
        "#### Listas e dicionários (Aninhamento)"
      ]
    },
    {
      "cell_type": "code",
      "metadata": {
        "colab": {
          "base_uri": "https://localhost:8080/"
        },
        "id": "20uYIKzpBQWG",
        "outputId": "8eeea804-9808-4a51-91de-886aab3d03c1"
      },
      "source": [
        "alien_0 = {'color':'green', 'points':'5'}\n",
        "alien_1 = {'color':'yellow', 'points':'10'}\n",
        "alien_2 = {'color':'red','points':'15'}\n",
        "\n",
        "nave_mae = [alien_0, alien_1,alien_2]\n",
        "\n",
        "for aliens in nave_mae:\n",
        "  print(aliens)\n"
      ],
      "execution_count": null,
      "outputs": [
        {
          "output_type": "stream",
          "text": [
            "{'color': 'green', 'points': '5'}\n",
            "{'color': 'yellow', 'points': '10'}\n",
            "{'color': 'red', 'points': '15'}\n"
          ],
          "name": "stdout"
        }
      ]
    },
    {
      "cell_type": "code",
      "metadata": {
        "colab": {
          "base_uri": "https://localhost:8080/"
        },
        "id": "G2rgY8bNDH1F",
        "outputId": "85e8812e-f71a-4bbd-a4e2-d7adf32e9afd"
      },
      "source": [
        "nave_mae = [] #Cria 30 alieníginas verdes \n",
        "for alien_num in range(30):\n",
        "  novo_alien = {'color':'green','points':5,'speed':'slow'}\n",
        "  nave_mae.append(novo_alien)\n",
        "\n",
        "# Mostra os 5 primeiros alieníginas \n",
        "for alien in nave_mae[:5]: print(alien) \n",
        "print(\" \")\n",
        "\n",
        "# Mostra quantos alieníginas foram criados\n",
        "print(\"O total de aliens foi: \" + str(len(nave_mae)))\n",
        "\n",
        "nave1_mae = []\n",
        "# Cria 30 alienígenas verdes\n",
        "for add_alien in range(0,30):\n",
        "  new_alien = {'color':'green', 'points':5,'speed':'slow'}\n",
        "  nave1_mae.append(new_alien)"
      ],
      "execution_count": null,
      "outputs": [
        {
          "output_type": "stream",
          "text": [
            "{'color': 'green', 'points': 5, 'speed': 'slow'}\n",
            "{'color': 'green', 'points': 5, 'speed': 'slow'}\n",
            "{'color': 'green', 'points': 5, 'speed': 'slow'}\n",
            "{'color': 'green', 'points': 5, 'speed': 'slow'}\n",
            "{'color': 'green', 'points': 5, 'speed': 'slow'}\n",
            " \n",
            "O total de aliens foi: 30\n"
          ],
          "name": "stdout"
        }
      ]
    },
    {
      "cell_type": "markdown",
      "metadata": {
        "id": "ygAfbkBS8PQ6"
      },
      "source": [
        "## Faça você mesmo"
      ]
    },
    {
      "cell_type": "code",
      "metadata": {
        "colab": {
          "base_uri": "https://localhost:8080/"
        },
        "id": "U2-hEdtk8OyR",
        "outputId": "5a4d4b51-2cff-4753-da13-6590cb90b3e8"
      },
      "source": [
        "glossario = {'dicionário':'livro que guarda significados', \n",
        "             'python':'linguagem de programação',\n",
        "             'modelar':'dar forma a algo',\n",
        "             'programação':'modo de se comunicar',\n",
        "             'set':'apresenta os valores únicos de um dicionário',\n",
        "             'item':'retorna ambos os valores da lista',\n",
        "             'values':'retorna somente os valores da lista'\n",
        "             }\n",
        "\n",
        "for palavra,significado in glossario.items():\n",
        "  print('A palavra é: ' + palavra)\n",
        "  print('seu significado é: ' + significado + '\\n')"
      ],
      "execution_count": null,
      "outputs": [
        {
          "output_type": "stream",
          "text": [
            "A palavra é: dicionário\n",
            "seu significado é: livro que guarda significados\n",
            "\n",
            "A palavra é: python\n",
            "seu significado é: linguagem de programação\n",
            "\n",
            "A palavra é: modelar\n",
            "seu significado é: dar forma a algo\n",
            "\n",
            "A palavra é: programação\n",
            "seu significado é: modo de se comunicar\n",
            "\n",
            "A palavra é: set\n",
            "seu significado é: apresenta os valores únicos de um dicionário\n",
            "\n",
            "A palavra é: item\n",
            "seu significado é: retorna ambos os valores da lista\n",
            "\n",
            "A palavra é: values\n",
            "seu significado é: retorna somente os valores da lista\n",
            "\n"
          ],
          "name": "stdout"
        }
      ]
    },
    {
      "cell_type": "code",
      "metadata": {
        "colab": {
          "base_uri": "https://localhost:8080/"
        },
        "id": "jQYPHz5cDGDZ",
        "outputId": "3cf0fcef-cd8e-4484-8bd8-978bbb55a66d"
      },
      "source": [
        "rios = {'amazonas':'amazonas','tapajós':'santarém','são francisco':'ceará'}\n",
        "for rio,estado in rios.items():\n",
        "  print('Esse ' + rio.title() + ' é minha rua, no estado do ' + estado.title() + '\\n')\n",
        "\n",
        "for estado in rios.values(): ## nome do estado\n",
        "  print('Estado: ' + estado.title())\n",
        "\n",
        "for rio in rios.keys(): ## nome do rio\n",
        "  print('Rio: ' + rio.title())"
      ],
      "execution_count": null,
      "outputs": [
        {
          "output_type": "stream",
          "text": [
            "Esse Amazonas é minha rua, no estado do Amazonas\n",
            "\n",
            "Esse Tapajós é minha rua, no estado do Santarém\n",
            "\n",
            "Esse São Francisco é minha rua, no estado do Ceará\n",
            "\n",
            "Estado: Amazonas\n",
            "Estado: Santarém\n",
            "Estado: Ceará\n",
            "Rio: Amazonas\n",
            "Rio: Tapajós\n",
            "Rio: São Francisco\n"
          ],
          "name": "stdout"
        }
      ]
    },
    {
      "cell_type": "code",
      "metadata": {
        "colab": {
          "base_uri": "https://localhost:8080/"
        },
        "id": "B2ZZv4FGFHHT",
        "outputId": "6301bddb-9b9e-4279-befc-3c95a87fbe67"
      },
      "source": [
        "linguagem_favorita = {\n",
        "    'jen':'python', \n",
        "    'sarah':'c', \n",
        "    'edward':'ruby', \n",
        "    'phil':'python',\n",
        "    'pedro':'c#',\n",
        "    'andré':'react',\n",
        "    'valadares':'javascript',\n",
        "    'jen':'python',                     \n",
        "    }\n",
        "\n",
        "for linguagens in linguagem_favorita.values():\n",
        "  if linguagens == set(linguagem_favorita.keys()):\n",
        "    print('Obrigado por participar: ' + linguagens + '!')\n",
        "  else:\n",
        "    print('Obrigado por participar: ' + linguagens + '!')"
      ],
      "execution_count": null,
      "outputs": [
        {
          "output_type": "stream",
          "text": [
            "Obrigado por participar: python!\n",
            "Obrigado por participar: c!\n",
            "Obrigado por participar: ruby!\n",
            "Obrigado por participar: python!\n",
            "Obrigado por participar: c#!\n",
            "Obrigado por participar: react!\n",
            "Obrigado por participar: javascript!\n"
          ],
          "name": "stdout"
        }
      ]
    },
    {
      "cell_type": "markdown",
      "metadata": {
        "id": "tZR5XCuvDDl6"
      },
      "source": [
        "## Fim: Faça você mesmo"
      ]
    },
    {
      "cell_type": "markdown",
      "metadata": {
        "id": "B29teRt1Aw9j"
      },
      "source": [
        "### Informações aninhadas\n",
        "Serve para colocar um dicionário em outro dicionário, uma lista dentro \n",
        "de um dicionário ou um conjunto de dicionario dentro de outro dicionário"
      ]
    },
    {
      "cell_type": "code",
      "metadata": {
        "colab": {
          "base_uri": "https://localhost:8080/"
        },
        "id": "2Q96f2Rw__gp",
        "outputId": "21610aaf-c932-4f77-d525-be9668b674c8"
      },
      "source": [
        "# Representar vários alienígenas \n",
        "#e suas características dentro de uma lista\n",
        "\n",
        "alien_0 = {'color':'green', 'points':'5'}\n",
        "alien_1 = {'color':'red','points':'10'}\n",
        "alien_2 = {'color':'red','points':'15'} #Dicionário\n",
        "\n",
        "aliens = [alien_0,alien_1,alien_2] #Lista\n",
        "\n",
        "for alien in aliens:\n",
        "  print(alien)\n"
      ],
      "execution_count": null,
      "outputs": [
        {
          "output_type": "stream",
          "text": [
            "{'color': 'green', 'points': '5'}\n",
            "{'color': 'red', 'points': '10'}\n",
            "{'color': 'red', 'points': '15'}\n"
          ],
          "name": "stdout"
        }
      ]
    },
    {
      "cell_type": "code",
      "metadata": {
        "colab": {
          "base_uri": "https://localhost:8080/"
        },
        "id": "r8vG_Ii4E5sS",
        "outputId": "cfe25c20-cd21-48d4-abd8-4fce6892f613"
      },
      "source": [
        "# Cria uma lista de alienígenas vazia\n",
        "aliens = []\n",
        "#Cria 30 alienigenas verdes\n",
        "for alien_number in range(30):\n",
        "  new_alien = {'color':'green','points':'5','speed':'slow'}\n",
        "  aliens.append(new_alien)\n",
        "#Mostra os 5 primeiros alienígenas\n",
        "for primeiros in aliens[:5]:\n",
        "  print(primeiros) \n",
        "print('...')\n",
        "#MOstra quantos alienígenas foram criados\n",
        "print(\"Número total de alienígenas: \" + str(len(aliens)))"
      ],
      "execution_count": null,
      "outputs": [
        {
          "output_type": "stream",
          "text": [
            "{'color': 'green', 'points': '5', 'speed': 'slow'}\n",
            "{'color': 'green', 'points': '5', 'speed': 'slow'}\n",
            "{'color': 'green', 'points': '5', 'speed': 'slow'}\n",
            "{'color': 'green', 'points': '5', 'speed': 'slow'}\n",
            "{'color': 'green', 'points': '5', 'speed': 'slow'}\n",
            "...\n",
            "Número total de alienígenas: 30\n"
          ],
          "name": "stdout"
        }
      ]
    },
    {
      "cell_type": "code",
      "metadata": {
        "colab": {
          "base_uri": "https://localhost:8080/"
        },
        "id": "hZn3n73rGrCP",
        "outputId": "6bca0356-5fc4-4a2a-85fc-4e68c63281eb"
      },
      "source": [
        "# Mudar a cor dos 3 primeiros para amarelo\n",
        "#velocidade média e 10 pontos\n",
        "for alien in aliens[0:3]:\n",
        "  if alien['color'] == 'green':\n",
        "    alien['color'] = 'yellow'\n",
        "    alien['speed'] = 'medium'\n",
        "    alien['points'] = '10'\n",
        "  elif alien['color'] == 'yellow':\n",
        "    alien['color'] = 'red'\n",
        "    alien['speed'] = 'fast'\n",
        "    alien['points'] = '15'\n",
        "# Printa os 5 primeiros para avaliar\n",
        "for alien_cor in aliens[0:5]:\n",
        "  print(alien_cor)\n",
        "print('...')"
      ],
      "execution_count": null,
      "outputs": [
        {
          "output_type": "stream",
          "text": [
            "{'color': 'red', 'points': '15', 'speed': 'fast'}\n",
            "{'color': 'red', 'points': '15', 'speed': 'fast'}\n",
            "{'color': 'red', 'points': '15', 'speed': 'fast'}\n",
            "{'color': 'green', 'points': '5', 'speed': 'slow'}\n",
            "{'color': 'green', 'points': '5', 'speed': 'slow'}\n",
            "...\n"
          ],
          "name": "stdout"
        }
      ]
    },
    {
      "cell_type": "markdown",
      "metadata": {
        "id": "hD0z9LNRK5I2"
      },
      "source": [
        "É comum armazenar várias características de um objeto dentro\n",
        "de um dicionário. Para ter vários desses objetos, eles podem ser armazenado dentro de uma lista. Como um exemplo de ter dicionários\n",
        "com vários usuários e suas características e colocar todos esses dicionários dentro de listas"
      ]
    },
    {
      "cell_type": "markdown",
      "metadata": {
        "id": "0YOiaE7aR6nT"
      },
      "source": [
        "## Uma lista em um dicionário\n",
        "Ás vezes é coveniente colocar uma lista dentro de um dicionário. Assim você\n",
        "adiciona lista de características associadas a uma chave e não somente terá\n",
        "uma lista simples de características. Serve para alinhar mais de um valor a\n",
        "uma chave"
      ]
    },
    {
      "cell_type": "code",
      "metadata": {
        "colab": {
          "base_uri": "https://localhost:8080/"
        },
        "id": "ae9TG54tR6LX",
        "outputId": "de8b283a-3807-40fc-b2f8-c9a530ed3905"
      },
      "source": [
        "## Informações sobre uma  Pizza que tá sendo pedida\n",
        "pizza = {'borda':'fina','extras':['cogumelo','queijo extra'],}\n",
        "## Resumo do pedido\n",
        "print(\"Você pediu uma pizza com borda: \" + str(pizza['borda']) + \" e com os seguintes ingredientes extras \" + str(pizza['extras']))\n",
        "for ingredientes in pizza['extras']:\n",
        "  print(\"\\t\" + ingredientes)"
      ],
      "execution_count": null,
      "outputs": [
        {
          "output_type": "stream",
          "text": [
            "Você pediu uma pizza com borda: fina e com os seguintes ingredientes extras ['cogumelo', 'queijo extra']\n",
            "\tcogumelo\n",
            "\tqueijo extra\n",
            "dict_values(['fina', ['cogumelo', 'queijo extra']])\n"
          ],
          "name": "stdout"
        }
      ]
    },
    {
      "cell_type": "code",
      "metadata": {
        "colab": {
          "base_uri": "https://localhost:8080/"
        },
        "id": "cOC31IMTVexn",
        "outputId": "46dc8f52-26ef-4b25-aa99-50bcede7062f"
      },
      "source": [
        "## Mais de uma linguagem favorita\n",
        "linguagem_favorita = {'jen':['python','c#'],'joana':['java','ruby'],'pedro':['android','ios']}\n",
        "\n",
        "for name,linguagens in linguagem_favorita.items():\n",
        "  print(\"\\n\" + name.title() + \", prefere: \")\n",
        "  for linguagem in linguagens:\n",
        "    print(\"\\t\" + linguagem.title())\n"
      ],
      "execution_count": null,
      "outputs": [
        {
          "output_type": "stream",
          "text": [
            "\n",
            "Jen, prefere: \n",
            "\tPython\n",
            "\tC#\n",
            "\n",
            "Joana, prefere: \n",
            "\tJava\n",
            "\tRuby\n",
            "\n",
            "Pedro, prefere: \n",
            "\tAndroid\n",
            "\tIos\n"
          ],
          "name": "stdout"
        }
      ]
    },
    {
      "cell_type": "markdown",
      "metadata": {
        "id": "sznmZGTUv10I"
      },
      "source": [
        "### Um dicionário em um dicionário\n",
        "Tomar cuidado, poque o código pode ficar complicado."
      ]
    },
    {
      "cell_type": "code",
      "metadata": {
        "colab": {
          "base_uri": "https://localhost:8080/"
        },
        "id": "467e9XtJv5WX",
        "outputId": "6b9b5049-e6b5-4157-a0dd-ebd6886e8ade"
      },
      "source": [
        "users = {'aeinstein':{'first':'albert','last':'einsten','location':'princeton'},'mcurie':{'first':'marie','last':'curie','location':'paris'}}\n",
        "for username, user_info in users.items(): ## Vai pegar os dois valoers\n",
        "  print(\"\\nUsername: \" + username)\n",
        "  full_name = user_info['first'] + \" \" + user_info['last'] # Formata de forma\n",
        "  #elegante para o usuários final\n",
        "  location = user_info['location']\n",
        "  print(\"\\tFull name: \" + full_name.title())\n",
        "  print(\"\\tLocation: \" + location.title())"
      ],
      "execution_count": 2,
      "outputs": [
        {
          "output_type": "stream",
          "text": [
            "\n",
            "Username: aeinstein\n",
            "\tFull name: Albert Einsten\n",
            "\tLocation: Princeton\n",
            "\n",
            "Username: mcurie\n",
            "\tFull name: Marie Curie\n",
            "\tLocation: Paris\n"
          ],
          "name": "stdout"
        }
      ]
    },
    {
      "cell_type": "markdown",
      "metadata": {
        "id": "N4xZa8lByUjP"
      },
      "source": [
        "# FAÇA VOCÊ MESMO\n",
        "6.7 (6.1- use um dicionário para armazenar infos de pessoas: primeiro nome, último nome, idade e cidade. Mostre cada info armazenada) Crie dois novos dicinoários que representem pessoas diferentes e armazene os 3 dicionários em uma lista chamada people. Percorra sua lista com um laço. Apresente tudo o que você sabe sobre a pessoa\n"
      ]
    },
    {
      "cell_type": "code",
      "metadata": {
        "colab": {
          "base_uri": "https://localhost:8080/"
        },
        "id": "TmKy5F1pzfbl",
        "outputId": "9d31bfe0-354d-4dba-a3e0-95267a75511a"
      },
      "source": [
        "## 6.7\n",
        "julia = {'firt_name':'julia', 'last_name':'trindade','age':'25','city':'são paulo'}\n",
        "adriana = {'firt_name':'adriana', 'last_name':'sá','age':'43','city':'ananindeua'}\n",
        "luiz = {'firt_name':'luiz', 'last_name':'sá','age':'26','city':'ananindeua'}\n",
        "people = [julia, adriana, luiz]\n",
        "x=0\n",
        "for items in people[0:3]: ## I could use len(people) to use the 'for' smarter\n",
        "  name, surname, age1,city = people[x].values() ## Passa os itens para variáveis \n",
        "  print(\"Oi, meu nome completo é \" + str(name.title()) + \" \" + str(surname.title()) + \". Tenho \" + str(age1) + \" de idade e moro em \" + str(city.title()))\n",
        "  x=x+1"
      ],
      "execution_count": 22,
      "outputs": [
        {
          "output_type": "stream",
          "text": [
            "Oi, meu nome completo é Julia Trindade. Tenho 25 de idade e moro em São Paulo\n",
            "Oi, meu nome completo é Adriana Sá. Tenho 43 de idade e moro em Ananindeua\n",
            "Oi, meu nome completo é Luiz Sá. Tenho 26 de idade e moro em Ananindeua\n"
          ],
          "name": "stdout"
        }
      ]
    },
    {
      "cell_type": "code",
      "metadata": {
        "colab": {
          "base_uri": "https://localhost:8080/"
        },
        "id": "XVZBqe3F9AO4",
        "outputId": "7d1ab699-7920-4e31-b349-590098bf9d49"
      },
      "source": [
        "## 6.8. Animais de estimação\n",
        "gordinha = {'person':'luiz','type':'gato'}\n",
        "wilson = {'person':'julia','type':'cachorro'}\n",
        "jaquin = {'person':'lara','type':'papagaio'}\n",
        "kiko = {'person':'wagner','type':'elefante'}\n",
        "pets = [gordinha, wilson, jaquin,kiko]\n",
        "x=0\n",
        "for animals in pets[0:len(pets)]:\n",
        "  person, race = pets[x].values()\n",
        "  print(\"I'm responsible for \" + str(race.title()) + \" and my name is \" + str(person.title()))\n",
        "  x=x+1\n"
      ],
      "execution_count": 29,
      "outputs": [
        {
          "output_type": "stream",
          "text": [
            "I'm responsible for Gato and my name is Luiz\n",
            "I'm responsible for Cachorro and my name is Julia\n",
            "I'm responsible for Papagaio and my name is Lara\n",
            "I'm responsible for Elefante and my name is Wagner\n"
          ],
          "name": "stdout"
        }
      ]
    },
    {
      "cell_type": "code",
      "metadata": {
        "colab": {
          "base_uri": "https://localhost:8080/"
        },
        "id": "Q0698_zFCd9J",
        "outputId": "9ba98d40-b1b0-4130-8336-44284869864d"
      },
      "source": [
        "## 6.9 Lugares favoritos\n",
        "favorite_places = {'joana':['russia','portugal','espanha'], 'arlindo':['ucrania','macedonia','egito'], 'carlos':['india','italia','polonia'], }\n",
        "for person,places in favorite_places.items():\n",
        "  new_places = [i.title() for i in places]\n",
        "  print(\"My name is \" + person.title() + \"and I love \", *new_places, \"\\n\")\n",
        "  for place in places[0:len(places)]:\n",
        "    print(\"I love \" + place.title())\n",
        "\n",
        "\n",
        "# Learnings: \n",
        "# 1. I've tried to 'slice' the 'dict' in the 'for', but it wasn't\n",
        "# possible, since dictionaries needs the key to be acessed and not by the position\n",
        "# 2. No for eu perdi um bom tempo pensando como poderia passar por todo o dicionário\n",
        "# mas a solução, é só colocar o dicionário no segundo argumento do 'for' como ficou acima. \n",
        "# 3. E fazer as validações que precisa dentro do laço\n",
        "# dict.get(chave,resposta se não achar)\n",
        "# 4. When you insert * in front of a list, you'll be able to \"unpack\" the list\n",
        "# like you would printing (list[0],list[1],list[2])\n",
        "# 5. Print strings inside a list of strings with the new_list = [i.title() for i in old_list]"
      ],
      "execution_count": 70,
      "outputs": [
        {
          "output_type": "stream",
          "text": [
            "My name is Joanaand I love  Russia Portugal Espanha \n",
            "\n",
            "I love Russia\n",
            "I love Portugal\n",
            "I love Espanha\n",
            "My name is Arlindoand I love  Ucrania Macedonia Egito \n",
            "\n",
            "I love Ucrania\n",
            "I love Macedonia\n",
            "I love Egito\n",
            "My name is Carlosand I love  India Italia Polonia \n",
            "\n",
            "I love India\n",
            "I love Italia\n",
            "I love Polonia\n"
          ],
          "name": "stdout"
        }
      ]
    },
    {
      "cell_type": "code",
      "metadata": {
        "id": "dHqGCcLgZNYu"
      },
      "source": [
        "## 6.10"
      ],
      "execution_count": 74,
      "outputs": []
    },
    {
      "cell_type": "code",
      "metadata": {
        "id": "pXAZOPfjZQEn"
      },
      "source": [
        "## 6.11"
      ],
      "execution_count": 72,
      "outputs": []
    },
    {
      "cell_type": "code",
      "metadata": {
        "id": "-R-gczM3ZSoZ"
      },
      "source": [
        "## 6.12"
      ],
      "execution_count": 71,
      "outputs": []
    }
  ]
}