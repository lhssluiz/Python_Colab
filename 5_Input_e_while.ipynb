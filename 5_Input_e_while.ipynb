{
  "nbformat": 4,
  "nbformat_minor": 0,
  "metadata": {
    "colab": {
      "name": "5. Input_e_while.ipynb",
      "provenance": [],
      "authorship_tag": "ABX9TyPUwamFi4XBrbdPokIA/rE0",
      "include_colab_link": true
    },
    "kernelspec": {
      "name": "python3",
      "display_name": "Python 3"
    },
    "language_info": {
      "name": "python"
    }
  },
  "cells": [
    {
      "cell_type": "markdown",
      "metadata": {
        "id": "view-in-github",
        "colab_type": "text"
      },
      "source": [
        "<a href=\"https://colab.research.google.com/github/lhssluiz/Python_Colab/blob/main/5_Input_e_while.ipynb\" target=\"_parent\"><img src=\"https://colab.research.google.com/assets/colab-badge.svg\" alt=\"Open In Colab\"/></a>"
      ]
    },
    {
      "cell_type": "markdown",
      "metadata": {
        "id": "nP1IulqNS0WC"
      },
      "source": [
        "Best practice for comments: https://www.cs.utah.edu/~germain/PPS/Topics/commenting.html\n",
        "\n",
        "+5 hours of programming\n",
        "\n",
        "## Neste capítulo aprenderemos sobre a função input e o laço while\n",
        "O input() faz uma pausa no programa e depois guarda em uma variável para\n",
        "que possamos trabalhar com ele posteriormente."
      ]
    },
    {
      "cell_type": "code",
      "metadata": {
        "colab": {
          "base_uri": "https://localhost:8080/"
        },
        "id": "n4NYjRAHShLG",
        "outputId": "3f05b15f-b835-441a-9d71-4c6e427e9362"
      },
      "source": [
        "message = input(\"Tell me something, and I'll repeat it back to you: \")\n",
        "print(message)"
      ],
      "execution_count": null,
      "outputs": [
        {
          "output_type": "stream",
          "text": [
            "Tell me something, and I'll repeat it back to you: Balada!\n",
            "Balada!\n"
          ],
          "name": "stdout"
        }
      ]
    },
    {
      "cell_type": "markdown",
      "metadata": {
        "id": "ldWt0lXZUn5N"
      },
      "source": [
        "### Escrevendo prompts claros\n",
        "É importante que a mensagem seja muito clara. "
      ]
    },
    {
      "cell_type": "code",
      "metadata": {
        "colab": {
          "base_uri": "https://localhost:8080/"
        },
        "id": "M_seT3tgT5Gm",
        "outputId": "6382bb6c-ae35-437d-c2b0-5977e65335cf"
      },
      "source": [
        "\n",
        "name = input(\"Please tell me your name: \")\n",
        "print(\"Hello, \" + name)"
      ],
      "execution_count": null,
      "outputs": [
        {
          "output_type": "stream",
          "text": [
            "Please tell me your name: Luiz\n",
            "Hello, Luiz\n"
          ],
          "name": "stdout"
        }
      ]
    },
    {
      "cell_type": "markdown",
      "metadata": {
        "id": "FqUw3xIXU5Tj"
      },
      "source": [
        "Ás vezes você pode querer usar mais de uma linha no seu prompt, para isto:\n",
        "passe seu prompt para uma variável e passe ela para a input()"
      ]
    },
    {
      "cell_type": "code",
      "metadata": {
        "colab": {
          "base_uri": "https://localhost:8080/"
        },
        "id": "YU-R137YU6Eh",
        "outputId": "5662df03-da34-491c-e75c-41fabbf35bad"
      },
      "source": [
        "prompt= \"If you tell us who you are, we can personalize the messages you see.\"\n",
        "prompt+=\"\\nWhat is your first name? \" # O operador \"+=\" acrescenta uma nova linha\n",
        "                                      # no final da string que estava armazeada prompt\n",
        "name = input(prompt)\n",
        "print(\"\\nHello, \" + name + \"!\")"
      ],
      "execution_count": null,
      "outputs": [
        {
          "output_type": "stream",
          "text": [
            "If you tell us who you are, we can personalize the messages you see.\n",
            "What is your first name? Luiz \n",
            "\n",
            "Hello, Luiz !\n"
          ],
          "name": "stdout"
        }
      ]
    },
    {
      "cell_type": "markdown",
      "metadata": {
        "id": "mAYrDPuBbOS4"
      },
      "source": [
        "## usando o int() para aceitar entadas numéricas"
      ]
    },
    {
      "cell_type": "code",
      "metadata": {
        "colab": {
          "base_uri": "https://localhost:8080/"
        },
        "id": "bOJRmXPVbR5h",
        "outputId": "4ed0e193-c269-4a8e-8d2e-23fe8303cc19"
      },
      "source": [
        "age = input(\"How old are you? \")\n",
        "age = int(age)\n",
        "age >=18"
      ],
      "execution_count": null,
      "outputs": [
        {
          "output_type": "stream",
          "text": [
            "How old are you? 21\n"
          ],
          "name": "stdout"
        },
        {
          "output_type": "execute_result",
          "data": {
            "text/plain": [
              "True"
            ]
          },
          "metadata": {
            "tags": []
          },
          "execution_count": 10
        }
      ]
    },
    {
      "cell_type": "code",
      "metadata": {
        "colab": {
          "base_uri": "https://localhost:8080/"
        },
        "id": "bSFitEASb6Ki",
        "outputId": "d1e234f6-2b25-4114-90f3-4476080dbdda"
      },
      "source": [
        "# Andar numa montanha russa\n",
        "height = input(\"How tall are you, in centimeters? \")\n",
        "height = int(height)\n",
        "if height >= 120:\n",
        "  print(\"Very good, you'll be able to live this adventure! \")\n",
        "else:\n",
        "  print(\"Oh no! At this moment you cannot take this risk! \")"
      ],
      "execution_count": null,
      "outputs": [
        {
          "output_type": "stream",
          "text": [
            "How tall are you, in centimeters? 160\n",
            "Very good, you'll be able to live this adventure! \n"
          ],
          "name": "stdout"
        }
      ]
    },
    {
      "cell_type": "markdown",
      "metadata": {
        "id": "eyNMJIXOdTgw"
      },
      "source": [
        "## Operador de módulo -> %\n",
        "É útil para trabalhar com informações numéricas. Divide um número pelo outro e devolve o resto"
      ]
    },
    {
      "cell_type": "code",
      "metadata": {
        "colab": {
          "base_uri": "https://localhost:8080/"
        },
        "id": "eksR1e4v2sP8",
        "outputId": "981123be-adae-4e59-8a2e-0eec9adf1e1b"
      },
      "source": [
        "4 % 3\n",
        "\n",
        "# Determinar se um número é par ou ímpar\n",
        "number = input(\"Insert a number to check if is odd or even: \")\n",
        "number = int(number)\n",
        "if number % 2 == 0:\n",
        "  print(\"This number is even! \")\n",
        "else:\n",
        "  print(\"This number is odd! \")\n",
        "\n",
        "# Para python 2.7 o input se chama raw_input()"
      ],
      "execution_count": null,
      "outputs": [
        {
          "output_type": "stream",
          "text": [
            "Insert a number to check if is odd or even: 1250\n",
            "This number is odd! \n"
          ],
          "name": "stdout"
        }
      ]
    },
    {
      "cell_type": "markdown",
      "metadata": {
        "id": "3Hj8bm3n35uq"
      },
      "source": [
        "## Faça você mesmo"
      ]
    },
    {
      "cell_type": "code",
      "metadata": {
        "colab": {
          "base_uri": "https://localhost:8080/"
        },
        "id": "UxbvDtNY38xs",
        "outputId": "8f7c1e4a-87b3-49a0-b291-af29d97aa73b"
      },
      "source": [
        "#7.1 - Locação de automóveis\n",
        "car = input(\"Which kind of car do you like? \")\n",
        "print(\"Oh my god, \" + car + \" is awesome\")"
      ],
      "execution_count": null,
      "outputs": [
        {
          "output_type": "stream",
          "text": [
            "Which kind of car do you like? Corsa\n",
            "Oh my god, Corsa is awesome\n"
          ],
          "name": "stdout"
        }
      ]
    },
    {
      "cell_type": "code",
      "metadata": {
        "colab": {
          "base_uri": "https://localhost:8080/"
        },
        "id": "o68IUjOI4XX8",
        "outputId": "060eb8de-f6c7-441c-8d8f-d6fe8953c0c7"
      },
      "source": [
        "#7.2 Lugares em um restaurante\n",
        "dinner = input(\"How many people do you have to dinner? \")\n",
        "dinner = int(dinner)\n",
        "if dinner > 8:\n",
        "  print(\"You'll need to wait a little, ok? \")\n",
        "else: \n",
        "  print(\"Perfect, we have places to you\")"
      ],
      "execution_count": null,
      "outputs": [
        {
          "output_type": "stream",
          "text": [
            "How many people do you have to dinner? 7\n",
            "Perfect we have places to you\n"
          ],
          "name": "stdout"
        }
      ]
    },
    {
      "cell_type": "code",
      "metadata": {
        "colab": {
          "base_uri": "https://localhost:8080/"
        },
        "id": "PCM7XH2R43HB",
        "outputId": "c6310ef4-851f-41b6-9a8e-1bddd8c48cde"
      },
      "source": [
        "# 7.3\n",
        "ten_multiple = input(\"Insert any number here and I'll tell you if it is ten multiple: \")\n",
        "ten_multiple = int(ten_multiple)\n",
        "if ten_multiple % 5 == 0:\n",
        "  print(\"This number is a 10 multiple\")\n",
        "else:\n",
        "  print(\"This number isn't a 10 multiple\")"
      ],
      "execution_count": null,
      "outputs": [
        {
          "output_type": "stream",
          "text": [
            "Insert any number here and I'll tell you if it is ten multiple: 30\n",
            "This number is a 10 multiple\n"
          ],
          "name": "stdout"
        }
      ]
    },
    {
      "cell_type": "markdown",
      "metadata": {
        "id": "GfjHpi_qnhMQ"
      },
      "source": [
        "## Laços While\n",
        "Enquanto uma condição não á alcançada, o laço estará rodando"
      ]
    },
    {
      "cell_type": "code",
      "metadata": {
        "colab": {
          "base_uri": "https://localhost:8080/"
        },
        "id": "JWvsmSvznrZH",
        "outputId": "ede67c7b-1c8c-488e-98d2-8b8adf2b7e5f"
      },
      "source": [
        "this_number = 1 # primeiro define a variável\n",
        "while this_number <= 5: # Enquanto não for verdadeiro, fica no laço\n",
        "  print(this_number)\n",
        "  this_number+=1 # += é o operador de adição"
      ],
      "execution_count": null,
      "outputs": [
        {
          "output_type": "stream",
          "text": [
            "0\n",
            "1\n",
            "2\n",
            "3\n",
            "4\n",
            "5\n"
          ],
          "name": "stdout"
        }
      ]
    },
    {
      "cell_type": "markdown",
      "metadata": {
        "id": "xVOYeUSmo05V"
      },
      "source": [
        "#### Deixando o usuário decidir quando quer sair"
      ]
    },
    {
      "cell_type": "code",
      "metadata": {
        "colab": {
          "base_uri": "https://localhost:8080/"
        },
        "id": "qnaBLly0o41L",
        "outputId": "923c21f2-95a7-4424-9b07-4a24957be074"
      },
      "source": [
        "# Adiciona a primeira mensagem a aparecer para o usuário\n",
        "prompt = \"\\nTell me something, and I will repeat it to you. \" \n",
        "prompt += \"\\n Enter 'quit' do end the program: \" #Adiciona a segunda linha,\n",
        "                                                # Por isto a adição\n",
        "message = \"\"              ## <- Deixa message vazia\n",
        "while message != 'quit':  # <- operador de diferença\n",
        "  message = input(prompt) # <- Apresenta a mensagem de input e recebe o dado\n",
        "  print(message)          # <- Imprime o que o user envia\n",
        "  if message == 'quit':\n",
        "    print(\"\\nAcabamos por aqui\")\n",
        "  else:\n",
        "    print(\"\\nContinue digitando ... \")"
      ],
      "execution_count": null,
      "outputs": [
        {
          "output_type": "stream",
          "text": [
            "\n",
            "Tell me something, and I will repeat it to you. \n",
            " Enter 'quit' do end the program: Alô Brasil\n",
            "Alô Brasil\n",
            "\n",
            "Continue digitando ... \n",
            "\n",
            "Tell me something, and I will repeat it to you. \n",
            " Enter 'quit' do end the program: Fiz um teste\n",
            "Fiz um teste\n",
            "\n",
            "Continue digitando ... \n",
            "\n",
            "Tell me something, and I will repeat it to you. \n",
            " Enter 'quit' do end the program: quit\n",
            "quit\n",
            "\n",
            "Acabamos por aqui\n"
          ],
          "name": "stdout"
        }
      ]
    },
    {
      "cell_type": "markdown",
      "metadata": {
        "id": "PxpG5jNrq_fo"
      },
      "source": [
        "#### Usando uma flag\n",
        "Serve para fechar o while depois de muitas condições. Ela serve como um\n",
        "sinal para o programa encerrar"
      ]
    },
    {
      "cell_type": "code",
      "metadata": {
        "colab": {
          "base_uri": "https://localhost:8080/"
        },
        "id": "LjYVWL-prLhR",
        "outputId": "a3d898e1-8d13-4ee5-83a0-bea42d42e2ae"
      },
      "source": [
        "prompt = \"\\nTell me something, and I will repeat it to you. \" \n",
        "prompt += \"\\n Enter 'quit' do end the program:\"\n",
        "active = True\n",
        "while active:             # <- Deixando só essa variável eu posso testar várias\n",
        "                          # dentro do programa para alterar só essa\n",
        "  message = input(prompt)\n",
        "  if message == 'quit':   # Os outros testes podem ser feitos com elif\n",
        "    active = False\n",
        "  else:\n",
        "    print(message)"
      ],
      "execution_count": null,
      "outputs": [
        {
          "output_type": "stream",
          "text": [
            "\n",
            "Tell me something, and I will repeat it to you. \n",
            " Enter 'quit' do end the program:Teste\n",
            "Teste\n",
            "\n",
            "Tell me something, and I will repeat it to you. \n",
            " Enter 'quit' do end the program:Arroz\n",
            "Arroz\n",
            "\n",
            "Tell me something, and I will repeat it to you. \n",
            " Enter 'quit' do end the program:quit\n"
          ],
          "name": "stdout"
        }
      ]
    },
    {
      "cell_type": "markdown",
      "metadata": {
        "id": "iAUnnYLLsxaA"
      },
      "source": [
        "#### Break\n",
        "Serve para executar uma parte do código quando você quer ou dar pulos\n",
        "para que possa executar outras partes. Não é adequado usá-la em quantidade, \n",
        "na verdade o recomendado é evitar"
      ]
    },
    {
      "cell_type": "code",
      "metadata": {
        "colab": {
          "base_uri": "https://localhost:8080/"
        },
        "id": "mK0GoP5ztC7w",
        "outputId": "1f3d021f-4ff6-45fd-b2bc-ca63c1e1a01c"
      },
      "source": [
        "prompt = \"\\n Please enter the name of a city you have visited: \"\n",
        "prompt += \"\\n Enter 'quit' to finish the program: \"\n",
        "\n",
        "while True:\n",
        "  city = input(prompt)\n",
        "  if city == 'quit':\n",
        "    break\n",
        "  else:\n",
        "    print(\"I'd love to go to \" + city.title() + \"!\")"
      ],
      "execution_count": null,
      "outputs": [
        {
          "output_type": "stream",
          "text": [
            "\n",
            " Please enter the name of a city you have visited: \n",
            " Enter 'quit' to finish the program: quit\n"
          ],
          "name": "stdout"
        }
      ]
    },
    {
      "cell_type": "markdown",
      "metadata": {
        "id": "ypHNah4tuFS2"
      },
      "source": [
        "#### Usando continue em um laço\n",
        "Em vez de sair totalmente de um laço, podemos usar \"continue\" para retornar ao início"
      ]
    },
    {
      "cell_type": "code",
      "metadata": {
        "colab": {
          "base_uri": "https://localhost:8080/"
        },
        "id": "kGAgwYSYuObO",
        "outputId": "5c037d7a-49e4-4e06-cc19-8d8fe6f4cd77"
      },
      "source": [
        "this_number = 0\n",
        "while this_number < 10:\n",
        "  this_number += 1\n",
        "  if this_number % 2 != 0:\n",
        "    print(this_number)\n",
        "    continue\n",
        "# Aprendizados: Seguindo livro o \"continue\", estava antes do print\n",
        "# com isto o programa ia toda hora para o início e morria após o momento \n",
        "# que o laço se atingisse a condição para acabar\n"
      ],
      "execution_count": null,
      "outputs": [
        {
          "output_type": "stream",
          "text": [
            "1\n",
            "3\n",
            "5\n",
            "7\n",
            "9\n"
          ],
          "name": "stdout"
        }
      ]
    },
    {
      "cell_type": "markdown",
      "metadata": {
        "id": "phWM4Uy5vyU7"
      },
      "source": [
        "#### Evitar loop infinito\n",
        "Para evitar esse erro, teste todos os laços e certifique-se de que ele serão encerrados"
      ]
    },
    {
      "cell_type": "markdown",
      "metadata": {
        "id": "RDG1-GPAxARn"
      },
      "source": [
        "### Faça você mesmo"
      ]
    },
    {
      "cell_type": "code",
      "metadata": {
        "colab": {
          "base_uri": "https://localhost:8080/"
        },
        "id": "TSEusc5jxDu3",
        "outputId": "6fda3db9-e397-4dfc-bad5-787a239ee737"
      },
      "source": [
        "#7.4 Ingredientes par auma pizza\n",
        "prompt = \"\\nHello, what ingredients do you want to add in your pizza? \"\n",
        "prompt += \"\\n When you finish, just type 'quit': \"\n",
        "message = \"\"\n",
        "\n",
        "while message != 'quit':\n",
        "  message = input(prompt)\n",
        "  print(message)"
      ],
      "execution_count": null,
      "outputs": [
        {
          "output_type": "stream",
          "text": [
            "\n",
            "Hello, what ingredients do you want to add in your pizza? \n",
            " When you finish, just type 'quit': Ketchup\n",
            "Ketchup\n",
            "\n",
            "Hello, what ingredients do you want to add in your pizza? \n",
            " When you finish, just type 'quit': Maionese\n",
            "Maionese\n",
            "\n",
            "Hello, what ingredients do you want to add in your pizza? \n",
            " When you finish, just type 'quit': Arroz\n",
            "Arroz\n",
            "\n",
            "Hello, what ingredients do you want to add in your pizza? \n",
            " When you finish, just type 'quit': quit\n",
            "quit\n"
          ],
          "name": "stdout"
        }
      ]
    },
    {
      "cell_type": "code",
      "metadata": {
        "colab": {
          "base_uri": "https://localhost:8080/"
        },
        "id": "hgfbUc7Hz5CU",
        "outputId": "9c616188-a11a-47d1-ace5-de2b8d763c23"
      },
      "source": [
        "# 7.5\n",
        "prompt = \"\\n Qual é a sua idade? \"\n",
        "prompt += \"\\nDigite 'x' para sair: \"\n",
        "age = 0 \n",
        "flag = True\n",
        "\n",
        "while flag:\n",
        "  age = input(prompt)\n",
        "  if age == 'x':\n",
        "      flag= False\n",
        "  else:\n",
        "    age = int(age)\n",
        "    if age <= 3:\n",
        "      print(\"\\nYour ticket is free\")\n",
        "    elif 3 < age <= 12:\n",
        "      print(\"\\nSeu ingresso custa 5 USD\")\n",
        "    else:\n",
        "      print(\"\\n Your ticket is 10USD\")"
      ],
      "execution_count": 8,
      "outputs": [
        {
          "output_type": "stream",
          "text": [
            "\n",
            " Qual é a sua idade? \n",
            "Digite 'x' para sair: 3\n",
            "\n",
            "Your ticket is free\n",
            "\n",
            " Qual é a sua idade? \n",
            "Digite 'x' para sair: 12\n",
            "\n",
            "Seu ingresso custa 5 USD\n",
            "\n",
            " Qual é a sua idade? \n",
            "Digite 'x' para sair: x\n"
          ],
          "name": "stdout"
        }
      ]
    },
    {
      "cell_type": "markdown",
      "metadata": {
        "id": "MFqzecYlGsUO"
      },
      "source": [
        "#### Usando um laço com listas e dicionários\n",
        "Até agora trabalhamos com apenas uma informação de cada vez. No entanto precisamos de listas e dicionários para controlar muitos usuários e informações.\n",
        "O 'for' é eficiente para **percorrer** as listas, mas não se deve usá-lo para modificar uma lista, pois Python terá problemas para manter o controle dos itens da lista. O while é mais indicado, enquanto você trabalha com elas. O *while* permite coletar, armazenar e organizar muitas entradas a fim de analisá-las e apresentá-las posteriormente."
      ]
    },
    {
      "cell_type": "markdown",
      "metadata": {
        "id": "021JPPpfHYOb"
      },
      "source": [
        "#### Transferindo itens de uma lista para outra"
      ]
    },
    {
      "cell_type": "code",
      "metadata": {
        "colab": {
          "base_uri": "https://localhost:8080/"
        },
        "id": "22oNwbXrHUbM",
        "outputId": "a9c90fcd-a0a8-438e-be97-ac354b8e67f0"
      },
      "source": [
        "## usuários confirmados e não confirmados. Transferindo de uma lista para outra\n",
        "# It starts by users that needs confirmation\n",
        "# and with a empty list to save the confirmed users\n",
        "#\n",
        "# Remember: pop erase a item that you can handle\n",
        "# Remember: append add new items at the end\n",
        "##\n",
        "unconfirmed_users = ['alice','brian','candece']\n",
        "confirmed_users = []\n",
        "\n",
        "# Checks each user until there are no more users\n",
        "# Transfers each verified user to the list of verified users\n",
        "while unconfirmed_users:\n",
        "  current_user = unconfirmed_users.pop() \n",
        "  print(\"Verifying user: \"+ current_user.title())\n",
        "  confirmed_users.append(current_user) \n",
        "\n",
        "print(\"\\nThe following user have been confirmed: \")\n",
        "for confirmed_user in confirmed_users:\n",
        "  print(confirmed_user.title())\n",
        "\n",
        "# Learning: Python reads the \"pop\" from the inverse side of the list\n",
        "# it starts from the last position"
      ],
      "execution_count": 13,
      "outputs": [
        {
          "output_type": "stream",
          "text": [
            "Verifying user: Candece\n",
            "Verifying user: Brian\n",
            "Verifying user: Alice\n",
            "\n",
            "The following user have been confirmed: \n",
            "Candece\n",
            "Brian\n",
            "Alice\n"
          ],
          "name": "stdout"
        }
      ]
    },
    {
      "cell_type": "markdown",
      "metadata": {
        "id": "HdQ1__egMUeb"
      },
      "source": [
        "#### Removendo todas as instâncias de valores específicos de uma lista\n",
        "remove() foi útil para remover um valor específico e que aparecia apenas uma vez. E se quisermos remover todos da lista?"
      ]
    },
    {
      "cell_type": "code",
      "metadata": {
        "id": "3TxonEZn3kWp",
        "colab": {
          "base_uri": "https://localhost:8080/"
        },
        "outputId": "f379b167-712f-434a-ce9a-58150ca1f399"
      },
      "source": [
        "# List of animals to totally remove\n",
        "# This list has the value cat a lot of times. \n",
        "# In this case we can remover 'cat' until it'll not be in the list\n",
        "\n",
        "pets = ['dog','cat','dog','goldfish','cat','rabit','cat']\n",
        "print(pets)\n",
        "\n",
        "while 'cat' in pets:\n",
        "  pets.remove('cat')\n",
        "print(pets)\n",
        "\n",
        "# I tried to print like this: pets.title(), but after the mistake\n",
        "# I remembered that it's printing a list and it cannot be printe like this\n",
        "# If I want to format, I needed to send the items to a variable to print"
      ],
      "execution_count": 15,
      "outputs": [
        {
          "output_type": "stream",
          "text": [
            "['dog', 'cat', 'dog', 'goldfish', 'cat', 'rabit', 'cat']\n",
            "['dog', 'dog', 'goldfish', 'rabit']\n"
          ],
          "name": "stdout"
        }
      ]
    },
    {
      "cell_type": "markdown",
      "metadata": {
        "id": "h_qDbKokOFK9"
      },
      "source": [
        "#### Preechendo um dicionário com dados de entrada do usuário\n"
      ]
    },
    {
      "cell_type": "code",
      "metadata": {
        "colab": {
          "base_uri": "https://localhost:8080/"
        },
        "id": "mBUTBGSVOOPC",
        "outputId": "52eae401-b622-49f8-b6b7-a86dae566ac1"
      },
      "source": [
        "# We'll collect as a quizz the name and a answer from the user\n",
        "# we'll save this associating the answer to the name of the user\n",
        "# in a dictionary\n",
        "#\n",
        "# Define a flag do indicate that the poll is valid\n",
        "# Save the answer in a dictionary\n",
        "# Ask if another person will answer the poll\n",
        "# If no, show the result, if yes, fo for another user\n",
        "# Add to the dictionary the key[name] and value[answer]\n",
        "\n",
        "responses = {}\n",
        "polling_active = True\n",
        "while polling_active:\n",
        "  name = input(\"\\nWhat is your name? \")\n",
        "  answer = input(\"Which mountain would you like to clib someday? \")\n",
        "  responses[name] = answer  \n",
        "  repeat = input(\"Would you like to let another person respond? (yes/no)\")\n",
        "  if repeat == 'no':\n",
        "    polling_active = False\n",
        "    print(\"The poll has finished!\")\n",
        "print(\"\\n --- Poll Results ---\")\n",
        "for name,answer in responses.items():\n",
        "    print(str(name).title(), \" would like to climb \", str(answer).title() , \".\")\n",
        "\n",
        "\n",
        "# I had a fool mistake, I was inserting the value as a list,  because\n",
        "# in the line -> responses[name] = [answer], I was adding like this\n",
        "# then I realized it was wrong, after see a lot of solutions, like:\n",
        "# '{value}.format()' or dictionary.get(key)\n",
        "\n",
        "\n"
      ],
      "execution_count": 50,
      "outputs": [
        {
          "output_type": "stream",
          "text": [
            "\n",
            "What is your name? julia\n",
            "Which mountain would you like to clib someday? himalaia\n",
            "Would you like to let another person respond? (yes/no)yes\n",
            "\n",
            "What is your name? luiz\n",
            "Which mountain would you like to clib someday? everest\n",
            "Would you like to let another person respond? (yes/no)no\n",
            "The poll has finished!\n",
            "\n",
            " --- Poll Results ---\n",
            "Julia  would like to climb  Himalaia .\n",
            "Luiz  would like to climb  Everest .\n"
          ],
          "name": "stdout"
        }
      ]
    },
    {
      "cell_type": "markdown",
      "metadata": {
        "id": "MLHsEc7wc5HF"
      },
      "source": [
        "### Faça você mesmo"
      ]
    },
    {
      "cell_type": "code",
      "metadata": {
        "colab": {
          "base_uri": "https://localhost:8080/"
        },
        "id": "ViUyWFCnc7Wn",
        "outputId": "184c7307-a258-4fe7-ce2e-dae5e6f4e86f"
      },
      "source": [
        "# 7.8.0\n",
        "sandwich_orders = [] # This variable is a empty list\n",
        "flag = True\n",
        "test = \"\"\n",
        "while flag:\n",
        "  sandwich = input(\"Type the sandwich: \")\n",
        "  sandwich_orders.append(sandwich)\n",
        "  test = input(\"Do you one more? (yes/no)\")\n",
        "  if test == \"no\":\n",
        "    flag = False\n",
        "# The asterisc prints only the values\n",
        "# sep= is a separator for print\n",
        "print(*sandwich_orders, sep='\\n')\n"
      ],
      "execution_count": 55,
      "outputs": [
        {
          "output_type": "stream",
          "text": [
            "Type the sandwich: Mc Lanche\n",
            "Do you one more? (yes/no)yes\n",
            "Type the sandwich: Mc fritas\n",
            "Do you one more? (yes/no)no\n",
            "Mc Lanche\n",
            "Mc fritas\n"
          ],
          "name": "stdout"
        }
      ]
    },
    {
      "cell_type": "code",
      "metadata": {
        "colab": {
          "base_uri": "https://localhost:8080/"
        },
        "id": "a6ZP1c5lfSDy",
        "outputId": "01bc53cb-8339-4029-da69-f54da64db6d1"
      },
      "source": [
        "# 7.8 Transfer sandwich orders to finished orders and print\n",
        "sandwich_orders = [] # This variable is a empty list\n",
        "flag = True\n",
        "test = \"\"\n",
        "while flag:\n",
        "  sandwich = input(\"Type the sandwich: \")\n",
        "  sandwich_orders.append(sandwich)\n",
        "  test = input(\"Do you one more? (yes/no)\")\n",
        "  if test == \"no\":\n",
        "    flag = False\n",
        "\n",
        "finished_sandwiches = []\n",
        "\n",
        "for burgers in sandwich_orders[0:len(sandwich_orders)]:\n",
        "  change = sandwich_orders.pop()\n",
        "  finished_sandwiches.append(change)\n",
        "  print(\"Your \" ,burgers, \"is ready!\")\n",
        "\n",
        "print(\"_______ Resultado das listas ______\")\n",
        "print(\"Lista de finalizados\" + str(finished_sandwiches))\n",
        "print(\"Lista de ordenados\" + str(sandwich_orders))\n",
        "\n",
        "\n"
      ],
      "execution_count": 62,
      "outputs": [
        {
          "output_type": "stream",
          "text": [
            "Type the sandwich: T1\n",
            "Do you one more? (yes/no)yes\n",
            "Type the sandwich: T2\n",
            "Do you one more? (yes/no)yes\n",
            "Type the sandwich: T3\n",
            "Do you one more? (yes/no)no\n",
            "Your  T1 is ready!\n",
            "Your  T2 is ready!\n",
            "Your  T3 is ready!\n",
            "_______ Resultado das listas ______\n",
            "Lista de finalizados['T3', 'T2', 'T1']\n",
            "Lista de ordenados[]\n"
          ],
          "name": "stdout"
        }
      ]
    },
    {
      "cell_type": "code",
      "metadata": {
        "colab": {
          "base_uri": "https://localhost:8080/"
        },
        "id": "0suX3qS_iVwG",
        "outputId": "5df973b1-a421-43e7-d60f-fc5ff4b1a7b8"
      },
      "source": [
        "#7.9 We don't have pastrami, then erase all pastrami orders\n",
        "sandwich_orders = [] # This variable is a empty list\n",
        "flag = True\n",
        "test = \"\"\n",
        "finished_sandwiches = []\n",
        "\n",
        "while flag:\n",
        "  sandwich = input(\"Type the sandwich: \")\n",
        "  sandwich_orders.append(sandwich)\n",
        "  test = input(\"Do you one more? (yes/no)\")\n",
        "  change = sandwich_orders.pop()\n",
        "  finished_sandwiches.append(change)\n",
        "  if test == \"no\":\n",
        "    flag = False\n",
        "\n",
        "print(\"\\t\\nWe don't have pastrami. \")\n",
        "\n",
        "while 'pastrami' in finished_sandwiches:\n",
        "  finished_sandwiches.remove('pastrami')\n",
        "\n",
        "print(\"\\n\", finished_sandwiches)\n",
        "print(\"\\n\", sandwich_orders)"
      ],
      "execution_count": 66,
      "outputs": [
        {
          "output_type": "stream",
          "text": [
            "Type the sandwich: T1\n",
            "Do you one more? (yes/no)yes\n",
            "Type the sandwich: pastrami\n",
            "Do you one more? (yes/no)T2\n",
            "Type the sandwich: yes\n",
            "Do you one more? (yes/no)pastrami\n",
            "Type the sandwich: T3\n",
            "Do you one more? (yes/no)no\n",
            "\t\n",
            "We don't have pastrami. \n",
            "\n",
            " ['T1', 'yes', 'T3']\n",
            "\n",
            " []\n"
          ],
          "name": "stdout"
        }
      ]
    },
    {
      "cell_type": "code",
      "metadata": {
        "colab": {
          "base_uri": "https://localhost:8080/"
        },
        "id": "x7IHGlEGlX-O",
        "outputId": "7ea38a01-a2d2-4569-8565-03a28c7359c0"
      },
      "source": [
        "# 7.10 Dream vacation. Store it and print\n",
        "# Declaro que dream_vacation é um dicionário e depois sigo\n",
        "# Remind the declaration in the beginning always!\n",
        "\n",
        "flag = True\n",
        "dream_vacation = {}\n",
        "\n",
        "while flag:\n",
        "  name = input(\"\\nWhat's your name? \")\n",
        "  dream_place = input(\"Great, so \" + \n",
        "                       name.title() + \n",
        "                       \" which place in the world would be your dream vacation? \"\n",
        "                       )\n",
        "  dream_vacation[name] = dream_place\n",
        "  test = input(\"\\nDo you want to answer more? (y/n) \")\n",
        "  if test == 'n':\n",
        "    flag = False\n",
        "print(\"\\n\")\n",
        "for person, place in dream_vacation.items():\n",
        "  print(str(person).title(), \" would love to be in \", str(place).title())\n",
        "  "
      ],
      "execution_count": 71,
      "outputs": [
        {
          "output_type": "stream",
          "text": [
            "\n",
            "What's your name? luiz\n",
            "Great, so Luiz which place in the world would be your dream vacation? portugal\n",
            "\n",
            "Do you want to answer more? (y/n) y\n",
            "\n",
            "What's your name? Julia\n",
            "Great, so Julia which place in the world would be your dream vacation? Spain\n",
            "\n",
            "Do you want to answer more? (y/n) n\n",
            "\n",
            "\n",
            "Luiz  would love to be in  Portugal\n",
            "Julia  would love to be in  Spain\n"
          ],
          "name": "stdout"
        }
      ]
    }
  ]
}